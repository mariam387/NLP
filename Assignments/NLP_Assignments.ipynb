{
  "cells": [
    {
      "cell_type": "code",
      "execution_count": null,
      "metadata": {
        "id": "4a26d821"
      },
      "outputs": [],
      "source": [
        "import pandas as pd\n",
        "import numpy as np\n",
        "import nltk\n",
        "from nltk.corpus import stopwords\n",
        "from nltk.stem import WordNetLemmatizer\n",
        "\n",
        "import re\n"
      ]
    },
    {
      "cell_type": "code",
      "execution_count": null,
      "metadata": {
        "colab": {
          "base_uri": "https://localhost:8080/"
        },
        "id": "AGIIwuh6L87h",
        "outputId": "f3e77d49-fa3e-4589-943c-b7e806b8d543"
      },
      "outputs": [
        {
          "name": "stderr",
          "output_type": "stream",
          "text": [
            "[nltk_data] Downloading package punkt to /root/nltk_data...\n",
            "[nltk_data]   Unzipping tokenizers/punkt.zip.\n"
          ]
        }
      ],
      "source": [
        "nltk.download('punkt')\n",
        "from nltk.tokenize import word_tokenize\n"
      ]
    },
    {
      "cell_type": "code",
      "execution_count": null,
      "metadata": {
        "id": "6d5e1f09"
      },
      "outputs": [],
      "source": [
        "df = pd.read_csv(\"data.csv\")"
      ]
    },
    {
      "cell_type": "code",
      "execution_count": null,
      "metadata": {
        "id": "y2d92J-sL_hn"
      },
      "outputs": [],
      "source": [
        "sentences = [\"I ate dinner.\",\n",
        "       \"We had a three-course meal.\",\n",
        "       \"Brad came to dinner with us.\",\n",
        "       \"He loves fish tacos.\",\n",
        "       \"In the end, we all felt like we ate too much.\",\n",
        "       \"We all agreed; it was a magnificent evening.\"]"
      ]
    },
    {
      "cell_type": "markdown",
      "metadata": {
        "id": "4e0229fc"
      },
      "source": [
        "## Bag of Words\n",
        "represents a document as an unordered set of words and their respective frequencies."
      ]
    },
    {
      "cell_type": "code",
      "execution_count": null,
      "metadata": {
        "id": "Xc86aAWTeXZ0"
      },
      "outputs": [],
      "source": [
        "def BagOfWords(Corpus):\n",
        "\n",
        "    # Returns the entire bag of words\n",
        "    BoW = np.array([])\n",
        "    for i in Corpus.index:\n",
        "\n",
        "        text = Corpus.loc[i]\n",
        "\n",
        "        # Identify words in text\n",
        "        text = text.split()\n",
        "\n",
        "        # Concatenate with previously identified texts\n",
        "        BoW = np.concatenate((BoW, np.array(text)), axis = None)\n",
        "        BoW = np.unique(BoW)\n",
        "\n",
        "    return BoW\n"
      ]
    },
    {
      "cell_type": "code",
      "execution_count": null,
      "metadata": {
        "id": "a7f36944"
      },
      "outputs": [],
      "source": [
        "def TransformBoW(df, BoW):\n",
        "\n",
        "    dfBoW = df.copy()\n",
        "\n",
        "    # Transform dataframe into BoW\n",
        "    for word in BoW:\n",
        "        dfBoW[word] = df[\"Comments\"].str.count(word)\n",
        "\n",
        "    # Move y variable to the left\n",
        "    sentiment = dfBoW[\"Sentiment\"]\n",
        "    del dfBoW[\"Sentiment\"], dfBoW[\"Comments\"]\n",
        "    dfBoW[\"Sentiment\"] = sentiment\n",
        "\n",
        "    return dfBoW"
      ]
    },
    {
      "cell_type": "code",
      "execution_count": null,
      "metadata": {
        "colab": {
          "base_uri": "https://localhost:8080/"
        },
        "id": "e3ef148b",
        "outputId": "acb52ed7-566f-44c5-b913-114951b811ce"
      },
      "outputs": [
        {
          "data": {
            "application/vnd.google.colaboratory.intrinsic+json": {
              "type": "dataframe",
              "variable_name": "dfBoW"
            },
            "text/html": [
              "\n",
              "  <div id=\"df-36c0ac40-4b01-4dc6-a5bc-1a925bfab80b\" class=\"colab-df-container\">\n",
              "    <div>\n",
              "<style scoped>\n",
              "    .dataframe tbody tr th:only-of-type {\n",
              "        vertical-align: middle;\n",
              "    }\n",
              "\n",
              "    .dataframe tbody tr th {\n",
              "        vertical-align: top;\n",
              "    }\n",
              "\n",
              "    .dataframe thead th {\n",
              "        text-align: right;\n",
              "    }\n",
              "</style>\n",
              "<table border=\"1\" class=\"dataframe\">\n",
              "  <thead>\n",
              "    <tr style=\"text-align: right;\">\n",
              "      <th></th>\n",
              "      <th>although</th>\n",
              "      <th>amazed</th>\n",
              "      <th>bad</th>\n",
              "      <th>beautiful</th>\n",
              "      <th>bob</th>\n",
              "      <th>caution</th>\n",
              "      <th>clear</th>\n",
              "      <th>concept</th>\n",
              "      <th>definitely</th>\n",
              "      <th>difficult</th>\n",
              "      <th>...</th>\n",
              "      <th>taking</th>\n",
              "      <th>taught</th>\n",
              "      <th>terrible</th>\n",
              "      <th>though</th>\n",
              "      <th>time</th>\n",
              "      <th>trying</th>\n",
              "      <th>understand</th>\n",
              "      <th>warned</th>\n",
              "      <th>way</th>\n",
              "      <th>Sentiment</th>\n",
              "    </tr>\n",
              "  </thead>\n",
              "  <tbody>\n",
              "    <tr>\n",
              "      <th>0</th>\n",
              "      <td>0</td>\n",
              "      <td>0</td>\n",
              "      <td>0</td>\n",
              "      <td>0</td>\n",
              "      <td>0</td>\n",
              "      <td>0</td>\n",
              "      <td>0</td>\n",
              "      <td>0</td>\n",
              "      <td>0</td>\n",
              "      <td>1</td>\n",
              "      <td>...</td>\n",
              "      <td>0</td>\n",
              "      <td>0</td>\n",
              "      <td>0</td>\n",
              "      <td>0</td>\n",
              "      <td>0</td>\n",
              "      <td>0</td>\n",
              "      <td>0</td>\n",
              "      <td>0</td>\n",
              "      <td>0</td>\n",
              "      <td>Negative</td>\n",
              "    </tr>\n",
              "    <tr>\n",
              "      <th>1</th>\n",
              "      <td>0</td>\n",
              "      <td>0</td>\n",
              "      <td>0</td>\n",
              "      <td>0</td>\n",
              "      <td>0</td>\n",
              "      <td>0</td>\n",
              "      <td>0</td>\n",
              "      <td>0</td>\n",
              "      <td>0</td>\n",
              "      <td>0</td>\n",
              "      <td>...</td>\n",
              "      <td>0</td>\n",
              "      <td>0</td>\n",
              "      <td>0</td>\n",
              "      <td>0</td>\n",
              "      <td>0</td>\n",
              "      <td>0</td>\n",
              "      <td>0</td>\n",
              "      <td>0</td>\n",
              "      <td>0</td>\n",
              "      <td>Positive</td>\n",
              "    </tr>\n",
              "    <tr>\n",
              "      <th>2</th>\n",
              "      <td>0</td>\n",
              "      <td>0</td>\n",
              "      <td>0</td>\n",
              "      <td>0</td>\n",
              "      <td>0</td>\n",
              "      <td>0</td>\n",
              "      <td>0</td>\n",
              "      <td>1</td>\n",
              "      <td>0</td>\n",
              "      <td>0</td>\n",
              "      <td>...</td>\n",
              "      <td>0</td>\n",
              "      <td>0</td>\n",
              "      <td>0</td>\n",
              "      <td>0</td>\n",
              "      <td>0</td>\n",
              "      <td>0</td>\n",
              "      <td>0</td>\n",
              "      <td>0</td>\n",
              "      <td>0</td>\n",
              "      <td>Positive</td>\n",
              "    </tr>\n",
              "    <tr>\n",
              "      <th>3</th>\n",
              "      <td>0</td>\n",
              "      <td>0</td>\n",
              "      <td>0</td>\n",
              "      <td>0</td>\n",
              "      <td>0</td>\n",
              "      <td>1</td>\n",
              "      <td>0</td>\n",
              "      <td>0</td>\n",
              "      <td>0</td>\n",
              "      <td>1</td>\n",
              "      <td>...</td>\n",
              "      <td>1</td>\n",
              "      <td>1</td>\n",
              "      <td>0</td>\n",
              "      <td>0</td>\n",
              "      <td>0</td>\n",
              "      <td>0</td>\n",
              "      <td>0</td>\n",
              "      <td>0</td>\n",
              "      <td>0</td>\n",
              "      <td>Negative</td>\n",
              "    </tr>\n",
              "    <tr>\n",
              "      <th>4</th>\n",
              "      <td>0</td>\n",
              "      <td>0</td>\n",
              "      <td>0</td>\n",
              "      <td>0</td>\n",
              "      <td>0</td>\n",
              "      <td>0</td>\n",
              "      <td>0</td>\n",
              "      <td>1</td>\n",
              "      <td>0</td>\n",
              "      <td>0</td>\n",
              "      <td>...</td>\n",
              "      <td>0</td>\n",
              "      <td>0</td>\n",
              "      <td>0</td>\n",
              "      <td>0</td>\n",
              "      <td>1</td>\n",
              "      <td>1</td>\n",
              "      <td>1</td>\n",
              "      <td>0</td>\n",
              "      <td>0</td>\n",
              "      <td>Negative</td>\n",
              "    </tr>\n",
              "    <tr>\n",
              "      <th>5</th>\n",
              "      <td>0</td>\n",
              "      <td>0</td>\n",
              "      <td>0</td>\n",
              "      <td>1</td>\n",
              "      <td>0</td>\n",
              "      <td>0</td>\n",
              "      <td>1</td>\n",
              "      <td>0</td>\n",
              "      <td>0</td>\n",
              "      <td>1</td>\n",
              "      <td>...</td>\n",
              "      <td>0</td>\n",
              "      <td>0</td>\n",
              "      <td>0</td>\n",
              "      <td>0</td>\n",
              "      <td>0</td>\n",
              "      <td>0</td>\n",
              "      <td>0</td>\n",
              "      <td>0</td>\n",
              "      <td>1</td>\n",
              "      <td>Positive</td>\n",
              "    </tr>\n",
              "    <tr>\n",
              "      <th>6</th>\n",
              "      <td>0</td>\n",
              "      <td>0</td>\n",
              "      <td>2</td>\n",
              "      <td>0</td>\n",
              "      <td>1</td>\n",
              "      <td>0</td>\n",
              "      <td>0</td>\n",
              "      <td>0</td>\n",
              "      <td>1</td>\n",
              "      <td>0</td>\n",
              "      <td>...</td>\n",
              "      <td>0</td>\n",
              "      <td>0</td>\n",
              "      <td>0</td>\n",
              "      <td>1</td>\n",
              "      <td>0</td>\n",
              "      <td>0</td>\n",
              "      <td>0</td>\n",
              "      <td>0</td>\n",
              "      <td>0</td>\n",
              "      <td>Negative</td>\n",
              "    </tr>\n",
              "    <tr>\n",
              "      <th>7</th>\n",
              "      <td>1</td>\n",
              "      <td>1</td>\n",
              "      <td>0</td>\n",
              "      <td>0</td>\n",
              "      <td>0</td>\n",
              "      <td>0</td>\n",
              "      <td>0</td>\n",
              "      <td>0</td>\n",
              "      <td>0</td>\n",
              "      <td>0</td>\n",
              "      <td>...</td>\n",
              "      <td>0</td>\n",
              "      <td>0</td>\n",
              "      <td>0</td>\n",
              "      <td>1</td>\n",
              "      <td>0</td>\n",
              "      <td>0</td>\n",
              "      <td>0</td>\n",
              "      <td>1</td>\n",
              "      <td>0</td>\n",
              "      <td>Positive</td>\n",
              "    </tr>\n",
              "    <tr>\n",
              "      <th>8</th>\n",
              "      <td>0</td>\n",
              "      <td>0</td>\n",
              "      <td>0</td>\n",
              "      <td>0</td>\n",
              "      <td>1</td>\n",
              "      <td>0</td>\n",
              "      <td>0</td>\n",
              "      <td>0</td>\n",
              "      <td>0</td>\n",
              "      <td>0</td>\n",
              "      <td>...</td>\n",
              "      <td>0</td>\n",
              "      <td>0</td>\n",
              "      <td>1</td>\n",
              "      <td>0</td>\n",
              "      <td>0</td>\n",
              "      <td>0</td>\n",
              "      <td>0</td>\n",
              "      <td>0</td>\n",
              "      <td>0</td>\n",
              "      <td>Negative</td>\n",
              "    </tr>\n",
              "  </tbody>\n",
              "</table>\n",
              "<p>9 rows × 48 columns</p>\n",
              "</div>\n",
              "    <div class=\"colab-df-buttons\">\n",
              "\n",
              "  <div class=\"colab-df-container\">\n",
              "    <button class=\"colab-df-convert\" onclick=\"convertToInteractive('df-36c0ac40-4b01-4dc6-a5bc-1a925bfab80b')\"\n",
              "            title=\"Convert this dataframe to an interactive table.\"\n",
              "            style=\"display:none;\">\n",
              "\n",
              "  <svg xmlns=\"http://www.w3.org/2000/svg\" height=\"24px\" viewBox=\"0 -960 960 960\">\n",
              "    <path d=\"M120-120v-720h720v720H120Zm60-500h600v-160H180v160Zm220 220h160v-160H400v160Zm0 220h160v-160H400v160ZM180-400h160v-160H180v160Zm440 0h160v-160H620v160ZM180-180h160v-160H180v160Zm440 0h160v-160H620v160Z\"/>\n",
              "  </svg>\n",
              "    </button>\n",
              "\n",
              "  <style>\n",
              "    .colab-df-container {\n",
              "      display:flex;\n",
              "      gap: 12px;\n",
              "    }\n",
              "\n",
              "    .colab-df-convert {\n",
              "      background-color: #E8F0FE;\n",
              "      border: none;\n",
              "      border-radius: 50%;\n",
              "      cursor: pointer;\n",
              "      display: none;\n",
              "      fill: #1967D2;\n",
              "      height: 32px;\n",
              "      padding: 0 0 0 0;\n",
              "      width: 32px;\n",
              "    }\n",
              "\n",
              "    .colab-df-convert:hover {\n",
              "      background-color: #E2EBFA;\n",
              "      box-shadow: 0px 1px 2px rgba(60, 64, 67, 0.3), 0px 1px 3px 1px rgba(60, 64, 67, 0.15);\n",
              "      fill: #174EA6;\n",
              "    }\n",
              "\n",
              "    .colab-df-buttons div {\n",
              "      margin-bottom: 4px;\n",
              "    }\n",
              "\n",
              "    [theme=dark] .colab-df-convert {\n",
              "      background-color: #3B4455;\n",
              "      fill: #D2E3FC;\n",
              "    }\n",
              "\n",
              "    [theme=dark] .colab-df-convert:hover {\n",
              "      background-color: #434B5C;\n",
              "      box-shadow: 0px 1px 3px 1px rgba(0, 0, 0, 0.15);\n",
              "      filter: drop-shadow(0px 1px 2px rgba(0, 0, 0, 0.3));\n",
              "      fill: #FFFFFF;\n",
              "    }\n",
              "  </style>\n",
              "\n",
              "    <script>\n",
              "      const buttonEl =\n",
              "        document.querySelector('#df-36c0ac40-4b01-4dc6-a5bc-1a925bfab80b button.colab-df-convert');\n",
              "      buttonEl.style.display =\n",
              "        google.colab.kernel.accessAllowed ? 'block' : 'none';\n",
              "\n",
              "      async function convertToInteractive(key) {\n",
              "        const element = document.querySelector('#df-36c0ac40-4b01-4dc6-a5bc-1a925bfab80b');\n",
              "        const dataTable =\n",
              "          await google.colab.kernel.invokeFunction('convertToInteractive',\n",
              "                                                    [key], {});\n",
              "        if (!dataTable) return;\n",
              "\n",
              "        const docLinkHtml = 'Like what you see? Visit the ' +\n",
              "          '<a target=\"_blank\" href=https://colab.research.google.com/notebooks/data_table.ipynb>data table notebook</a>'\n",
              "          + ' to learn more about interactive tables.';\n",
              "        element.innerHTML = '';\n",
              "        dataTable['output_type'] = 'display_data';\n",
              "        await google.colab.output.renderOutput(dataTable, element);\n",
              "        const docLink = document.createElement('div');\n",
              "        docLink.innerHTML = docLinkHtml;\n",
              "        element.appendChild(docLink);\n",
              "      }\n",
              "    </script>\n",
              "  </div>\n",
              "\n",
              "\n",
              "<div id=\"df-cf9ba3b0-794d-4669-92a0-9f706a4dbd33\">\n",
              "  <button class=\"colab-df-quickchart\" onclick=\"quickchart('df-cf9ba3b0-794d-4669-92a0-9f706a4dbd33')\"\n",
              "            title=\"Suggest charts\"\n",
              "            style=\"display:none;\">\n",
              "\n",
              "<svg xmlns=\"http://www.w3.org/2000/svg\" height=\"24px\"viewBox=\"0 0 24 24\"\n",
              "     width=\"24px\">\n",
              "    <g>\n",
              "        <path d=\"M19 3H5c-1.1 0-2 .9-2 2v14c0 1.1.9 2 2 2h14c1.1 0 2-.9 2-2V5c0-1.1-.9-2-2-2zM9 17H7v-7h2v7zm4 0h-2V7h2v10zm4 0h-2v-4h2v4z\"/>\n",
              "    </g>\n",
              "</svg>\n",
              "  </button>\n",
              "\n",
              "<style>\n",
              "  .colab-df-quickchart {\n",
              "      --bg-color: #E8F0FE;\n",
              "      --fill-color: #1967D2;\n",
              "      --hover-bg-color: #E2EBFA;\n",
              "      --hover-fill-color: #174EA6;\n",
              "      --disabled-fill-color: #AAA;\n",
              "      --disabled-bg-color: #DDD;\n",
              "  }\n",
              "\n",
              "  [theme=dark] .colab-df-quickchart {\n",
              "      --bg-color: #3B4455;\n",
              "      --fill-color: #D2E3FC;\n",
              "      --hover-bg-color: #434B5C;\n",
              "      --hover-fill-color: #FFFFFF;\n",
              "      --disabled-bg-color: #3B4455;\n",
              "      --disabled-fill-color: #666;\n",
              "  }\n",
              "\n",
              "  .colab-df-quickchart {\n",
              "    background-color: var(--bg-color);\n",
              "    border: none;\n",
              "    border-radius: 50%;\n",
              "    cursor: pointer;\n",
              "    display: none;\n",
              "    fill: var(--fill-color);\n",
              "    height: 32px;\n",
              "    padding: 0;\n",
              "    width: 32px;\n",
              "  }\n",
              "\n",
              "  .colab-df-quickchart:hover {\n",
              "    background-color: var(--hover-bg-color);\n",
              "    box-shadow: 0 1px 2px rgba(60, 64, 67, 0.3), 0 1px 3px 1px rgba(60, 64, 67, 0.15);\n",
              "    fill: var(--button-hover-fill-color);\n",
              "  }\n",
              "\n",
              "  .colab-df-quickchart-complete:disabled,\n",
              "  .colab-df-quickchart-complete:disabled:hover {\n",
              "    background-color: var(--disabled-bg-color);\n",
              "    fill: var(--disabled-fill-color);\n",
              "    box-shadow: none;\n",
              "  }\n",
              "\n",
              "  .colab-df-spinner {\n",
              "    border: 2px solid var(--fill-color);\n",
              "    border-color: transparent;\n",
              "    border-bottom-color: var(--fill-color);\n",
              "    animation:\n",
              "      spin 1s steps(1) infinite;\n",
              "  }\n",
              "\n",
              "  @keyframes spin {\n",
              "    0% {\n",
              "      border-color: transparent;\n",
              "      border-bottom-color: var(--fill-color);\n",
              "      border-left-color: var(--fill-color);\n",
              "    }\n",
              "    20% {\n",
              "      border-color: transparent;\n",
              "      border-left-color: var(--fill-color);\n",
              "      border-top-color: var(--fill-color);\n",
              "    }\n",
              "    30% {\n",
              "      border-color: transparent;\n",
              "      border-left-color: var(--fill-color);\n",
              "      border-top-color: var(--fill-color);\n",
              "      border-right-color: var(--fill-color);\n",
              "    }\n",
              "    40% {\n",
              "      border-color: transparent;\n",
              "      border-right-color: var(--fill-color);\n",
              "      border-top-color: var(--fill-color);\n",
              "    }\n",
              "    60% {\n",
              "      border-color: transparent;\n",
              "      border-right-color: var(--fill-color);\n",
              "    }\n",
              "    80% {\n",
              "      border-color: transparent;\n",
              "      border-right-color: var(--fill-color);\n",
              "      border-bottom-color: var(--fill-color);\n",
              "    }\n",
              "    90% {\n",
              "      border-color: transparent;\n",
              "      border-bottom-color: var(--fill-color);\n",
              "    }\n",
              "  }\n",
              "</style>\n",
              "\n",
              "  <script>\n",
              "    async function quickchart(key) {\n",
              "      const quickchartButtonEl =\n",
              "        document.querySelector('#' + key + ' button');\n",
              "      quickchartButtonEl.disabled = true;  // To prevent multiple clicks.\n",
              "      quickchartButtonEl.classList.add('colab-df-spinner');\n",
              "      try {\n",
              "        const charts = await google.colab.kernel.invokeFunction(\n",
              "            'suggestCharts', [key], {});\n",
              "      } catch (error) {\n",
              "        console.error('Error during call to suggestCharts:', error);\n",
              "      }\n",
              "      quickchartButtonEl.classList.remove('colab-df-spinner');\n",
              "      quickchartButtonEl.classList.add('colab-df-quickchart-complete');\n",
              "    }\n",
              "    (() => {\n",
              "      let quickchartButtonEl =\n",
              "        document.querySelector('#df-cf9ba3b0-794d-4669-92a0-9f706a4dbd33 button');\n",
              "      quickchartButtonEl.style.display =\n",
              "        google.colab.kernel.accessAllowed ? 'block' : 'none';\n",
              "    })();\n",
              "  </script>\n",
              "</div>\n",
              "\n",
              "  <div id=\"id_0c5d276c-9de4-4115-8beb-db9588072a1c\">\n",
              "    <style>\n",
              "      .colab-df-generate {\n",
              "        background-color: #E8F0FE;\n",
              "        border: none;\n",
              "        border-radius: 50%;\n",
              "        cursor: pointer;\n",
              "        display: none;\n",
              "        fill: #1967D2;\n",
              "        height: 32px;\n",
              "        padding: 0 0 0 0;\n",
              "        width: 32px;\n",
              "      }\n",
              "\n",
              "      .colab-df-generate:hover {\n",
              "        background-color: #E2EBFA;\n",
              "        box-shadow: 0px 1px 2px rgba(60, 64, 67, 0.3), 0px 1px 3px 1px rgba(60, 64, 67, 0.15);\n",
              "        fill: #174EA6;\n",
              "      }\n",
              "\n",
              "      [theme=dark] .colab-df-generate {\n",
              "        background-color: #3B4455;\n",
              "        fill: #D2E3FC;\n",
              "      }\n",
              "\n",
              "      [theme=dark] .colab-df-generate:hover {\n",
              "        background-color: #434B5C;\n",
              "        box-shadow: 0px 1px 3px 1px rgba(0, 0, 0, 0.15);\n",
              "        filter: drop-shadow(0px 1px 2px rgba(0, 0, 0, 0.3));\n",
              "        fill: #FFFFFF;\n",
              "      }\n",
              "    </style>\n",
              "    <button class=\"colab-df-generate\" onclick=\"generateWithVariable('dfBoW')\"\n",
              "            title=\"Generate code using this dataframe.\"\n",
              "            style=\"display:none;\">\n",
              "\n",
              "  <svg xmlns=\"http://www.w3.org/2000/svg\" height=\"24px\"viewBox=\"0 0 24 24\"\n",
              "       width=\"24px\">\n",
              "    <path d=\"M7,19H8.4L18.45,9,17,7.55,7,17.6ZM5,21V16.75L18.45,3.32a2,2,0,0,1,2.83,0l1.4,1.43a1.91,1.91,0,0,1,.58,1.4,1.91,1.91,0,0,1-.58,1.4L9.25,21ZM18.45,9,17,7.55Zm-12,3A5.31,5.31,0,0,0,4.9,8.1,5.31,5.31,0,0,0,1,6.5,5.31,5.31,0,0,0,4.9,4.9,5.31,5.31,0,0,0,6.5,1,5.31,5.31,0,0,0,8.1,4.9,5.31,5.31,0,0,0,12,6.5,5.46,5.46,0,0,0,6.5,12Z\"/>\n",
              "  </svg>\n",
              "    </button>\n",
              "    <script>\n",
              "      (() => {\n",
              "      const buttonEl =\n",
              "        document.querySelector('#id_0c5d276c-9de4-4115-8beb-db9588072a1c button.colab-df-generate');\n",
              "      buttonEl.style.display =\n",
              "        google.colab.kernel.accessAllowed ? 'block' : 'none';\n",
              "\n",
              "      buttonEl.onclick = () => {\n",
              "        google.colab.notebook.generateWithVariable('dfBoW');\n",
              "      }\n",
              "      })();\n",
              "    </script>\n",
              "  </div>\n",
              "\n",
              "    </div>\n",
              "  </div>\n"
            ],
            "text/plain": [
              "   although  amazed  bad  beautiful  bob  caution  clear  concept  definitely  \\\n",
              "0         0       0    0          0    0        0      0        0           0   \n",
              "1         0       0    0          0    0        0      0        0           0   \n",
              "2         0       0    0          0    0        0      0        1           0   \n",
              "3         0       0    0          0    0        1      0        0           0   \n",
              "4         0       0    0          0    0        0      0        1           0   \n",
              "5         0       0    0          1    0        0      1        0           0   \n",
              "6         0       0    2          0    1        0      0        0           1   \n",
              "7         1       1    0          0    0        0      0        0           0   \n",
              "8         0       0    0          0    1        0      0        0           0   \n",
              "\n",
              "   difficult  ...  taking  taught  terrible  though  time  trying  understand  \\\n",
              "0          1  ...       0       0         0       0     0       0           0   \n",
              "1          0  ...       0       0         0       0     0       0           0   \n",
              "2          0  ...       0       0         0       0     0       0           0   \n",
              "3          1  ...       1       1         0       0     0       0           0   \n",
              "4          0  ...       0       0         0       0     1       1           1   \n",
              "5          1  ...       0       0         0       0     0       0           0   \n",
              "6          0  ...       0       0         0       1     0       0           0   \n",
              "7          0  ...       0       0         0       1     0       0           0   \n",
              "8          0  ...       0       0         1       0     0       0           0   \n",
              "\n",
              "   warned  way  Sentiment  \n",
              "0       0    0   Negative  \n",
              "1       0    0   Positive  \n",
              "2       0    0   Positive  \n",
              "3       0    0   Negative  \n",
              "4       0    0   Negative  \n",
              "5       0    1   Positive  \n",
              "6       0    0   Negative  \n",
              "7       1    0   Positive  \n",
              "8       0    0   Negative  \n",
              "\n",
              "[9 rows x 48 columns]"
            ]
          },
          "execution_count": 8,
          "metadata": {},
          "output_type": "execute_result"
        }
      ],
      "source": [
        "BoW = BagOfWords(df[\"Comments\"])\n",
        "dfBoW = TransformBoW(df, BoW)\n",
        "dfBoW.to_csv(\"BoW.csv\", index = False)\n",
        "dfBoW"
      ]
    },
    {
      "cell_type": "markdown",
      "metadata": {
        "id": "7339f59c"
      },
      "source": [
        "## One Hot Encoding\n",
        "Each word in the vocab is represented with a unique vector. The vector has all elements set to 0, except for the element corresponding to the index of the word in the vocabulary, which is set to 1."
      ]
    },
    {
      "cell_type": "code",
      "execution_count": null,
      "metadata": {
        "id": "26cf9464"
      },
      "outputs": [],
      "source": [
        "def TransformOHE(df, BoW):\n",
        "\n",
        "    dfOHE = df.copy()\n",
        "\n",
        "    # Transform dataframe into BoW\n",
        "    for word in BoW:\n",
        "        dfOHE[word] = np.where(df[\"Comments\"].str.contains(word), 1, 0)\n",
        "    # Move y variable to the left\n",
        "    sentiment = dfOHE[\"Sentiment\"]\n",
        "\n",
        "    del dfOHE[\"Sentiment\"], dfOHE[\"Comments\"]\n",
        "    dfOHE[\"Sentiment\"] = sentiment\n",
        "\n",
        "\n",
        "    return dfOHE"
      ]
    },
    {
      "cell_type": "code",
      "execution_count": null,
      "metadata": {
        "colab": {
          "base_uri": "https://localhost:8080/"
        },
        "id": "6582cd44",
        "outputId": "b570b028-312b-4f93-9538-7b90b465d073"
      },
      "outputs": [
        {
          "data": {
            "application/vnd.google.colaboratory.intrinsic+json": {
              "type": "dataframe",
              "variable_name": "dfOHE"
            },
            "text/html": [
              "\n",
              "  <div id=\"df-73b04cde-541f-47e5-a7d0-b4bc5ddd6d6a\" class=\"colab-df-container\">\n",
              "    <div>\n",
              "<style scoped>\n",
              "    .dataframe tbody tr th:only-of-type {\n",
              "        vertical-align: middle;\n",
              "    }\n",
              "\n",
              "    .dataframe tbody tr th {\n",
              "        vertical-align: top;\n",
              "    }\n",
              "\n",
              "    .dataframe thead th {\n",
              "        text-align: right;\n",
              "    }\n",
              "</style>\n",
              "<table border=\"1\" class=\"dataframe\">\n",
              "  <thead>\n",
              "    <tr style=\"text-align: right;\">\n",
              "      <th></th>\n",
              "      <th>although</th>\n",
              "      <th>amazed</th>\n",
              "      <th>bad</th>\n",
              "      <th>beautiful</th>\n",
              "      <th>bob</th>\n",
              "      <th>caution</th>\n",
              "      <th>clear</th>\n",
              "      <th>concept</th>\n",
              "      <th>definitely</th>\n",
              "      <th>difficult</th>\n",
              "      <th>...</th>\n",
              "      <th>taking</th>\n",
              "      <th>taught</th>\n",
              "      <th>terrible</th>\n",
              "      <th>though</th>\n",
              "      <th>time</th>\n",
              "      <th>trying</th>\n",
              "      <th>understand</th>\n",
              "      <th>warned</th>\n",
              "      <th>way</th>\n",
              "      <th>Sentiment</th>\n",
              "    </tr>\n",
              "  </thead>\n",
              "  <tbody>\n",
              "    <tr>\n",
              "      <th>0</th>\n",
              "      <td>0</td>\n",
              "      <td>0</td>\n",
              "      <td>0</td>\n",
              "      <td>0</td>\n",
              "      <td>0</td>\n",
              "      <td>0</td>\n",
              "      <td>0</td>\n",
              "      <td>0</td>\n",
              "      <td>0</td>\n",
              "      <td>1</td>\n",
              "      <td>...</td>\n",
              "      <td>0</td>\n",
              "      <td>0</td>\n",
              "      <td>0</td>\n",
              "      <td>0</td>\n",
              "      <td>0</td>\n",
              "      <td>0</td>\n",
              "      <td>0</td>\n",
              "      <td>0</td>\n",
              "      <td>0</td>\n",
              "      <td>Negative</td>\n",
              "    </tr>\n",
              "    <tr>\n",
              "      <th>1</th>\n",
              "      <td>0</td>\n",
              "      <td>0</td>\n",
              "      <td>0</td>\n",
              "      <td>0</td>\n",
              "      <td>0</td>\n",
              "      <td>0</td>\n",
              "      <td>0</td>\n",
              "      <td>0</td>\n",
              "      <td>0</td>\n",
              "      <td>0</td>\n",
              "      <td>...</td>\n",
              "      <td>0</td>\n",
              "      <td>0</td>\n",
              "      <td>0</td>\n",
              "      <td>0</td>\n",
              "      <td>0</td>\n",
              "      <td>0</td>\n",
              "      <td>0</td>\n",
              "      <td>0</td>\n",
              "      <td>0</td>\n",
              "      <td>Positive</td>\n",
              "    </tr>\n",
              "    <tr>\n",
              "      <th>2</th>\n",
              "      <td>0</td>\n",
              "      <td>0</td>\n",
              "      <td>0</td>\n",
              "      <td>0</td>\n",
              "      <td>0</td>\n",
              "      <td>0</td>\n",
              "      <td>0</td>\n",
              "      <td>1</td>\n",
              "      <td>0</td>\n",
              "      <td>0</td>\n",
              "      <td>...</td>\n",
              "      <td>0</td>\n",
              "      <td>0</td>\n",
              "      <td>0</td>\n",
              "      <td>0</td>\n",
              "      <td>0</td>\n",
              "      <td>0</td>\n",
              "      <td>0</td>\n",
              "      <td>0</td>\n",
              "      <td>0</td>\n",
              "      <td>Positive</td>\n",
              "    </tr>\n",
              "    <tr>\n",
              "      <th>3</th>\n",
              "      <td>0</td>\n",
              "      <td>0</td>\n",
              "      <td>0</td>\n",
              "      <td>0</td>\n",
              "      <td>0</td>\n",
              "      <td>1</td>\n",
              "      <td>0</td>\n",
              "      <td>0</td>\n",
              "      <td>0</td>\n",
              "      <td>1</td>\n",
              "      <td>...</td>\n",
              "      <td>1</td>\n",
              "      <td>1</td>\n",
              "      <td>0</td>\n",
              "      <td>0</td>\n",
              "      <td>0</td>\n",
              "      <td>0</td>\n",
              "      <td>0</td>\n",
              "      <td>0</td>\n",
              "      <td>0</td>\n",
              "      <td>Negative</td>\n",
              "    </tr>\n",
              "    <tr>\n",
              "      <th>4</th>\n",
              "      <td>0</td>\n",
              "      <td>0</td>\n",
              "      <td>0</td>\n",
              "      <td>0</td>\n",
              "      <td>0</td>\n",
              "      <td>0</td>\n",
              "      <td>0</td>\n",
              "      <td>1</td>\n",
              "      <td>0</td>\n",
              "      <td>0</td>\n",
              "      <td>...</td>\n",
              "      <td>0</td>\n",
              "      <td>0</td>\n",
              "      <td>0</td>\n",
              "      <td>0</td>\n",
              "      <td>1</td>\n",
              "      <td>1</td>\n",
              "      <td>1</td>\n",
              "      <td>0</td>\n",
              "      <td>0</td>\n",
              "      <td>Negative</td>\n",
              "    </tr>\n",
              "    <tr>\n",
              "      <th>5</th>\n",
              "      <td>0</td>\n",
              "      <td>0</td>\n",
              "      <td>0</td>\n",
              "      <td>1</td>\n",
              "      <td>0</td>\n",
              "      <td>0</td>\n",
              "      <td>1</td>\n",
              "      <td>0</td>\n",
              "      <td>0</td>\n",
              "      <td>1</td>\n",
              "      <td>...</td>\n",
              "      <td>0</td>\n",
              "      <td>0</td>\n",
              "      <td>0</td>\n",
              "      <td>0</td>\n",
              "      <td>0</td>\n",
              "      <td>0</td>\n",
              "      <td>0</td>\n",
              "      <td>0</td>\n",
              "      <td>1</td>\n",
              "      <td>Positive</td>\n",
              "    </tr>\n",
              "    <tr>\n",
              "      <th>6</th>\n",
              "      <td>0</td>\n",
              "      <td>0</td>\n",
              "      <td>1</td>\n",
              "      <td>0</td>\n",
              "      <td>1</td>\n",
              "      <td>0</td>\n",
              "      <td>0</td>\n",
              "      <td>0</td>\n",
              "      <td>1</td>\n",
              "      <td>0</td>\n",
              "      <td>...</td>\n",
              "      <td>0</td>\n",
              "      <td>0</td>\n",
              "      <td>0</td>\n",
              "      <td>1</td>\n",
              "      <td>0</td>\n",
              "      <td>0</td>\n",
              "      <td>0</td>\n",
              "      <td>0</td>\n",
              "      <td>0</td>\n",
              "      <td>Negative</td>\n",
              "    </tr>\n",
              "    <tr>\n",
              "      <th>7</th>\n",
              "      <td>1</td>\n",
              "      <td>1</td>\n",
              "      <td>0</td>\n",
              "      <td>0</td>\n",
              "      <td>0</td>\n",
              "      <td>0</td>\n",
              "      <td>0</td>\n",
              "      <td>0</td>\n",
              "      <td>0</td>\n",
              "      <td>0</td>\n",
              "      <td>...</td>\n",
              "      <td>0</td>\n",
              "      <td>0</td>\n",
              "      <td>0</td>\n",
              "      <td>1</td>\n",
              "      <td>0</td>\n",
              "      <td>0</td>\n",
              "      <td>0</td>\n",
              "      <td>1</td>\n",
              "      <td>0</td>\n",
              "      <td>Positive</td>\n",
              "    </tr>\n",
              "    <tr>\n",
              "      <th>8</th>\n",
              "      <td>0</td>\n",
              "      <td>0</td>\n",
              "      <td>0</td>\n",
              "      <td>0</td>\n",
              "      <td>1</td>\n",
              "      <td>0</td>\n",
              "      <td>0</td>\n",
              "      <td>0</td>\n",
              "      <td>0</td>\n",
              "      <td>0</td>\n",
              "      <td>...</td>\n",
              "      <td>0</td>\n",
              "      <td>0</td>\n",
              "      <td>1</td>\n",
              "      <td>0</td>\n",
              "      <td>0</td>\n",
              "      <td>0</td>\n",
              "      <td>0</td>\n",
              "      <td>0</td>\n",
              "      <td>0</td>\n",
              "      <td>Negative</td>\n",
              "    </tr>\n",
              "  </tbody>\n",
              "</table>\n",
              "<p>9 rows × 48 columns</p>\n",
              "</div>\n",
              "    <div class=\"colab-df-buttons\">\n",
              "\n",
              "  <div class=\"colab-df-container\">\n",
              "    <button class=\"colab-df-convert\" onclick=\"convertToInteractive('df-73b04cde-541f-47e5-a7d0-b4bc5ddd6d6a')\"\n",
              "            title=\"Convert this dataframe to an interactive table.\"\n",
              "            style=\"display:none;\">\n",
              "\n",
              "  <svg xmlns=\"http://www.w3.org/2000/svg\" height=\"24px\" viewBox=\"0 -960 960 960\">\n",
              "    <path d=\"M120-120v-720h720v720H120Zm60-500h600v-160H180v160Zm220 220h160v-160H400v160Zm0 220h160v-160H400v160ZM180-400h160v-160H180v160Zm440 0h160v-160H620v160ZM180-180h160v-160H180v160Zm440 0h160v-160H620v160Z\"/>\n",
              "  </svg>\n",
              "    </button>\n",
              "\n",
              "  <style>\n",
              "    .colab-df-container {\n",
              "      display:flex;\n",
              "      gap: 12px;\n",
              "    }\n",
              "\n",
              "    .colab-df-convert {\n",
              "      background-color: #E8F0FE;\n",
              "      border: none;\n",
              "      border-radius: 50%;\n",
              "      cursor: pointer;\n",
              "      display: none;\n",
              "      fill: #1967D2;\n",
              "      height: 32px;\n",
              "      padding: 0 0 0 0;\n",
              "      width: 32px;\n",
              "    }\n",
              "\n",
              "    .colab-df-convert:hover {\n",
              "      background-color: #E2EBFA;\n",
              "      box-shadow: 0px 1px 2px rgba(60, 64, 67, 0.3), 0px 1px 3px 1px rgba(60, 64, 67, 0.15);\n",
              "      fill: #174EA6;\n",
              "    }\n",
              "\n",
              "    .colab-df-buttons div {\n",
              "      margin-bottom: 4px;\n",
              "    }\n",
              "\n",
              "    [theme=dark] .colab-df-convert {\n",
              "      background-color: #3B4455;\n",
              "      fill: #D2E3FC;\n",
              "    }\n",
              "\n",
              "    [theme=dark] .colab-df-convert:hover {\n",
              "      background-color: #434B5C;\n",
              "      box-shadow: 0px 1px 3px 1px rgba(0, 0, 0, 0.15);\n",
              "      filter: drop-shadow(0px 1px 2px rgba(0, 0, 0, 0.3));\n",
              "      fill: #FFFFFF;\n",
              "    }\n",
              "  </style>\n",
              "\n",
              "    <script>\n",
              "      const buttonEl =\n",
              "        document.querySelector('#df-73b04cde-541f-47e5-a7d0-b4bc5ddd6d6a button.colab-df-convert');\n",
              "      buttonEl.style.display =\n",
              "        google.colab.kernel.accessAllowed ? 'block' : 'none';\n",
              "\n",
              "      async function convertToInteractive(key) {\n",
              "        const element = document.querySelector('#df-73b04cde-541f-47e5-a7d0-b4bc5ddd6d6a');\n",
              "        const dataTable =\n",
              "          await google.colab.kernel.invokeFunction('convertToInteractive',\n",
              "                                                    [key], {});\n",
              "        if (!dataTable) return;\n",
              "\n",
              "        const docLinkHtml = 'Like what you see? Visit the ' +\n",
              "          '<a target=\"_blank\" href=https://colab.research.google.com/notebooks/data_table.ipynb>data table notebook</a>'\n",
              "          + ' to learn more about interactive tables.';\n",
              "        element.innerHTML = '';\n",
              "        dataTable['output_type'] = 'display_data';\n",
              "        await google.colab.output.renderOutput(dataTable, element);\n",
              "        const docLink = document.createElement('div');\n",
              "        docLink.innerHTML = docLinkHtml;\n",
              "        element.appendChild(docLink);\n",
              "      }\n",
              "    </script>\n",
              "  </div>\n",
              "\n",
              "\n",
              "<div id=\"df-df78ae94-7cb8-470c-b923-96b99d045393\">\n",
              "  <button class=\"colab-df-quickchart\" onclick=\"quickchart('df-df78ae94-7cb8-470c-b923-96b99d045393')\"\n",
              "            title=\"Suggest charts\"\n",
              "            style=\"display:none;\">\n",
              "\n",
              "<svg xmlns=\"http://www.w3.org/2000/svg\" height=\"24px\"viewBox=\"0 0 24 24\"\n",
              "     width=\"24px\">\n",
              "    <g>\n",
              "        <path d=\"M19 3H5c-1.1 0-2 .9-2 2v14c0 1.1.9 2 2 2h14c1.1 0 2-.9 2-2V5c0-1.1-.9-2-2-2zM9 17H7v-7h2v7zm4 0h-2V7h2v10zm4 0h-2v-4h2v4z\"/>\n",
              "    </g>\n",
              "</svg>\n",
              "  </button>\n",
              "\n",
              "<style>\n",
              "  .colab-df-quickchart {\n",
              "      --bg-color: #E8F0FE;\n",
              "      --fill-color: #1967D2;\n",
              "      --hover-bg-color: #E2EBFA;\n",
              "      --hover-fill-color: #174EA6;\n",
              "      --disabled-fill-color: #AAA;\n",
              "      --disabled-bg-color: #DDD;\n",
              "  }\n",
              "\n",
              "  [theme=dark] .colab-df-quickchart {\n",
              "      --bg-color: #3B4455;\n",
              "      --fill-color: #D2E3FC;\n",
              "      --hover-bg-color: #434B5C;\n",
              "      --hover-fill-color: #FFFFFF;\n",
              "      --disabled-bg-color: #3B4455;\n",
              "      --disabled-fill-color: #666;\n",
              "  }\n",
              "\n",
              "  .colab-df-quickchart {\n",
              "    background-color: var(--bg-color);\n",
              "    border: none;\n",
              "    border-radius: 50%;\n",
              "    cursor: pointer;\n",
              "    display: none;\n",
              "    fill: var(--fill-color);\n",
              "    height: 32px;\n",
              "    padding: 0;\n",
              "    width: 32px;\n",
              "  }\n",
              "\n",
              "  .colab-df-quickchart:hover {\n",
              "    background-color: var(--hover-bg-color);\n",
              "    box-shadow: 0 1px 2px rgba(60, 64, 67, 0.3), 0 1px 3px 1px rgba(60, 64, 67, 0.15);\n",
              "    fill: var(--button-hover-fill-color);\n",
              "  }\n",
              "\n",
              "  .colab-df-quickchart-complete:disabled,\n",
              "  .colab-df-quickchart-complete:disabled:hover {\n",
              "    background-color: var(--disabled-bg-color);\n",
              "    fill: var(--disabled-fill-color);\n",
              "    box-shadow: none;\n",
              "  }\n",
              "\n",
              "  .colab-df-spinner {\n",
              "    border: 2px solid var(--fill-color);\n",
              "    border-color: transparent;\n",
              "    border-bottom-color: var(--fill-color);\n",
              "    animation:\n",
              "      spin 1s steps(1) infinite;\n",
              "  }\n",
              "\n",
              "  @keyframes spin {\n",
              "    0% {\n",
              "      border-color: transparent;\n",
              "      border-bottom-color: var(--fill-color);\n",
              "      border-left-color: var(--fill-color);\n",
              "    }\n",
              "    20% {\n",
              "      border-color: transparent;\n",
              "      border-left-color: var(--fill-color);\n",
              "      border-top-color: var(--fill-color);\n",
              "    }\n",
              "    30% {\n",
              "      border-color: transparent;\n",
              "      border-left-color: var(--fill-color);\n",
              "      border-top-color: var(--fill-color);\n",
              "      border-right-color: var(--fill-color);\n",
              "    }\n",
              "    40% {\n",
              "      border-color: transparent;\n",
              "      border-right-color: var(--fill-color);\n",
              "      border-top-color: var(--fill-color);\n",
              "    }\n",
              "    60% {\n",
              "      border-color: transparent;\n",
              "      border-right-color: var(--fill-color);\n",
              "    }\n",
              "    80% {\n",
              "      border-color: transparent;\n",
              "      border-right-color: var(--fill-color);\n",
              "      border-bottom-color: var(--fill-color);\n",
              "    }\n",
              "    90% {\n",
              "      border-color: transparent;\n",
              "      border-bottom-color: var(--fill-color);\n",
              "    }\n",
              "  }\n",
              "</style>\n",
              "\n",
              "  <script>\n",
              "    async function quickchart(key) {\n",
              "      const quickchartButtonEl =\n",
              "        document.querySelector('#' + key + ' button');\n",
              "      quickchartButtonEl.disabled = true;  // To prevent multiple clicks.\n",
              "      quickchartButtonEl.classList.add('colab-df-spinner');\n",
              "      try {\n",
              "        const charts = await google.colab.kernel.invokeFunction(\n",
              "            'suggestCharts', [key], {});\n",
              "      } catch (error) {\n",
              "        console.error('Error during call to suggestCharts:', error);\n",
              "      }\n",
              "      quickchartButtonEl.classList.remove('colab-df-spinner');\n",
              "      quickchartButtonEl.classList.add('colab-df-quickchart-complete');\n",
              "    }\n",
              "    (() => {\n",
              "      let quickchartButtonEl =\n",
              "        document.querySelector('#df-df78ae94-7cb8-470c-b923-96b99d045393 button');\n",
              "      quickchartButtonEl.style.display =\n",
              "        google.colab.kernel.accessAllowed ? 'block' : 'none';\n",
              "    })();\n",
              "  </script>\n",
              "</div>\n",
              "\n",
              "  <div id=\"id_4710c383-3412-4ae4-9187-6b98d50af6cb\">\n",
              "    <style>\n",
              "      .colab-df-generate {\n",
              "        background-color: #E8F0FE;\n",
              "        border: none;\n",
              "        border-radius: 50%;\n",
              "        cursor: pointer;\n",
              "        display: none;\n",
              "        fill: #1967D2;\n",
              "        height: 32px;\n",
              "        padding: 0 0 0 0;\n",
              "        width: 32px;\n",
              "      }\n",
              "\n",
              "      .colab-df-generate:hover {\n",
              "        background-color: #E2EBFA;\n",
              "        box-shadow: 0px 1px 2px rgba(60, 64, 67, 0.3), 0px 1px 3px 1px rgba(60, 64, 67, 0.15);\n",
              "        fill: #174EA6;\n",
              "      }\n",
              "\n",
              "      [theme=dark] .colab-df-generate {\n",
              "        background-color: #3B4455;\n",
              "        fill: #D2E3FC;\n",
              "      }\n",
              "\n",
              "      [theme=dark] .colab-df-generate:hover {\n",
              "        background-color: #434B5C;\n",
              "        box-shadow: 0px 1px 3px 1px rgba(0, 0, 0, 0.15);\n",
              "        filter: drop-shadow(0px 1px 2px rgba(0, 0, 0, 0.3));\n",
              "        fill: #FFFFFF;\n",
              "      }\n",
              "    </style>\n",
              "    <button class=\"colab-df-generate\" onclick=\"generateWithVariable('dfOHE')\"\n",
              "            title=\"Generate code using this dataframe.\"\n",
              "            style=\"display:none;\">\n",
              "\n",
              "  <svg xmlns=\"http://www.w3.org/2000/svg\" height=\"24px\"viewBox=\"0 0 24 24\"\n",
              "       width=\"24px\">\n",
              "    <path d=\"M7,19H8.4L18.45,9,17,7.55,7,17.6ZM5,21V16.75L18.45,3.32a2,2,0,0,1,2.83,0l1.4,1.43a1.91,1.91,0,0,1,.58,1.4,1.91,1.91,0,0,1-.58,1.4L9.25,21ZM18.45,9,17,7.55Zm-12,3A5.31,5.31,0,0,0,4.9,8.1,5.31,5.31,0,0,0,1,6.5,5.31,5.31,0,0,0,4.9,4.9,5.31,5.31,0,0,0,6.5,1,5.31,5.31,0,0,0,8.1,4.9,5.31,5.31,0,0,0,12,6.5,5.46,5.46,0,0,0,6.5,12Z\"/>\n",
              "  </svg>\n",
              "    </button>\n",
              "    <script>\n",
              "      (() => {\n",
              "      const buttonEl =\n",
              "        document.querySelector('#id_4710c383-3412-4ae4-9187-6b98d50af6cb button.colab-df-generate');\n",
              "      buttonEl.style.display =\n",
              "        google.colab.kernel.accessAllowed ? 'block' : 'none';\n",
              "\n",
              "      buttonEl.onclick = () => {\n",
              "        google.colab.notebook.generateWithVariable('dfOHE');\n",
              "      }\n",
              "      })();\n",
              "    </script>\n",
              "  </div>\n",
              "\n",
              "    </div>\n",
              "  </div>\n"
            ],
            "text/plain": [
              "   although  amazed  bad  beautiful  bob  caution  clear  concept  definitely  \\\n",
              "0         0       0    0          0    0        0      0        0           0   \n",
              "1         0       0    0          0    0        0      0        0           0   \n",
              "2         0       0    0          0    0        0      0        1           0   \n",
              "3         0       0    0          0    0        1      0        0           0   \n",
              "4         0       0    0          0    0        0      0        1           0   \n",
              "5         0       0    0          1    0        0      1        0           0   \n",
              "6         0       0    1          0    1        0      0        0           1   \n",
              "7         1       1    0          0    0        0      0        0           0   \n",
              "8         0       0    0          0    1        0      0        0           0   \n",
              "\n",
              "   difficult  ...  taking  taught  terrible  though  time  trying  understand  \\\n",
              "0          1  ...       0       0         0       0     0       0           0   \n",
              "1          0  ...       0       0         0       0     0       0           0   \n",
              "2          0  ...       0       0         0       0     0       0           0   \n",
              "3          1  ...       1       1         0       0     0       0           0   \n",
              "4          0  ...       0       0         0       0     1       1           1   \n",
              "5          1  ...       0       0         0       0     0       0           0   \n",
              "6          0  ...       0       0         0       1     0       0           0   \n",
              "7          0  ...       0       0         0       1     0       0           0   \n",
              "8          0  ...       0       0         1       0     0       0           0   \n",
              "\n",
              "   warned  way  Sentiment  \n",
              "0       0    0   Negative  \n",
              "1       0    0   Positive  \n",
              "2       0    0   Positive  \n",
              "3       0    0   Negative  \n",
              "4       0    0   Negative  \n",
              "5       0    1   Positive  \n",
              "6       0    0   Negative  \n",
              "7       1    0   Positive  \n",
              "8       0    0   Negative  \n",
              "\n",
              "[9 rows x 48 columns]"
            ]
          },
          "execution_count": 10,
          "metadata": {},
          "output_type": "execute_result"
        }
      ],
      "source": [
        "BoW = BagOfWords(df[\"Comments\"])\n",
        "dfOHE = TransformOHE(df, BoW)\n",
        "dfOHE.to_csv(\"OHE.csv\", index = False)\n",
        "dfOHE"
      ]
    },
    {
      "cell_type": "markdown",
      "metadata": {
        "id": "yJrgHW5hT0NW"
      },
      "source": [
        "## Task:\n",
        "Classify a given comment into positive or negative using BOW and OHE"
      ]
    },
    {
      "cell_type": "code",
      "execution_count": null,
      "metadata": {
        "id": "hlzV-1D3-JAB"
      },
      "outputs": [],
      "source": [
        "df = pd.read_csv(\"Train.csv\")"
      ]
    },
    {
      "cell_type": "code",
      "source": [
        "df=df.drop(['Text_ID','Product_Type'], axis=1)"
      ],
      "metadata": {
        "id": "cpDehsVu1-78"
      },
      "execution_count": null,
      "outputs": []
    },
    {
      "cell_type": "code",
      "source": [
        "import re\n",
        "import nltk\n",
        "from nltk.corpus import stopwords\n",
        "from nltk.stem import WordNetLemmatizer\n",
        "from nltk.tokenize import word_tokenize\n",
        "import pandas as pd\n",
        "\n",
        "import nltk\n",
        "nltk.download('punkt')\n",
        "nltk.download('punkt_tab')  # Specifically ask for the missing resource\n",
        "nltk.download('wordnet')\n",
        "nltk.download('stopwords')\n",
        "\n",
        "\n",
        "# Preprocessing setup\n",
        "lemmatizer = WordNetLemmatizer()\n",
        "stop_words = set(stopwords.words('english'))\n",
        "\n",
        "# Dummy DataFrame example\n",
        "# df = pd.DataFrame({'Product_Description': ['This is a test description!', 'Another item here.']})\n",
        "df['Product_Description'] = df['Product_Description'].astype(str).fillna(\"\")\n",
        "\n",
        "# Preprocessing function\n",
        "def preprocess_text(text):\n",
        "    text = text.lower()\n",
        "    text = re.sub(r'[^a-z0-9\\s]', '', text)\n",
        "    tokens = word_tokenize(text)\n",
        "    processed_tokens = [lemmatizer.lemmatize(word) for word in tokens if word not in stop_words]\n",
        "    return ' '.join(processed_tokens)\n",
        "\n",
        "df['Product_Description_processed'] = df['Product_Description'].apply(preprocess_text)\n",
        "\n",
        "print(df[['Product_Description', 'Product_Description_processed']].head())\n"
      ],
      "metadata": {
        "colab": {
          "base_uri": "https://localhost:8080/"
        },
        "id": "7DDMTe8G1_XU",
        "outputId": "b016de6a-baa5-4c65-967c-8b86db0046e6"
      },
      "execution_count": null,
      "outputs": [
        {
          "output_type": "stream",
          "name": "stderr",
          "text": [
            "[nltk_data] Downloading package punkt to /root/nltk_data...\n",
            "[nltk_data]   Unzipping tokenizers/punkt.zip.\n",
            "[nltk_data] Downloading package punkt_tab to /root/nltk_data...\n",
            "[nltk_data]   Unzipping tokenizers/punkt_tab.zip.\n",
            "[nltk_data] Downloading package wordnet to /root/nltk_data...\n",
            "[nltk_data] Downloading package stopwords to /root/nltk_data...\n",
            "[nltk_data]   Unzipping corpora/stopwords.zip.\n"
          ]
        },
        {
          "output_type": "stream",
          "name": "stdout",
          "text": [
            "                                 Product_Description  \\\n",
            "0  The Web DesignerÛªs Guide to iOS (and Android...   \n",
            "1  RT @mention Line for iPad 2 is longer today th...   \n",
            "2  Crazy that Apple is opening a temporary store ...   \n",
            "3  The lesson from Google One Pass: In this digit...   \n",
            "4  RT @mention At the panel: &quot;Your mom has a...   \n",
            "\n",
            "                       Product_Description_processed  \n",
            "0  web designer guide io android apps today menti...  \n",
            "1  rt mention line ipad 2 longer today yesterday ...  \n",
            "2  crazy apple opening temporary store austin tom...  \n",
            "3  lesson google one pas digital environment user...  \n",
            "4  rt mention panel quotyour mom ipad designing b...  \n"
          ]
        }
      ]
    },
    {
      "cell_type": "code",
      "source": [
        "df=df.drop('Product_Description',axis=1)"
      ],
      "metadata": {
        "id": "ARPgqUHg2Bys"
      },
      "execution_count": null,
      "outputs": []
    },
    {
      "cell_type": "code",
      "source": [
        "\n",
        "from nltk import ngrams\n",
        "\n",
        "df['Product_Description_3grams'] = df['Product_Description_processed'].apply(lambda x: list(ngrams(x.split(), 3)))\n",
        "\n",
        "print(df[['Product_Description_processed', 'Product_Description_3grams']].head())"
      ],
      "metadata": {
        "colab": {
          "base_uri": "https://localhost:8080/"
        },
        "id": "KMBmmThF2DMF",
        "outputId": "e3142b2c-26db-4de4-aa11-9e3a098a7e4c"
      },
      "execution_count": null,
      "outputs": [
        {
          "output_type": "stream",
          "name": "stdout",
          "text": [
            "                       Product_Description_processed  \\\n",
            "0  web designer guide io android apps today menti...   \n",
            "1  rt mention line ipad 2 longer today yesterday ...   \n",
            "2  crazy apple opening temporary store austin tom...   \n",
            "3  lesson google one pas digital environment user...   \n",
            "4  rt mention panel quotyour mom ipad designing b...   \n",
            "\n",
            "                          Product_Description_3grams  \n",
            "0  [(web, designer, guide), (designer, guide, io)...  \n",
            "1  [(rt, mention, line), (mention, line, ipad), (...  \n",
            "2  [(crazy, apple, opening), (apple, opening, tem...  \n",
            "3  [(lesson, google, one), (google, one, pas), (o...  \n",
            "4  [(rt, mention, panel), (mention, panel, quotyo...  \n"
          ]
        }
      ]
    },
    {
      "cell_type": "code",
      "source": [
        "from collections import defaultdict\n",
        "\n",
        "# Function to count occurrences of phrases\n",
        "def count_phrases(df, column_name):\n",
        "    phrase_counts = defaultdict(int)\n",
        "    for phrases in df[column_name]:\n",
        "        for phrase in phrases:\n",
        "            phrase_counts[phrase] += 1\n",
        "    return phrase_counts\n",
        "\n",
        "# Count 3-gram phrases\n",
        "phrase_counts_3grams = count_phrases(df, 'Product_Description_3grams')\n",
        "\n",
        "# Display the most common 3-gram phrases\n",
        "print(\"\\nMost common 3-gram phrases:\")\n",
        "for phrase, count in sorted(phrase_counts_3grams.items(), key=lambda item: item[1], reverse=True)[:10]:\n",
        "    print(f\"{' '.join(phrase)}: {count}\")\n"
      ],
      "metadata": {
        "colab": {
          "base_uri": "https://localhost:8080/"
        },
        "id": "ZiGB24hn2EkZ",
        "outputId": "06a461bc-da6f-4735-8098-8d3347ba1aa2"
      },
      "execution_count": null,
      "outputs": [
        {
          "output_type": "stream",
          "name": "stdout",
          "text": [
            "\n",
            "Most common 3-gram phrases:\n",
            "new social network: 275\n",
            "social network called: 232\n",
            "network called circle: 217\n",
            "rt mention google: 209\n",
            "major new social: 204\n",
            "launch major new: 199\n",
            "link via mention: 181\n",
            "google launch major: 181\n",
            "mention rt mention: 170\n",
            "called circle possibly: 166\n"
          ]
        }
      ]
    },
    {
      "cell_type": "code",
      "source": [
        "\n",
        "from sklearn.model_selection import train_test_split\n",
        "from sklearn.linear_model import LogisticRegression\n",
        "from sklearn.metrics import accuracy_score, classification_report\n",
        "from sklearn.feature_extraction.text import CountVectorizer, TfidfVectorizer\n",
        "\n",
        "# Assuming df is the DataFrame loaded previously with 'Sentiment' and 'Product_Description_processed'\n",
        "\n",
        "# Split data into training and testing sets\n",
        "X = df['Product_Description_processed']\n",
        "y = df['Sentiment']\n",
        "\n",
        "X_train, X_test, y_train, y_test = train_test_split(X, y, test_size=0.2, random_state=42)\n",
        "\n",
        "# --- Using Bag of Words (BOW) for Classification ---\n",
        "\n",
        "# Initialize CountVectorizer (for BOW)\n",
        "vectorizer_bow = CountVectorizer()\n",
        "\n",
        "# Fit and transform training data, transform testing data\n",
        "X_train_bow = vectorizer_bow.fit_transform(X_train)\n",
        "X_test_bow = vectorizer_bow.transform(X_test)\n",
        "\n",
        "# Initialize and train a classifier (e.g., Logistic Regression)\n",
        "model_bow = LogisticRegression(max_iter=1000) # Increase max_iter for convergence\n",
        "model_bow.fit(X_train_bow, y_train)\n",
        "\n",
        "# Make predictions\n",
        "y_pred_bow = model_bow.predict(X_test_bow)\n",
        "\n",
        "# Evaluate the model\n",
        "print(\"--- Bag of Words Classification Results ---\")\n",
        "print(\"Accuracy:\", accuracy_score(y_test, y_pred_bow))\n",
        "print(\"Classification Report:\\n\", classification_report(y_test, y_pred_bow))\n",
        "\n",
        "vectorizer_ohe = CountVectorizer(binary=True) # binary=True makes it treat counts > 0 as 1\n",
        "\n",
        "# Fit and transform training data, transform testing data\n",
        "X_train_ohe = vectorizer_ohe.fit_transform(X_train)\n",
        "X_test_ohe = vectorizer_ohe.transform(X_test)\n",
        "\n",
        "# Initialize and train a classifier\n",
        "model_ohe = LogisticRegression(max_iter=1000)\n",
        "model_ohe.fit(X_train_ohe, y_train)\n",
        "\n",
        "# Make predictions\n",
        "y_pred_ohe = model_ohe.predict(X_test_ohe)\n",
        "\n",
        "# Evaluate the model\n",
        "print(\"\\n--- One-Hot Encoding (using CountVectorizer binary=True) Classification Results ---\")\n",
        "print(\"Accuracy:\", accuracy_score(y_test, y_pred_ohe))\n",
        "print(\"Classification Report:\\n\", classification_report(y_test, y_pred_ohe))"
      ],
      "metadata": {
        "colab": {
          "base_uri": "https://localhost:8080/"
        },
        "id": "LFHdiPd62GXc",
        "outputId": "14893ece-ec71-4806-d7ce-a38bc7c62018"
      },
      "execution_count": null,
      "outputs": [
        {
          "output_type": "stream",
          "name": "stdout",
          "text": [
            "--- Bag of Words Classification Results ---\n",
            "Accuracy: 0.6708562450903378\n",
            "Classification Report:\n",
            "               precision    recall  f1-score   support\n",
            "\n",
            "           0       0.25      0.04      0.06        27\n",
            "           1       0.51      0.25      0.34        80\n",
            "           2       0.71      0.82      0.76       772\n",
            "           3       0.58      0.51      0.54       394\n",
            "\n",
            "    accuracy                           0.67      1273\n",
            "   macro avg       0.51      0.40      0.43      1273\n",
            "weighted avg       0.65      0.67      0.65      1273\n",
            "\n",
            "\n",
            "--- One-Hot Encoding (using CountVectorizer binary=True) Classification Results ---\n",
            "Accuracy: 0.6732128829536528\n",
            "Classification Report:\n",
            "               precision    recall  f1-score   support\n",
            "\n",
            "           0       0.25      0.04      0.06        27\n",
            "           1       0.44      0.23      0.30        80\n",
            "           2       0.72      0.82      0.76       772\n",
            "           3       0.60      0.53      0.56       394\n",
            "\n",
            "    accuracy                           0.67      1273\n",
            "   macro avg       0.50      0.40      0.42      1273\n",
            "weighted avg       0.65      0.67      0.66      1273\n",
            "\n"
          ]
        }
      ]
    },
    {
      "cell_type": "code",
      "source": [],
      "metadata": {
        "id": "xVa1OAsg2LVb"
      },
      "execution_count": null,
      "outputs": []
    },
    {
      "cell_type": "markdown",
      "metadata": {
        "id": "IKYerfxBL8ep"
      },
      "source": [
        "## Cosine Similarity"
      ]
    },
    {
      "cell_type": "code",
      "execution_count": null,
      "metadata": {
        "id": "6OUqPfj8MCB-"
      },
      "outputs": [],
      "source": [
        "def cosine(u, v):\n",
        "    return np.dot(u, v) / (np.linalg.norm(u) * np.linalg.norm(v))"
      ]
    },
    {
      "cell_type": "markdown",
      "metadata": {
        "id": "0SE62TbY6-35"
      },
      "source": [
        "## Word2vec\n",
        "a neural approach for generating word embeddings. Word2Vec aims to capture the semantic relationships between words by mapping them to high-dimensional vectors.\n"
      ]
    },
    {
      "cell_type": "code",
      "execution_count": null,
      "metadata": {
        "colab": {
          "base_uri": "https://localhost:8080/"
        },
        "id": "H-yU1VS04pgA",
        "outputId": "40ff980f-f3f7-41b5-830d-775db06e3040"
      },
      "outputs": [
        {
          "name": "stdout",
          "output_type": "stream",
          "text": [
            "Requirement already satisfied: gensim in /usr/local/lib/python3.10/dist-packages (4.3.2)\n",
            "Requirement already satisfied: numpy>=1.18.5 in /usr/local/lib/python3.10/dist-packages (from gensim) (1.25.2)\n",
            "Requirement already satisfied: scipy>=1.7.0 in /usr/local/lib/python3.10/dist-packages (from gensim) (1.11.4)\n",
            "Requirement already satisfied: smart-open>=1.8.1 in /usr/local/lib/python3.10/dist-packages (from gensim) (6.4.0)\n"
          ]
        }
      ],
      "source": [
        "!pip install gensim\n",
        "from gensim.models import Word2Vec"
      ]
    },
    {
      "cell_type": "code",
      "execution_count": null,
      "metadata": {
        "id": "KXIYwJ5U374F"
      },
      "outputs": [],
      "source": [
        "\n",
        "tokenized_corpus = [word_tokenize(row.lower()) for row in sentences] # Lowercasing for consistency\n",
        "\n",
        "skipgram_model = Word2Vec(sentences=tokenized_corpus,\n",
        "\t\t\t\t\t\tvector_size=100, # Dimensionality of the word vectors\n",
        "\t\t\t\t\t\twindow=5,\t\t # Maximum distance between the current and predicted word within a sentence\n",
        "\t\t\t\t\t\tsg=1,\t\t\t # Skip-Gram model (1 for Skip-Gram, 0 for CBOW)\n",
        "\t\t\t\t\t\tmin_count=1,\t # Ignores all words with a total frequency lower than this\n",
        "\t\t\t\t\t\tworkers=4)\t # Number of CPU cores to use for training the model\n",
        "\n"
      ]
    },
    {
      "cell_type": "code",
      "execution_count": null,
      "metadata": {
        "id": "yLI9lorn5ubg"
      },
      "outputs": [],
      "source": [
        "# Training\n",
        "skipgram_model.train(tokenized_corpus, total_examples=1, epochs=10)\n",
        "skipgram_model.save(\"skipgram_model.model\")"
      ]
    },
    {
      "cell_type": "code",
      "execution_count": null,
      "metadata": {
        "colab": {
          "base_uri": "https://localhost:8080/"
        },
        "id": "YDEWrF9K5IYW",
        "outputId": "9d70941d-998d-4dd9-b6c1-1876d09a1438"
      },
      "outputs": [
        {
          "name": "stderr",
          "output_type": "stream",
          "text": [
            "WARNING:gensim.models.word2vec:Effective 'alpha' higher than previous training cycles\n",
            "WARNING:gensim.models.word2vec:EPOCH 0: supplied example count (6) did not equal expected count (1)\n",
            "WARNING:gensim.models.word2vec:EPOCH 1: supplied example count (6) did not equal expected count (1)\n",
            "WARNING:gensim.models.word2vec:EPOCH 2: supplied example count (6) did not equal expected count (1)\n",
            "WARNING:gensim.models.word2vec:EPOCH 3: supplied example count (6) did not equal expected count (1)\n",
            "WARNING:gensim.models.word2vec:EPOCH 4: supplied example count (6) did not equal expected count (1)\n",
            "WARNING:gensim.models.word2vec:EPOCH 5: supplied example count (6) did not equal expected count (1)\n",
            "WARNING:gensim.models.word2vec:EPOCH 6: supplied example count (6) did not equal expected count (1)\n",
            "WARNING:gensim.models.word2vec:EPOCH 7: supplied example count (6) did not equal expected count (1)\n",
            "WARNING:gensim.models.word2vec:EPOCH 8: supplied example count (6) did not equal expected count (1)\n",
            "WARNING:gensim.models.word2vec:EPOCH 9: supplied example count (6) did not equal expected count (1)\n"
          ]
        },
        {
          "name": "stdout",
          "output_type": "stream",
          "text": [
            "Vector representation of 'word': [-0.00950447  0.00955515 -0.0077696  -0.00262882 -0.00491648 -0.00496634\n",
            " -0.00800592 -0.0077716  -0.00456628 -0.00127767 -0.00510698  0.00611917\n",
            " -0.00950381 -0.00529229  0.00942755  0.00696844  0.00769432  0.00421969\n",
            "  0.00050556 -0.00601709  0.0060352   0.00262788  0.00770882  0.00641462\n",
            "  0.00793716  0.00866055 -0.00990894 -0.00674955  0.00132602  0.00642591\n",
            "  0.00740164  0.00551738  0.00766585 -0.0051569   0.00659095 -0.00411945\n",
            " -0.00902732  0.00914723  0.00132314 -0.00275034 -0.00248252 -0.00424674\n",
            "  0.0048073   0.00440467 -0.00265729 -0.00736784 -0.00358463 -0.00033224\n",
            "  0.0061072  -0.00283444 -0.00011622  0.00087059 -0.00709479  0.00208692\n",
            " -0.00145339  0.00280635  0.00486646 -0.00136687 -0.00279726  0.00774455\n",
            "  0.0050585   0.00669449  0.00454339  0.00867365  0.00745073 -0.00106798\n",
            "  0.00872912  0.00460604  0.0054318  -0.00138315 -0.00203615 -0.00440521\n",
            " -0.00851143  0.00303608  0.00890537  0.00892032 -0.00194119  0.00611661\n",
            "  0.00377736 -0.00429763  0.00201897 -0.00545526  0.00819881  0.00544415\n",
            "  0.00315257  0.00409672  0.00866724  0.00728383 -0.0008342  -0.00706075\n",
            "  0.00839538  0.00724392  0.0017311  -0.00134383 -0.0058597  -0.00452868\n",
            "  0.00865672 -0.00315849 -0.00635604  0.00987139]\n"
          ]
        }
      ],
      "source": [
        "\n",
        "loaded_model = Word2Vec.load(\"skipgram_model.model\")\n",
        "vector_representation = loaded_model.wv['meal']\n",
        "print(\"Vector representation of 'word':\", vector_representation)\n"
      ]
    },
    {
      "cell_type": "code",
      "execution_count": null,
      "metadata": {
        "colab": {
          "base_uri": "https://localhost:8080/"
        },
        "id": "veUkQnVMuf4_",
        "outputId": "36c2fcd0-105c-4e44-b0fb-fbe525eb4b11"
      },
      "outputs": [
        {
          "name": "stdout",
          "output_type": "stream",
          "text": [
            "[('a', 0.25521278381347656), ('like', 0.15167315304279327), (',', 0.1484365612268448), ('magnificent', 0.14477501809597015), ('we', 0.14049503207206726), ('fish', 0.11698395758867264), ('the', 0.07397393882274628), ('it', 0.06812236458063126), ('all', 0.04888879880309105), ('end', 0.04875940829515457)]\n"
          ]
        }
      ],
      "source": [
        "sims = loaded_model.wv.most_similar('meal', topn=10)  # get other similar words\n",
        "print(sims)"
      ]
    },
    {
      "cell_type": "markdown",
      "metadata": {
        "id": "8sRb4rjtWUrX"
      },
      "source": [
        "# Word2vec on a real dataset"
      ]
    },
    {
      "cell_type": "code",
      "execution_count": null,
      "metadata": {
        "colab": {
          "base_uri": "https://localhost:8080/"
        },
        "id": "EsttYJYWarKw",
        "outputId": "c9ed25c7-c036-4b8e-89d9-d61539954cd6"
      },
      "outputs": [
        {
          "name": "stdout",
          "output_type": "stream",
          "text": [
            "Archive:  simpsons_dataset.csv.zip\n",
            "  inflating: simpsons_dataset.csv    \n"
          ]
        }
      ],
      "source": [
        "!unzip simpsons_dataset.csv.zip #The dataset is the Simpsons' lines of dialogue"
      ]
    },
    {
      "cell_type": "markdown",
      "metadata": {
        "id": "GidHX2Jzs5qb"
      },
      "source": [
        "Embeddings with multiword ngrams\n"
      ]
    },
    {
      "cell_type": "code",
      "execution_count": null,
      "metadata": {
        "id": "oqOLMwFfWUTs"
      },
      "outputs": [],
      "source": [
        "import re  # For preprocessing\n",
        "import pandas as pd  # For data handling\n",
        "import time  # To time our operations\n",
        "from collections import defaultdict  # For word frequency\n",
        "\n",
        "import spacy  # For preprocessing\n",
        "\n",
        "import logging  # Setting up the loggings to monitor gensim\n",
        "logging.basicConfig(format=\"%(levelname)s - %(asctime)s: %(message)s\", datefmt= '%H:%M:%S', level=logging.INFO)"
      ]
    },
    {
      "cell_type": "code",
      "execution_count": null,
      "metadata": {
        "colab": {
          "base_uri": "https://localhost:8080/",
          "height": 206
        },
        "id": "ECOEXfCAXLlz",
        "outputId": "84b45f2d-ba88-4b10-c6c9-c2f23dc74ff4"
      },
      "outputs": [
        {
          "data": {
            "application/vnd.google.colaboratory.intrinsic+json": {
              "type": "dataframe",
              "variable_name": "df"
            },
            "text/html": [
              "\n",
              "  <div id=\"df-2b578ba4-eda0-44e5-95d0-4cd45a088f82\" class=\"colab-df-container\">\n",
              "    <div>\n",
              "<style scoped>\n",
              "    .dataframe tbody tr th:only-of-type {\n",
              "        vertical-align: middle;\n",
              "    }\n",
              "\n",
              "    .dataframe tbody tr th {\n",
              "        vertical-align: top;\n",
              "    }\n",
              "\n",
              "    .dataframe thead th {\n",
              "        text-align: right;\n",
              "    }\n",
              "</style>\n",
              "<table border=\"1\" class=\"dataframe\">\n",
              "  <thead>\n",
              "    <tr style=\"text-align: right;\">\n",
              "      <th></th>\n",
              "      <th>raw_character_text</th>\n",
              "      <th>spoken_words</th>\n",
              "    </tr>\n",
              "  </thead>\n",
              "  <tbody>\n",
              "    <tr>\n",
              "      <th>0</th>\n",
              "      <td>Miss Hoover</td>\n",
              "      <td>No, actually, it was a little of both. Sometim...</td>\n",
              "    </tr>\n",
              "    <tr>\n",
              "      <th>1</th>\n",
              "      <td>Lisa Simpson</td>\n",
              "      <td>Where's Mr. Bergstrom?</td>\n",
              "    </tr>\n",
              "    <tr>\n",
              "      <th>2</th>\n",
              "      <td>Miss Hoover</td>\n",
              "      <td>I don't know. Although I'd sure like to talk t...</td>\n",
              "    </tr>\n",
              "    <tr>\n",
              "      <th>3</th>\n",
              "      <td>Lisa Simpson</td>\n",
              "      <td>That life is worth living.</td>\n",
              "    </tr>\n",
              "    <tr>\n",
              "      <th>4</th>\n",
              "      <td>Edna Krabappel-Flanders</td>\n",
              "      <td>The polls will be open from now until the end ...</td>\n",
              "    </tr>\n",
              "  </tbody>\n",
              "</table>\n",
              "</div>\n",
              "    <div class=\"colab-df-buttons\">\n",
              "\n",
              "  <div class=\"colab-df-container\">\n",
              "    <button class=\"colab-df-convert\" onclick=\"convertToInteractive('df-2b578ba4-eda0-44e5-95d0-4cd45a088f82')\"\n",
              "            title=\"Convert this dataframe to an interactive table.\"\n",
              "            style=\"display:none;\">\n",
              "\n",
              "  <svg xmlns=\"http://www.w3.org/2000/svg\" height=\"24px\" viewBox=\"0 -960 960 960\">\n",
              "    <path d=\"M120-120v-720h720v720H120Zm60-500h600v-160H180v160Zm220 220h160v-160H400v160Zm0 220h160v-160H400v160ZM180-400h160v-160H180v160Zm440 0h160v-160H620v160ZM180-180h160v-160H180v160Zm440 0h160v-160H620v160Z\"/>\n",
              "  </svg>\n",
              "    </button>\n",
              "\n",
              "  <style>\n",
              "    .colab-df-container {\n",
              "      display:flex;\n",
              "      gap: 12px;\n",
              "    }\n",
              "\n",
              "    .colab-df-convert {\n",
              "      background-color: #E8F0FE;\n",
              "      border: none;\n",
              "      border-radius: 50%;\n",
              "      cursor: pointer;\n",
              "      display: none;\n",
              "      fill: #1967D2;\n",
              "      height: 32px;\n",
              "      padding: 0 0 0 0;\n",
              "      width: 32px;\n",
              "    }\n",
              "\n",
              "    .colab-df-convert:hover {\n",
              "      background-color: #E2EBFA;\n",
              "      box-shadow: 0px 1px 2px rgba(60, 64, 67, 0.3), 0px 1px 3px 1px rgba(60, 64, 67, 0.15);\n",
              "      fill: #174EA6;\n",
              "    }\n",
              "\n",
              "    .colab-df-buttons div {\n",
              "      margin-bottom: 4px;\n",
              "    }\n",
              "\n",
              "    [theme=dark] .colab-df-convert {\n",
              "      background-color: #3B4455;\n",
              "      fill: #D2E3FC;\n",
              "    }\n",
              "\n",
              "    [theme=dark] .colab-df-convert:hover {\n",
              "      background-color: #434B5C;\n",
              "      box-shadow: 0px 1px 3px 1px rgba(0, 0, 0, 0.15);\n",
              "      filter: drop-shadow(0px 1px 2px rgba(0, 0, 0, 0.3));\n",
              "      fill: #FFFFFF;\n",
              "    }\n",
              "  </style>\n",
              "\n",
              "    <script>\n",
              "      const buttonEl =\n",
              "        document.querySelector('#df-2b578ba4-eda0-44e5-95d0-4cd45a088f82 button.colab-df-convert');\n",
              "      buttonEl.style.display =\n",
              "        google.colab.kernel.accessAllowed ? 'block' : 'none';\n",
              "\n",
              "      async function convertToInteractive(key) {\n",
              "        const element = document.querySelector('#df-2b578ba4-eda0-44e5-95d0-4cd45a088f82');\n",
              "        const dataTable =\n",
              "          await google.colab.kernel.invokeFunction('convertToInteractive',\n",
              "                                                    [key], {});\n",
              "        if (!dataTable) return;\n",
              "\n",
              "        const docLinkHtml = 'Like what you see? Visit the ' +\n",
              "          '<a target=\"_blank\" href=https://colab.research.google.com/notebooks/data_table.ipynb>data table notebook</a>'\n",
              "          + ' to learn more about interactive tables.';\n",
              "        element.innerHTML = '';\n",
              "        dataTable['output_type'] = 'display_data';\n",
              "        await google.colab.output.renderOutput(dataTable, element);\n",
              "        const docLink = document.createElement('div');\n",
              "        docLink.innerHTML = docLinkHtml;\n",
              "        element.appendChild(docLink);\n",
              "      }\n",
              "    </script>\n",
              "  </div>\n",
              "\n",
              "\n",
              "<div id=\"df-652f906d-f367-44d8-bf80-d9f071840a7f\">\n",
              "  <button class=\"colab-df-quickchart\" onclick=\"quickchart('df-652f906d-f367-44d8-bf80-d9f071840a7f')\"\n",
              "            title=\"Suggest charts\"\n",
              "            style=\"display:none;\">\n",
              "\n",
              "<svg xmlns=\"http://www.w3.org/2000/svg\" height=\"24px\"viewBox=\"0 0 24 24\"\n",
              "     width=\"24px\">\n",
              "    <g>\n",
              "        <path d=\"M19 3H5c-1.1 0-2 .9-2 2v14c0 1.1.9 2 2 2h14c1.1 0 2-.9 2-2V5c0-1.1-.9-2-2-2zM9 17H7v-7h2v7zm4 0h-2V7h2v10zm4 0h-2v-4h2v4z\"/>\n",
              "    </g>\n",
              "</svg>\n",
              "  </button>\n",
              "\n",
              "<style>\n",
              "  .colab-df-quickchart {\n",
              "      --bg-color: #E8F0FE;\n",
              "      --fill-color: #1967D2;\n",
              "      --hover-bg-color: #E2EBFA;\n",
              "      --hover-fill-color: #174EA6;\n",
              "      --disabled-fill-color: #AAA;\n",
              "      --disabled-bg-color: #DDD;\n",
              "  }\n",
              "\n",
              "  [theme=dark] .colab-df-quickchart {\n",
              "      --bg-color: #3B4455;\n",
              "      --fill-color: #D2E3FC;\n",
              "      --hover-bg-color: #434B5C;\n",
              "      --hover-fill-color: #FFFFFF;\n",
              "      --disabled-bg-color: #3B4455;\n",
              "      --disabled-fill-color: #666;\n",
              "  }\n",
              "\n",
              "  .colab-df-quickchart {\n",
              "    background-color: var(--bg-color);\n",
              "    border: none;\n",
              "    border-radius: 50%;\n",
              "    cursor: pointer;\n",
              "    display: none;\n",
              "    fill: var(--fill-color);\n",
              "    height: 32px;\n",
              "    padding: 0;\n",
              "    width: 32px;\n",
              "  }\n",
              "\n",
              "  .colab-df-quickchart:hover {\n",
              "    background-color: var(--hover-bg-color);\n",
              "    box-shadow: 0 1px 2px rgba(60, 64, 67, 0.3), 0 1px 3px 1px rgba(60, 64, 67, 0.15);\n",
              "    fill: var(--button-hover-fill-color);\n",
              "  }\n",
              "\n",
              "  .colab-df-quickchart-complete:disabled,\n",
              "  .colab-df-quickchart-complete:disabled:hover {\n",
              "    background-color: var(--disabled-bg-color);\n",
              "    fill: var(--disabled-fill-color);\n",
              "    box-shadow: none;\n",
              "  }\n",
              "\n",
              "  .colab-df-spinner {\n",
              "    border: 2px solid var(--fill-color);\n",
              "    border-color: transparent;\n",
              "    border-bottom-color: var(--fill-color);\n",
              "    animation:\n",
              "      spin 1s steps(1) infinite;\n",
              "  }\n",
              "\n",
              "  @keyframes spin {\n",
              "    0% {\n",
              "      border-color: transparent;\n",
              "      border-bottom-color: var(--fill-color);\n",
              "      border-left-color: var(--fill-color);\n",
              "    }\n",
              "    20% {\n",
              "      border-color: transparent;\n",
              "      border-left-color: var(--fill-color);\n",
              "      border-top-color: var(--fill-color);\n",
              "    }\n",
              "    30% {\n",
              "      border-color: transparent;\n",
              "      border-left-color: var(--fill-color);\n",
              "      border-top-color: var(--fill-color);\n",
              "      border-right-color: var(--fill-color);\n",
              "    }\n",
              "    40% {\n",
              "      border-color: transparent;\n",
              "      border-right-color: var(--fill-color);\n",
              "      border-top-color: var(--fill-color);\n",
              "    }\n",
              "    60% {\n",
              "      border-color: transparent;\n",
              "      border-right-color: var(--fill-color);\n",
              "    }\n",
              "    80% {\n",
              "      border-color: transparent;\n",
              "      border-right-color: var(--fill-color);\n",
              "      border-bottom-color: var(--fill-color);\n",
              "    }\n",
              "    90% {\n",
              "      border-color: transparent;\n",
              "      border-bottom-color: var(--fill-color);\n",
              "    }\n",
              "  }\n",
              "</style>\n",
              "\n",
              "  <script>\n",
              "    async function quickchart(key) {\n",
              "      const quickchartButtonEl =\n",
              "        document.querySelector('#' + key + ' button');\n",
              "      quickchartButtonEl.disabled = true;  // To prevent multiple clicks.\n",
              "      quickchartButtonEl.classList.add('colab-df-spinner');\n",
              "      try {\n",
              "        const charts = await google.colab.kernel.invokeFunction(\n",
              "            'suggestCharts', [key], {});\n",
              "      } catch (error) {\n",
              "        console.error('Error during call to suggestCharts:', error);\n",
              "      }\n",
              "      quickchartButtonEl.classList.remove('colab-df-spinner');\n",
              "      quickchartButtonEl.classList.add('colab-df-quickchart-complete');\n",
              "    }\n",
              "    (() => {\n",
              "      let quickchartButtonEl =\n",
              "        document.querySelector('#df-652f906d-f367-44d8-bf80-d9f071840a7f button');\n",
              "      quickchartButtonEl.style.display =\n",
              "        google.colab.kernel.accessAllowed ? 'block' : 'none';\n",
              "    })();\n",
              "  </script>\n",
              "</div>\n",
              "\n",
              "    </div>\n",
              "  </div>\n"
            ],
            "text/plain": [
              "        raw_character_text                                       spoken_words\n",
              "0              Miss Hoover  No, actually, it was a little of both. Sometim...\n",
              "1             Lisa Simpson                             Where's Mr. Bergstrom?\n",
              "2              Miss Hoover  I don't know. Although I'd sure like to talk t...\n",
              "3             Lisa Simpson                         That life is worth living.\n",
              "4  Edna Krabappel-Flanders  The polls will be open from now until the end ..."
            ]
          },
          "execution_count": 32,
          "metadata": {},
          "output_type": "execute_result"
        }
      ],
      "source": [
        "df = pd.read_csv('simpsons_dataset.csv')\n",
        "df.head()"
      ]
    },
    {
      "cell_type": "markdown",
      "metadata": {
        "id": "K7vxXdL4aQQr"
      },
      "source": [
        "Lets clean and balance the data"
      ]
    },
    {
      "cell_type": "code",
      "execution_count": null,
      "metadata": {
        "colab": {
          "base_uri": "https://localhost:8080/"
        },
        "id": "XoIr1OkAZOdV",
        "outputId": "edd4eba2-f8f2-4f78-9220-9626266221d5"
      },
      "outputs": [
        {
          "data": {
            "text/plain": [
              "raw_character_text    17814\n",
              "spoken_words          26459\n",
              "dtype: int64"
            ]
          },
          "execution_count": 33,
          "metadata": {},
          "output_type": "execute_result"
        }
      ],
      "source": [
        "df.isnull().sum() #returns a df object where all the values are replaced with a Boolean value True for NULL values, and otherwise False and sums those values"
      ]
    },
    {
      "cell_type": "code",
      "execution_count": null,
      "metadata": {
        "colab": {
          "base_uri": "https://localhost:8080/"
        },
        "id": "pEzn_QHPZQmx",
        "outputId": "a3a7d8a7-9dee-4fcf-e25f-b957d0b7b78c"
      },
      "outputs": [
        {
          "data": {
            "text/plain": [
              "raw_character_text    0\n",
              "spoken_words          0\n",
              "dtype: int64"
            ]
          },
          "execution_count": 34,
          "metadata": {},
          "output_type": "execute_result"
        }
      ],
      "source": [
        "df = df.dropna().reset_index(drop=True) #Removes the missing value\n",
        "df.isnull().sum()"
      ]
    },
    {
      "cell_type": "code",
      "execution_count": null,
      "metadata": {
        "id": "PihtGFYyZS8e"
      },
      "outputs": [],
      "source": [
        "nlp = spacy.load('en_core_web_sm', disable=['ner', 'parser']) # disabling Named Entity Recognition for speed\n",
        "\n",
        "def cleaning(doc):\n",
        "    # Lemmatizes and removes stopwords\n",
        "    # doc needs to be a spacy Doc object\n",
        "    txt = [token.lemma_ for token in doc if not token.is_stop]\n",
        "    # Word2Vec uses context words to learn the vector representation of a target word,\n",
        "    # if a sentence is only one or two words long,\n",
        "    # the benefit for the training is very small\n",
        "    if len(txt) > 2:\n",
        "        return ' '.join(txt)"
      ]
    },
    {
      "cell_type": "code",
      "execution_count": null,
      "metadata": {
        "id": "tVobQSdZZVK4"
      },
      "outputs": [],
      "source": [
        "brief_cleaning = (re.sub(\"[^A-Za-z']+\", ' ', str(row)).lower() for row in df['spoken_words']) #removing any non-alphabetic characters incase any encoding error happened\n"
      ]
    },
    {
      "cell_type": "code",
      "execution_count": null,
      "metadata": {
        "colab": {
          "base_uri": "https://localhost:8080/"
        },
        "id": "cA__4cwEZXA0",
        "outputId": "e405d968-5524-4afb-e272-ad9bdb9d5347"
      },
      "outputs": [
        {
          "name": "stdout",
          "output_type": "stream",
          "text": [
            "Time to clean up everything 00:02:09\n"
          ]
        }
      ],
      "source": [
        "t = time.time()\n",
        "\n",
        "txt = [cleaning(doc) for doc in nlp.pipe(brief_cleaning, batch_size=5000)] #creating a pipeline to process the data\n",
        "\n",
        "\n",
        "print('Time to clean up everything', time.strftime(\"%H:%M:%S\", time.gmtime(time.time()-t)))"
      ]
    },
    {
      "cell_type": "code",
      "execution_count": null,
      "metadata": {
        "colab": {
          "base_uri": "https://localhost:8080/"
        },
        "id": "CEXLEcRjZYjt",
        "outputId": "5458a3c0-2c22-4132-93da-b05362cdc6a9"
      },
      "outputs": [
        {
          "data": {
            "text/plain": [
              "(85955, 1)"
            ]
          },
          "execution_count": 38,
          "metadata": {},
          "output_type": "execute_result"
        }
      ],
      "source": [
        "df_clean = pd.DataFrame({'clean': txt})\n",
        "df_clean = df_clean.dropna().drop_duplicates()\n",
        "df_clean.shape"
      ]
    },
    {
      "cell_type": "markdown",
      "metadata": {
        "id": "ZiF-PAmQb1dr"
      },
      "source": [
        "Gensim Phrases package to automatically detect common phrases (bigrams) from a list of sentences"
      ]
    },
    {
      "cell_type": "code",
      "execution_count": null,
      "metadata": {
        "id": "Fk8bXuVaZavR"
      },
      "outputs": [],
      "source": [
        "from gensim.models.phrases import Phrases, Phraser\n",
        "sent = [row.split() for row in df_clean['clean']]\n"
      ]
    },
    {
      "cell_type": "markdown",
      "metadata": {
        "id": "sqaFT4ijkS6T"
      },
      "source": [
        "Why do we need Phrases and Phraser? The goal of Phraser() is to cut down memory consumption of Phrases(), by discarding model state not strictly needed for the bigram detection task"
      ]
    },
    {
      "cell_type": "code",
      "execution_count": null,
      "metadata": {
        "id": "DsR4FMODkJab"
      },
      "outputs": [],
      "source": [
        "phrases = Phrases(sent, min_count=30, progress_per=10000)\n",
        " #takes a list of list of words as input"
      ]
    },
    {
      "cell_type": "code",
      "execution_count": null,
      "metadata": {
        "colab": {
          "base_uri": "https://localhost:8080/"
        },
        "id": "JOhLTtnbaLuZ",
        "outputId": "49e500a4-18d9-4c35-c5de-ecd4b224d9ed"
      },
      "outputs": [
        {
          "data": {
            "text/plain": [
              "29694"
            ]
          },
          "execution_count": 41,
          "metadata": {},
          "output_type": "execute_result"
        }
      ],
      "source": [
        "bigram = Phraser(phrases)\n",
        "sentences_ = bigram[sent]\n",
        "word_freq = defaultdict(int)\n",
        "for sent in sentences_:\n",
        "    for i in sent:\n",
        "        word_freq[i] += 1\n",
        "len(word_freq)"
      ]
    },
    {
      "cell_type": "code",
      "execution_count": null,
      "metadata": {
        "colab": {
          "base_uri": "https://localhost:8080/"
        },
        "id": "hTe9GgJ0aQKK",
        "outputId": "3877054d-010c-4b65-a0da-e2d920d8f1ad"
      },
      "outputs": [
        {
          "data": {
            "text/plain": [
              "['oh', 'like', 'know', 'get', 'hey', 'think', 'come', 'right', 'look', 'want']"
            ]
          },
          "execution_count": 42,
          "metadata": {},
          "output_type": "execute_result"
        }
      ],
      "source": [
        "sorted(word_freq, key=word_freq.get, reverse=True)[:10]\n"
      ]
    },
    {
      "cell_type": "code",
      "execution_count": null,
      "metadata": {
        "id": "SksEZUXJaSQ_"
      },
      "outputs": [],
      "source": [
        "import multiprocessing\n",
        "\n"
      ]
    },
    {
      "cell_type": "code",
      "execution_count": null,
      "metadata": {
        "id": "-N1DH4WcaUIO"
      },
      "outputs": [],
      "source": [
        "cores = multiprocessing.cpu_count() # Count the number of cores in a computer\n"
      ]
    },
    {
      "cell_type": "code",
      "execution_count": null,
      "metadata": {
        "id": "ICCEbgPfaWxM"
      },
      "outputs": [],
      "source": [
        "w2v_model = Word2Vec(min_count=20,\n",
        "                     window=2,\n",
        "                     vector_size=300,\n",
        "                     sample=6e-5,\n",
        "                     alpha=0.03,\n",
        "                     min_alpha=0.0007,\n",
        "                     negative=20,\n",
        "                     workers=cores-1)"
      ]
    },
    {
      "cell_type": "code",
      "execution_count": null,
      "metadata": {
        "colab": {
          "base_uri": "https://localhost:8080/"
        },
        "id": "0bs5fiq9aZn8",
        "outputId": "84f857cb-f786-42e6-fce0-c9d221c5e795"
      },
      "outputs": [
        {
          "name": "stdout",
          "output_type": "stream",
          "text": [
            "Time to build the vocab 00:00:01\n"
          ]
        }
      ],
      "source": [
        "t = time.time()\n",
        "\n",
        "w2v_model.build_vocab(sentences_, progress_per=10000) # Can only be done once!!\n",
        "\n",
        "print('Time to build the vocab', time.strftime(\"%H:%M:%S\", time.gmtime(time.time()-t)))"
      ]
    },
    {
      "cell_type": "code",
      "execution_count": null,
      "metadata": {
        "colab": {
          "base_uri": "https://localhost:8080/"
        },
        "id": "gJc_ingwcrcq",
        "outputId": "e76e00a4-d0ba-4056-b000-520ef687559e"
      },
      "outputs": [
        {
          "data": {
            "text/plain": [
              "<gensim.interfaces.TransformedCorpus at 0x7f2a54994a00>"
            ]
          },
          "execution_count": 47,
          "metadata": {},
          "output_type": "execute_result"
        }
      ],
      "source": [
        "sentences_"
      ]
    },
    {
      "cell_type": "code",
      "execution_count": null,
      "metadata": {
        "colab": {
          "base_uri": "https://localhost:8080/"
        },
        "id": "ouIV3mDMacBy",
        "outputId": "0f2de504-1a27-4626-8db8-2b1e93203626"
      },
      "outputs": [
        {
          "name": "stdout",
          "output_type": "stream",
          "text": [
            "Time to train the model 00:01:09\n"
          ]
        }
      ],
      "source": [
        "t = time.time()\n",
        "\n",
        "w2v_model.train(sentences_, total_examples=w2v_model.corpus_count, epochs=30, report_delay=1)\n",
        "\n",
        "print('Time to train the model', time.strftime(\"%H:%M:%S\", time.gmtime(time.time()-t)))"
      ]
    },
    {
      "cell_type": "code",
      "execution_count": null,
      "metadata": {
        "colab": {
          "base_uri": "https://localhost:8080/"
        },
        "id": "v_zl-bIlaeuZ",
        "outputId": "2e1f9d9c-3580-42d2-a48d-464fb1fe25eb"
      },
      "outputs": [
        {
          "name": "stderr",
          "output_type": "stream",
          "text": [
            "<ipython-input-49-f46c6c62f4fa>:1: DeprecationWarning: Call to deprecated `init_sims` (Gensim 4.0.0 implemented internal optimizations that make calls to init_sims() unnecessary. init_sims() is now obsoleted and will be completely removed in future versions. See https://github.com/RaRe-Technologies/gensim/wiki/Migrating-from-Gensim-3.x-to-4).\n",
            "  w2v_model.init_sims(replace=True) #no further training so init_sims() makes the model much more memory-efficient:\n",
            "WARNING:gensim.models.keyedvectors:destructive init_sims(replace=True) deprecated & no longer required for space-efficiency\n"
          ]
        }
      ],
      "source": [
        "# w2v_model.init_sims(replace=True) #no further training so init_sims() makes the model much more memory-efficient:"
      ]
    },
    {
      "cell_type": "code",
      "execution_count": null,
      "metadata": {
        "colab": {
          "base_uri": "https://localhost:8080/"
        },
        "id": "LzT1yHnOahPz",
        "outputId": "6fc47f6e-1de3-4e34-f312-99732be04694"
      },
      "outputs": [
        {
          "data": {
            "text/plain": [
              "[('sweetheart', 0.7089717984199524),\n",
              " ('marge', 0.6976544857025146),\n",
              " ('humiliate', 0.6959439516067505),\n",
              " ('depressed', 0.6958469152450562),\n",
              " ('gee', 0.6857178211212158),\n",
              " ('snuggle', 0.6756035089492798),\n",
              " ('hammock', 0.6676444411277771),\n",
              " ('embarrassing', 0.6632099151611328),\n",
              " ('badly', 0.6603363752365112),\n",
              " ('terrific', 0.660012423992157)]"
            ]
          },
          "execution_count": 50,
          "metadata": {},
          "output_type": "execute_result"
        }
      ],
      "source": [
        "w2v_model.wv.most_similar(positive=[\"homer\"])"
      ]
    },
    {
      "cell_type": "code",
      "execution_count": null,
      "metadata": {
        "colab": {
          "base_uri": "https://localhost:8080/"
        },
        "id": "XGQJJAIvakQb",
        "outputId": "d45cb34c-cf4c-483a-8f8f-f817dcc7e969"
      },
      "outputs": [
        {
          "data": {
            "text/plain": [
              "[('humiliate', 0.7133126258850098),\n",
              " ('becky', 0.7076418399810791),\n",
              " ('homer', 0.6976544857025146),\n",
              " ('sorry', 0.6886954307556152),\n",
              " ('ralphie', 0.6843724846839905),\n",
              " ('snuggle', 0.6792821884155273),\n",
              " ('attract', 0.6763634085655212),\n",
              " ('embarrassing', 0.6742489337921143),\n",
              " ('hopeless', 0.6735115647315979),\n",
              " ('badly', 0.6731808185577393)]"
            ]
          },
          "execution_count": 51,
          "metadata": {},
          "output_type": "execute_result"
        }
      ],
      "source": [
        "w2v_model.wv.most_similar(positive=[\"marge\"])"
      ]
    },
    {
      "cell_type": "code",
      "execution_count": null,
      "metadata": {
        "colab": {
          "base_uri": "https://localhost:8080/"
        },
        "id": "2__8kHjccvLK",
        "outputId": "9475a167-188d-4cac-869e-5344a93b41ad"
      },
      "outputs": [
        {
          "data": {
            "text/plain": [
              "0.6976545"
            ]
          },
          "execution_count": 52,
          "metadata": {},
          "output_type": "execute_result"
        }
      ],
      "source": [
        "w2v_model.wv.similarity(\"marge\", 'homer')\n"
      ]
    },
    {
      "cell_type": "code",
      "execution_count": null,
      "metadata": {
        "colab": {
          "base_uri": "https://localhost:8080/"
        },
        "id": "AoAF74h4dpZy",
        "outputId": "09fc74d0-95df-4935-fd76-6708609ccf1d"
      },
      "outputs": [
        {
          "data": {
            "text/plain": [
              "0.5159856"
            ]
          },
          "execution_count": 53,
          "metadata": {},
          "output_type": "execute_result"
        }
      ],
      "source": [
        "w2v_model.wv.similarity('hate', 'love')"
      ]
    },
    {
      "cell_type": "markdown",
      "metadata": {
        "id": "_xhiKr71S3-x"
      },
      "source": [
        "How is it done?\n",
        "we take the mean of all the word-vectors, and sort of 'center' for all candidates. Then calculate the cosine-distance from that center to each word.This is the dot-product between unit-normalized versions of each relevant vector\n",
        "return the single word with the highest cosine-distance from that mean"
      ]
    },
    {
      "cell_type": "code",
      "execution_count": null,
      "metadata": {
        "colab": {
          "base_uri": "https://localhost:8080/",
          "height": 36
        },
        "id": "0cEu5Ds5UEsc",
        "outputId": "b1382a68-8bf9-4776-b7cc-3e53ff66c4bd"
      },
      "outputs": [
        {
          "data": {
            "application/vnd.google.colaboratory.intrinsic+json": {
              "type": "string"
            },
            "text/plain": [
              "'day'"
            ]
          },
          "execution_count": 55,
          "metadata": {},
          "output_type": "execute_result"
        }
      ],
      "source": [
        "w2v_model.wv.doesnt_match(['day', 'night', 'evening'])\n"
      ]
    },
    {
      "cell_type": "markdown",
      "metadata": {
        "id": "yEicFs7R8bFV"
      },
      "source": [
        "##GloVe\n"
      ]
    },
    {
      "cell_type": "code",
      "execution_count": null,
      "metadata": {
        "colab": {
          "base_uri": "https://localhost:8080/"
        },
        "id": "d1VRQhWGrZ25",
        "outputId": "2695b3c4-a1fa-4459-e755-8212fd362b9f"
      },
      "outputs": [
        {
          "name": "stdout",
          "output_type": "stream",
          "text": [
            "[==================================================] 100.0% 66.0/66.0MB downloaded\n",
            "Similarity between 'learn' and 'learning' using GloVe: 0.802\n",
            "Similarity between 'india' and 'indian' using GloVe: 0.865\n",
            "Similarity between 'fame' and 'famous' using GloVe: 0.589\n"
          ]
        }
      ],
      "source": [
        "from gensim.models import KeyedVectors\n",
        "from gensim.downloader import load\n",
        "\n",
        "glove_model = load('glove-wiki-gigaword-50')\n",
        "word_pairs = [('learn', 'learning'), ('india', 'indian'), ('fame', 'famous')]\n",
        "\n",
        "# Compute similarity for each pair of words\n",
        "for pair in word_pairs:\n",
        "\tsimilarity = glove_model.similarity(pair[0], pair[1])\n",
        "\tprint(f\"Similarity between '{pair[0]}' and '{pair[1]}' using GloVe: {similarity:.3f}\")\n"
      ]
    },
    {
      "cell_type": "markdown",
      "metadata": {
        "id": "mB2h2rf4H-WG"
      },
      "source": [
        "# Beyond Word Embedding\n",
        "Sentence Embedding"
      ]
    },
    {
      "cell_type": "markdown",
      "metadata": {
        "id": "dnKChH5oMUcv"
      },
      "source": [
        "## Doc2Vec"
      ]
    },
    {
      "cell_type": "markdown",
      "metadata": {
        "id": "Ukx3I98xPXm_"
      },
      "source": [
        "unsupervised algorithm and adds on to the Word2Vec"
      ]
    },
    {
      "cell_type": "code",
      "execution_count": null,
      "metadata": {
        "colab": {
          "base_uri": "https://localhost:8080/"
        },
        "id": "wlyAb1LVRDWq",
        "outputId": "43fc8473-aeeb-438e-ebf6-b31393a88134"
      },
      "outputs": [
        {
          "data": {
            "text/plain": [
              "['I ate dinner.',\n",
              " 'We had a three-course meal.',\n",
              " 'Brad came to dinner with us.',\n",
              " 'He loves fish tacos.',\n",
              " 'In the end, we all felt like we ate too much.',\n",
              " 'We all agreed; it was a magnificent evening.']"
            ]
          },
          "execution_count": 56,
          "metadata": {},
          "output_type": "execute_result"
        }
      ],
      "source": [
        "sentences"
      ]
    },
    {
      "cell_type": "code",
      "execution_count": null,
      "metadata": {
        "colab": {
          "base_uri": "https://localhost:8080/"
        },
        "id": "Zfc4hbMAPTN5",
        "outputId": "c88364ac-ac43-442d-ab60-c7f85ecd1933"
      },
      "outputs": [
        {
          "name": "stdout",
          "output_type": "stream",
          "text": [
            "[['i', 'ate', 'dinner', '.'], ['we', 'had', 'a', 'three-course', 'meal', '.'], ['brad', 'came', 'to', 'dinner', 'with', 'us', '.'], ['he', 'loves', 'fish', 'tacos', '.'], ['in', 'the', 'end', ',', 'we', 'all', 'felt', 'like', 'we', 'ate', 'too', 'much', '.'], ['we', 'all', 'agreed', ';', 'it', 'was', 'a', 'magnificent', 'evening', '.']]\n"
          ]
        }
      ],
      "source": [
        "# Tokenization of each document\n",
        "tokenized_sent = []\n",
        "for s in sentences:\n",
        "  # print(s)\n",
        "  tokenized_sent.append(word_tokenize(s.lower()))\n",
        "print(tokenized_sent)"
      ]
    },
    {
      "cell_type": "code",
      "execution_count": null,
      "metadata": {
        "colab": {
          "base_uri": "https://localhost:8080/"
        },
        "id": "7EDlyrK4MFCX",
        "outputId": "f43c568f-3441-430d-f5ac-049cbabd4239"
      },
      "outputs": [
        {
          "data": {
            "text/plain": [
              "[TaggedDocument(words=['i', 'ate', 'dinner', '.'], tags=['id_0']),\n",
              " TaggedDocument(words=['we', 'had', 'a', 'three-course', 'meal', '.'], tags=['id_1']),\n",
              " TaggedDocument(words=['brad', 'came', 'to', 'dinner', 'with', 'us', '.'], tags=['id_2']),\n",
              " TaggedDocument(words=['he', 'loves', 'fish', 'tacos', '.'], tags=['id_3']),\n",
              " TaggedDocument(words=['in', 'the', 'end', ',', 'we', 'all', 'felt', 'like', 'we', 'ate', 'too', 'much', '.'], tags=['id_4']),\n",
              " TaggedDocument(words=['we', 'all', 'agreed', ';', 'it', 'was', 'a', 'magnificent', 'evening', '.'], tags=['id_5'])]"
            ]
          },
          "execution_count": 58,
          "metadata": {},
          "output_type": "execute_result"
        }
      ],
      "source": [
        "from gensim.models.doc2vec import Doc2Vec, TaggedDocument\n",
        "'''\n",
        "The TaggedDocuments are used as input for Doc2Vec.\n",
        "Their tags can be either string tokens or int\n",
        "TaggedDocument containing a list of the words in it along with the associated tag\n",
        "'''\n",
        "tagged_data = [TaggedDocument(d, [\"id_\"+str(i)]) for i, d in enumerate(tokenized_sent)]\n",
        "tagged_data"
      ]
    },
    {
      "cell_type": "code",
      "execution_count": null,
      "metadata": {
        "colab": {
          "base_uri": "https://localhost:8080/"
        },
        "id": "M_5ityIKMIl4",
        "outputId": "2805d692-d2b9-4a73-f57a-639ecc590cc9"
      },
      "outputs": [
        {
          "name": "stdout",
          "output_type": "stream",
          "text": [
            "{'.': 0, 'we': 1, 'ate': 2, 'dinner': 3, 'a': 4, 'all': 5, 'evening': 6, 'came': 7, 'us': 8, 'with': 9, 'to': 10, 'three-course': 11, 'brad': 12, 'meal': 13, 'loves': 14, 'had': 15, 'he': 16, 'fish': 17, 'magnificent': 18, 'tacos': 19, 'in': 20, 'the': 21, 'end': 22, ',': 23, 'felt': 24, 'like': 25, 'too': 26, 'much': 27, 'agreed': 28, ';': 29, 'it': 30, 'was': 31, 'i': 32}\n"
          ]
        }
      ],
      "source": [
        "model = Doc2Vec(tagged_data, vector_size = 20, window = 2, min_count = 1, epochs = 100)\n",
        "\n",
        "'''\n",
        "vector_size = Dimensionality of the feature vectors.\n",
        "window = The maximum distance between the current and predicted word within a sentence.\n",
        "min_count = Ignores all words with total frequency lower than this.\n",
        "alpha = The initial learning rate.\n",
        "'''\n",
        "\n",
        "## Print model vocabulary\n",
        "print(model.wv.key_to_index)"
      ]
    },
    {
      "cell_type": "code",
      "execution_count": null,
      "metadata": {
        "id": "XyrYLqgpLfLz"
      },
      "outputs": [],
      "source": [
        "query=\"I had pizza and pasta\"\n",
        "query_vec= word_tokenize(query.lower())"
      ]
    },
    {
      "cell_type": "code",
      "execution_count": null,
      "metadata": {
        "colab": {
          "base_uri": "https://localhost:8080/"
        },
        "id": "wPwE0N5AOTbV",
        "outputId": "9e1fcc0b-5df1-4bb2-857b-f1083c2e2501"
      },
      "outputs": [
        {
          "data": {
            "text/plain": [
              "['i', 'had', 'pizza', 'and', 'pasta']"
            ]
          },
          "execution_count": 61,
          "metadata": {},
          "output_type": "execute_result"
        }
      ],
      "source": [
        "query_vec"
      ]
    },
    {
      "cell_type": "code",
      "execution_count": null,
      "metadata": {
        "colab": {
          "base_uri": "https://localhost:8080/"
        },
        "id": "_ams6uLdMOkU",
        "outputId": "bed7ecea-f4c8-4f86-9556-9b8372bf7d24"
      },
      "outputs": [
        {
          "name": "stderr",
          "output_type": "stream",
          "text": [
            "<ipython-input-62-8ada808836b3>:2: DeprecationWarning: Call to deprecated `docvecs` (The `docvecs` property has been renamed `dv`.).\n",
            "  model.docvecs.most_similar(positive = [test_doc_vector])\n"
          ]
        },
        {
          "data": {
            "application/vnd.google.colaboratory.intrinsic+json": {
              "type": "string"
            },
            "text/plain": [
              "'\\npositive = List of sentences that contribute positively.\\n'"
            ]
          },
          "execution_count": 62,
          "metadata": {},
          "output_type": "execute_result"
        }
      ],
      "source": [
        "test_doc_vector = model.infer_vector(query_vec) # infer_vector method returns the vectorized form (including the paragraph vector)\n",
        "model.dv.most_similar(positive = [test_doc_vector])\n",
        "\n",
        "'''\n",
        "positive = List of sentences that contribute positively.\n",
        "'''"
      ]
    },
    {
      "cell_type": "code",
      "execution_count": null,
      "metadata": {
        "colab": {
          "base_uri": "https://localhost:8080/"
        },
        "id": "Rtn4MIT5O9Kl",
        "outputId": "8ec01334-f246-4dc9-83a6-896ad5f5b15d"
      },
      "outputs": [
        {
          "data": {
            "text/plain": [
              "array([ 0.01932388,  0.02065368,  0.01091801,  0.00111557,  0.03352908,\n",
              "       -0.0229921 ,  0.01285814,  0.02196711,  0.00371635, -0.03580254,\n",
              "       -0.01865276,  0.02062623, -0.05120435, -0.03189794, -0.02230723,\n",
              "        0.00413363,  0.00622759, -0.01198937,  0.01396133, -0.0004412 ],\n",
              "      dtype=float32)"
            ]
          },
          "execution_count": 63,
          "metadata": {},
          "output_type": "execute_result"
        }
      ],
      "source": [
        "test_doc_vector"
      ]
    },
    {
      "cell_type": "code",
      "execution_count": null,
      "metadata": {
        "colab": {
          "base_uri": "https://localhost:8080/"
        },
        "id": "Y2Fp9Yd2LFDV",
        "outputId": "ec74e811-33d9-4dc6-8f9f-3579dbd3f9f0"
      },
      "outputs": [
        {
          "name": "stderr",
          "output_type": "stream",
          "text": [
            "<ipython-input-64-ae7ccd1e3b38>:1: DeprecationWarning: Call to deprecated `docvecs` (The `docvecs` property has been renamed `dv`.).\n",
            "  model.docvecs.most_similar(positive = [test_doc_vector])\n"
          ]
        },
        {
          "data": {
            "text/plain": [
              "[('id_3', 0.8300685286521912),\n",
              " ('id_4', 0.7374358177185059),\n",
              " ('id_2', 0.5306283831596375),\n",
              " ('id_1', 0.4915909767150879),\n",
              " ('id_5', 0.25931960344314575),\n",
              " ('id_0', 0.016950489953160286)]"
            ]
          },
          "execution_count": 64,
          "metadata": {},
          "output_type": "execute_result"
        }
      ],
      "source": [
        "model.docvecs.most_similar(positive = [test_doc_vector])"
      ]
    },
    {
      "cell_type": "code",
      "execution_count": null,
      "metadata": {
        "colab": {
          "base_uri": "https://localhost:8080/"
        },
        "id": "Yfv4nofcLaYn",
        "outputId": "e9411576-5393-4096-c629-e8cca526e042"
      },
      "outputs": [
        {
          "name": "stdout",
          "output_type": "stream",
          "text": [
            "Sentence =  I ate dinner. ; similarity =  0.6546766\n",
            "Sentence =  We had a three-course meal. ; similarity =  0.73579836\n",
            "Sentence =  Brad came to dinner with us. ; similarity =  0.7746182\n",
            "Sentence =  He loves fish tacos. ; similarity =  0.59783506\n",
            "Sentence =  In the end, we all felt like we ate too much. ; similarity =  0.73284674\n",
            "Sentence =  We all agreed; it was a magnificent evening. ; similarity =  0.75873125\n"
          ]
        }
      ],
      "source": [
        "for sent in sentences:\n",
        "  sim = cosine(model.infer_vector(query_vec), model.infer_vector(word_tokenize(sent.lower())))\n",
        "  print(\"Sentence = \", sent, \"; similarity = \", sim)"
      ]
    },
    {
      "cell_type": "markdown",
      "metadata": {
        "id": "6_JuNnx8Mmy-"
      },
      "source": [
        "## SentenceBERT"
      ]
    },
    {
      "cell_type": "markdown",
      "metadata": {
        "id": "q4o5cFx7Pam0"
      },
      "source": [
        "SentenceBERT was introduced in 2018, it is BERT-based network that uses a Siamese network like architecture."
      ]
    },
    {
      "cell_type": "code",
      "execution_count": null,
      "metadata": {
        "colab": {
          "base_uri": "https://localhost:8080/"
        },
        "id": "Q3kPRlNlMSqO",
        "outputId": "2d558713-d32e-40ad-9bb1-f6e142e41c0b"
      },
      "outputs": [
        {
          "name": "stdout",
          "output_type": "stream",
          "text": [
            "Collecting sentence-transformers\n",
            "  Downloading sentence_transformers-2.4.0-py3-none-any.whl (149 kB)\n",
            "\u001b[?25l     \u001b[90m━━━━━━━━━━━━━━━━━━━━━━━━━━━━━━━━━━━━━━━━\u001b[0m \u001b[32m0.0/149.5 kB\u001b[0m \u001b[31m?\u001b[0m eta \u001b[36m-:--:--\u001b[0m\r\u001b[2K     \u001b[91m━━━━━━━━━━━━━━━━━━━━━━━━━━━━━━━━━━━━━━\u001b[0m\u001b[90m╺\u001b[0m\u001b[90m━\u001b[0m \u001b[32m143.4/149.5 kB\u001b[0m \u001b[31m4.4 MB/s\u001b[0m eta \u001b[36m0:00:01\u001b[0m\r\u001b[2K     \u001b[90m━━━━━━━━━━━━━━━━━━━━━━━━━━━━━━━━━━━━━━━━\u001b[0m \u001b[32m149.5/149.5 kB\u001b[0m \u001b[31m3.6 MB/s\u001b[0m eta \u001b[36m0:00:00\u001b[0m\n",
            "\u001b[?25hRequirement already satisfied: transformers<5.0.0,>=4.32.0 in /usr/local/lib/python3.10/dist-packages (from sentence-transformers) (4.37.2)\n",
            "Requirement already satisfied: tqdm in /usr/local/lib/python3.10/dist-packages (from sentence-transformers) (4.66.2)\n",
            "Requirement already satisfied: torch>=1.11.0 in /usr/local/lib/python3.10/dist-packages (from sentence-transformers) (2.1.0+cu121)\n",
            "Requirement already satisfied: numpy in /usr/local/lib/python3.10/dist-packages (from sentence-transformers) (1.25.2)\n",
            "Requirement already satisfied: scikit-learn in /usr/local/lib/python3.10/dist-packages (from sentence-transformers) (1.2.2)\n",
            "Requirement already satisfied: scipy in /usr/local/lib/python3.10/dist-packages (from sentence-transformers) (1.11.4)\n",
            "Requirement already satisfied: huggingface-hub>=0.15.1 in /usr/local/lib/python3.10/dist-packages (from sentence-transformers) (0.20.3)\n",
            "Requirement already satisfied: Pillow in /usr/local/lib/python3.10/dist-packages (from sentence-transformers) (9.4.0)\n",
            "Requirement already satisfied: filelock in /usr/local/lib/python3.10/dist-packages (from huggingface-hub>=0.15.1->sentence-transformers) (3.13.1)\n",
            "Requirement already satisfied: fsspec>=2023.5.0 in /usr/local/lib/python3.10/dist-packages (from huggingface-hub>=0.15.1->sentence-transformers) (2023.6.0)\n",
            "Requirement already satisfied: requests in /usr/local/lib/python3.10/dist-packages (from huggingface-hub>=0.15.1->sentence-transformers) (2.31.0)\n",
            "Requirement already satisfied: pyyaml>=5.1 in /usr/local/lib/python3.10/dist-packages (from huggingface-hub>=0.15.1->sentence-transformers) (6.0.1)\n",
            "Requirement already satisfied: typing-extensions>=3.7.4.3 in /usr/local/lib/python3.10/dist-packages (from huggingface-hub>=0.15.1->sentence-transformers) (4.9.0)\n",
            "Requirement already satisfied: packaging>=20.9 in /usr/local/lib/python3.10/dist-packages (from huggingface-hub>=0.15.1->sentence-transformers) (23.2)\n",
            "Requirement already satisfied: sympy in /usr/local/lib/python3.10/dist-packages (from torch>=1.11.0->sentence-transformers) (1.12)\n",
            "Requirement already satisfied: networkx in /usr/local/lib/python3.10/dist-packages (from torch>=1.11.0->sentence-transformers) (3.2.1)\n",
            "Requirement already satisfied: jinja2 in /usr/local/lib/python3.10/dist-packages (from torch>=1.11.0->sentence-transformers) (3.1.3)\n",
            "Requirement already satisfied: triton==2.1.0 in /usr/local/lib/python3.10/dist-packages (from torch>=1.11.0->sentence-transformers) (2.1.0)\n",
            "Requirement already satisfied: regex!=2019.12.17 in /usr/local/lib/python3.10/dist-packages (from transformers<5.0.0,>=4.32.0->sentence-transformers) (2023.12.25)\n",
            "Requirement already satisfied: tokenizers<0.19,>=0.14 in /usr/local/lib/python3.10/dist-packages (from transformers<5.0.0,>=4.32.0->sentence-transformers) (0.15.2)\n",
            "Requirement already satisfied: safetensors>=0.4.1 in /usr/local/lib/python3.10/dist-packages (from transformers<5.0.0,>=4.32.0->sentence-transformers) (0.4.2)\n",
            "Requirement already satisfied: joblib>=1.1.1 in /usr/local/lib/python3.10/dist-packages (from scikit-learn->sentence-transformers) (1.3.2)\n",
            "Requirement already satisfied: threadpoolctl>=2.0.0 in /usr/local/lib/python3.10/dist-packages (from scikit-learn->sentence-transformers) (3.3.0)\n",
            "Requirement already satisfied: MarkupSafe>=2.0 in /usr/local/lib/python3.10/dist-packages (from jinja2->torch>=1.11.0->sentence-transformers) (2.1.5)\n",
            "Requirement already satisfied: charset-normalizer<4,>=2 in /usr/local/lib/python3.10/dist-packages (from requests->huggingface-hub>=0.15.1->sentence-transformers) (3.3.2)\n",
            "Requirement already satisfied: idna<4,>=2.5 in /usr/local/lib/python3.10/dist-packages (from requests->huggingface-hub>=0.15.1->sentence-transformers) (3.6)\n",
            "Requirement already satisfied: urllib3<3,>=1.21.1 in /usr/local/lib/python3.10/dist-packages (from requests->huggingface-hub>=0.15.1->sentence-transformers) (2.0.7)\n",
            "Requirement already satisfied: certifi>=2017.4.17 in /usr/local/lib/python3.10/dist-packages (from requests->huggingface-hub>=0.15.1->sentence-transformers) (2024.2.2)\n",
            "Requirement already satisfied: mpmath>=0.19 in /usr/local/lib/python3.10/dist-packages (from sympy->torch>=1.11.0->sentence-transformers) (1.3.0)\n",
            "Installing collected packages: sentence-transformers\n",
            "Successfully installed sentence-transformers-2.4.0\n"
          ]
        }
      ],
      "source": [
        "!pip install sentence-transformers\n"
      ]
    },
    {
      "cell_type": "code",
      "execution_count": null,
      "metadata": {
        "colab": {
          "base_uri": "https://localhost:8080/"
        },
        "id": "19HlnQe8MXP2",
        "outputId": "ebb05a71-a9d2-4edb-912a-7e15ba1ec141"
      },
      "outputs": [
        {
          "name": "stderr",
          "output_type": "stream",
          "text": [
            "/usr/local/lib/python3.10/dist-packages/huggingface_hub/utils/_token.py:88: UserWarning: \n",
            "The secret `HF_TOKEN` does not exist in your Colab secrets.\n",
            "To authenticate with the Hugging Face Hub, create a token in your settings tab (https://huggingface.co/settings/tokens), set it as secret in your Google Colab and restart your session.\n",
            "You will be able to reuse this secret in all of your notebooks.\n",
            "Please note that authentication is recommended but still optional to access public models or datasets.\n",
            "  warnings.warn(\n"
          ]
        },
        {
          "data": {
            "application/vnd.jupyter.widget-view+json": {
              "model_id": "4d806fad112145baa0e23840ad3eed83",
              "version_major": 2,
              "version_minor": 0
            },
            "text/plain": [
              "modules.json:   0%|          | 0.00/229 [00:00<?, ?B/s]"
            ]
          },
          "metadata": {},
          "output_type": "display_data"
        },
        {
          "data": {
            "application/vnd.jupyter.widget-view+json": {
              "model_id": "3c674887794646d6abbbc608b7155598",
              "version_major": 2,
              "version_minor": 0
            },
            "text/plain": [
              "config_sentence_transformers.json:   0%|          | 0.00/122 [00:00<?, ?B/s]"
            ]
          },
          "metadata": {},
          "output_type": "display_data"
        },
        {
          "data": {
            "application/vnd.jupyter.widget-view+json": {
              "model_id": "b5ec4399c4fa479e94141bf921451dd9",
              "version_major": 2,
              "version_minor": 0
            },
            "text/plain": [
              "README.md:   0%|          | 0.00/3.99k [00:00<?, ?B/s]"
            ]
          },
          "metadata": {},
          "output_type": "display_data"
        },
        {
          "data": {
            "application/vnd.jupyter.widget-view+json": {
              "model_id": "8625fa413ebc432ab930028014fa7bcf",
              "version_major": 2,
              "version_minor": 0
            },
            "text/plain": [
              "sentence_bert_config.json:   0%|          | 0.00/53.0 [00:00<?, ?B/s]"
            ]
          },
          "metadata": {},
          "output_type": "display_data"
        },
        {
          "data": {
            "application/vnd.jupyter.widget-view+json": {
              "model_id": "f1badc582ad04d06b51a8653a8b0c256",
              "version_major": 2,
              "version_minor": 0
            },
            "text/plain": [
              "config.json:   0%|          | 0.00/625 [00:00<?, ?B/s]"
            ]
          },
          "metadata": {},
          "output_type": "display_data"
        },
        {
          "data": {
            "application/vnd.jupyter.widget-view+json": {
              "model_id": "fc75463010554484926e66041030688f",
              "version_major": 2,
              "version_minor": 0
            },
            "text/plain": [
              "pytorch_model.bin:   0%|          | 0.00/438M [00:00<?, ?B/s]"
            ]
          },
          "metadata": {},
          "output_type": "display_data"
        },
        {
          "name": "stderr",
          "output_type": "stream",
          "text": [
            "/usr/local/lib/python3.10/dist-packages/torch/_utils.py:831: UserWarning: TypedStorage is deprecated. It will be removed in the future and UntypedStorage will be the only storage class. This should only matter to you if you are using storages directly.  To access UntypedStorage directly, use tensor.untyped_storage() instead of tensor.storage()\n",
            "  return self.fget.__get__(instance, owner)()\n"
          ]
        },
        {
          "data": {
            "application/vnd.jupyter.widget-view+json": {
              "model_id": "65a73ca2c0a64729ae485d3961485723",
              "version_major": 2,
              "version_minor": 0
            },
            "text/plain": [
              "tokenizer_config.json:   0%|          | 0.00/399 [00:00<?, ?B/s]"
            ]
          },
          "metadata": {},
          "output_type": "display_data"
        },
        {
          "data": {
            "application/vnd.jupyter.widget-view+json": {
              "model_id": "4d5a2f96eb1d45a78d62c9c5a5c541cf",
              "version_major": 2,
              "version_minor": 0
            },
            "text/plain": [
              "vocab.txt:   0%|          | 0.00/232k [00:00<?, ?B/s]"
            ]
          },
          "metadata": {},
          "output_type": "display_data"
        },
        {
          "data": {
            "application/vnd.jupyter.widget-view+json": {
              "model_id": "a93aa94d7edf452985b92f6090dcf6d2",
              "version_major": 2,
              "version_minor": 0
            },
            "text/plain": [
              "tokenizer.json:   0%|          | 0.00/466k [00:00<?, ?B/s]"
            ]
          },
          "metadata": {},
          "output_type": "display_data"
        },
        {
          "data": {
            "application/vnd.jupyter.widget-view+json": {
              "model_id": "5a70dc18c31041b2a081a18e2b0f6bf5",
              "version_major": 2,
              "version_minor": 0
            },
            "text/plain": [
              "added_tokens.json:   0%|          | 0.00/2.00 [00:00<?, ?B/s]"
            ]
          },
          "metadata": {},
          "output_type": "display_data"
        },
        {
          "data": {
            "application/vnd.jupyter.widget-view+json": {
              "model_id": "7dde0906af6c46bca4292e343d6eab70",
              "version_major": 2,
              "version_minor": 0
            },
            "text/plain": [
              "special_tokens_map.json:   0%|          | 0.00/112 [00:00<?, ?B/s]"
            ]
          },
          "metadata": {},
          "output_type": "display_data"
        },
        {
          "data": {
            "application/vnd.jupyter.widget-view+json": {
              "model_id": "a04f22e6abcd46088ccddce24aa30eae",
              "version_major": 2,
              "version_minor": 0
            },
            "text/plain": [
              "1_Pooling/config.json:   0%|          | 0.00/190 [00:00<?, ?B/s]"
            ]
          },
          "metadata": {},
          "output_type": "display_data"
        }
      ],
      "source": [
        "from sentence_transformers import SentenceTransformer\n",
        "sbert_model = SentenceTransformer('bert-base-nli-mean-tokens')"
      ]
    },
    {
      "cell_type": "code",
      "execution_count": null,
      "metadata": {
        "id": "l4LPcUEAMaKA"
      },
      "outputs": [],
      "source": [
        "sentence_embeddings = sbert_model.encode(sentences)\n",
        "\n"
      ]
    },
    {
      "cell_type": "code",
      "execution_count": null,
      "metadata": {
        "id": "n3CeEF6sPua9"
      },
      "outputs": [],
      "source": [
        "# print('Sample BERT embedding vector - length', len(sentence_embeddings[0]))\n",
        "# print('Sample BERT embedding vector - note includes negative values', sentence_embeddings[0])"
      ]
    },
    {
      "cell_type": "code",
      "execution_count": null,
      "metadata": {
        "id": "w84f0phlMbwS"
      },
      "outputs": [],
      "source": [
        "query = \"I had pizza and pasta\"\n",
        "query_vec = sbert_model.encode([query])[0]"
      ]
    },
    {
      "cell_type": "code",
      "execution_count": null,
      "metadata": {
        "colab": {
          "base_uri": "https://localhost:8080/"
        },
        "id": "kgljnINWMd12",
        "outputId": "50034b4d-c056-4565-e9cd-a42cf7420502"
      },
      "outputs": [
        {
          "name": "stdout",
          "output_type": "stream",
          "text": [
            "Sentence =  I ate dinner. ; similarity =  0.7173461\n",
            "Sentence =  We had a three-course meal. ; similarity =  0.6371338\n",
            "Sentence =  Brad came to dinner with us. ; similarity =  0.5897908\n",
            "Sentence =  He loves fish tacos. ; similarity =  0.6223936\n",
            "Sentence =  In the end, we all felt like we ate too much. ; similarity =  0.41980496\n",
            "Sentence =  We all agreed; it was a magnificent evening. ; similarity =  0.18081604\n"
          ]
        }
      ],
      "source": [
        "for sent in sentences:\n",
        "  sim = cosine(query_vec, sbert_model.encode([sent])[0])\n",
        "  print(\"Sentence = \", sent, \"; similarity = \", sim)"
      ]
    },
    {
      "cell_type": "markdown",
      "metadata": {
        "id": "ed7xChW_M6Pu"
      },
      "source": [
        "## Universal Sentence Encoder\n"
      ]
    },
    {
      "cell_type": "markdown",
      "metadata": {
        "id": "QUTUq_oKRUzW"
      },
      "source": [
        "It was proposed by Google. The key feature here is that we can use it for Multi-task learning.\n",
        "\n",
        "How does it work?\n",
        "\n",
        "1.   Tokenize the sentences after converting them to lowercase\n",
        "2.   Depending on the type of encoder, the sentence gets converted to a 512-dimensional vector\n",
        "  1.  If we use the transformer, it is similar to the encoder module of the transformer architecture and uses the self-attention mechanism.\n",
        "  2.  The Deep Averaging Network (DAN) option computes the unigram and bigram embeddings first and then averages them to get a single embedding. This is then passed to a deep neural network to get a final sentence embedding of 512 dimensions.\n",
        "3.  These sentence embeddings are then used for various unsupervised and supervised tasks. The trained model is then again reused to generate a new 512 dimension sentence embedding."
      ]
    },
    {
      "cell_type": "code",
      "execution_count": null,
      "metadata": {
        "colab": {
          "base_uri": "https://localhost:8080/"
        },
        "id": "PfHgGsJ3M6xj",
        "outputId": "e22fb74b-6c21-4b71-97b1-21da76fd921a"
      },
      "outputs": [
        {
          "name": "stdout",
          "output_type": "stream",
          "text": [
            "Collecting tensorflow-gpu\n",
            "  Downloading tensorflow-gpu-2.12.0.tar.gz (2.6 kB)\n",
            "  \u001b[1;31merror\u001b[0m: \u001b[1msubprocess-exited-with-error\u001b[0m\n",
            "  \n",
            "  \u001b[31m×\u001b[0m \u001b[32mpython setup.py egg_info\u001b[0m did not run successfully.\n",
            "  \u001b[31m│\u001b[0m exit code: \u001b[1;36m1\u001b[0m\n",
            "  \u001b[31m╰─>\u001b[0m See above for output.\n",
            "  \n",
            "  \u001b[1;35mnote\u001b[0m: This error originates from a subprocess, and is likely not a problem with pip.\n",
            "  Preparing metadata (setup.py) ... \u001b[?25l\u001b[?25herror\n",
            "\u001b[1;31merror\u001b[0m: \u001b[1mmetadata-generation-failed\u001b[0m\n",
            "\n",
            "\u001b[31m×\u001b[0m Encountered error while generating package metadata.\n",
            "\u001b[31m╰─>\u001b[0m See above for output.\n",
            "\n",
            "\u001b[1;35mnote\u001b[0m: This is an issue with the package mentioned above, not pip.\n",
            "\u001b[1;36mhint\u001b[0m: See above for details.\n",
            "Requirement already satisfied: tensorflow-hub in /usr/local/lib/python3.10/dist-packages (0.16.1)\n",
            "Requirement already satisfied: numpy>=1.12.0 in /usr/local/lib/python3.10/dist-packages (from tensorflow-hub) (1.25.2)\n",
            "Requirement already satisfied: protobuf>=3.19.6 in /usr/local/lib/python3.10/dist-packages (from tensorflow-hub) (3.20.3)\n",
            "Requirement already satisfied: tf-keras>=2.14.1 in /usr/local/lib/python3.10/dist-packages (from tensorflow-hub) (2.15.0)\n"
          ]
        }
      ],
      "source": [
        "!pip3 install --upgrade tensorflow-gpu\n",
        "# Install TF-Hub.\n",
        "!pip3 install tensorflow-hub"
      ]
    },
    {
      "cell_type": "code",
      "execution_count": null,
      "metadata": {
        "id": "LdUZb5PIM9jX"
      },
      "outputs": [],
      "source": [
        "import tensorflow as tf\n",
        "import tensorflow_hub as hub\n",
        "import numpy as np"
      ]
    },
    {
      "cell_type": "code",
      "execution_count": null,
      "metadata": {
        "colab": {
          "base_uri": "https://localhost:8080/"
        },
        "id": "A1p2CU8zNAVb",
        "outputId": "46ee94b0-39ed-4333-c2af-ef623ccbe826"
      },
      "outputs": [
        {
          "name": "stdout",
          "output_type": "stream",
          "text": [
            "module https://tfhub.dev/google/universal-sentence-encoder/4 loaded\n"
          ]
        }
      ],
      "source": [
        "module_url = \"https://tfhub.dev/google/universal-sentence-encoder/4\"\n",
        "model = hub.load(module_url)\n",
        "print (\"module %s loaded\" % module_url)"
      ]
    },
    {
      "cell_type": "code",
      "execution_count": null,
      "metadata": {
        "id": "F0hWnK4DNCQk"
      },
      "outputs": [],
      "source": [
        "sentence_embeddings = model(sentences)\n",
        "query = \"I had pizza and pasta\"\n",
        "query_vec = model([query])[0]"
      ]
    },
    {
      "cell_type": "code",
      "execution_count": null,
      "metadata": {
        "colab": {
          "base_uri": "https://localhost:8080/"
        },
        "id": "VTJYv45dNEEs",
        "outputId": "475a6854-81a9-4ac9-c6ae-558048e065ab"
      },
      "outputs": [
        {
          "name": "stdout",
          "output_type": "stream",
          "text": [
            "Sentence =  I ate dinner. ; similarity =  0.46866417\n",
            "Sentence =  We had a three-course meal. ; similarity =  0.35643065\n",
            "Sentence =  Brad came to dinner with us. ; similarity =  0.20338944\n",
            "Sentence =  He loves fish tacos. ; similarity =  0.16515437\n",
            "Sentence =  In the end, we all felt like we ate too much. ; similarity =  0.14987424\n",
            "Sentence =  We all agreed; it was a magnificent evening. ; similarity =  0.058435917\n"
          ]
        }
      ],
      "source": [
        "for sent in sentences:\n",
        "  sim = cosine(query_vec, model([sent])[0])\n",
        "  print(\"Sentence = \", sent, \"; similarity = \", sim)"
      ]
    },
    {
      "cell_type": "markdown",
      "metadata": {
        "id": "PkrAvuJUMo_t"
      },
      "source": [
        "## InferSent"
      ]
    },
    {
      "cell_type": "markdown",
      "metadata": {
        "id": "FJAIQQcsQFtR"
      },
      "source": [
        " Introduced by Facebook AI Research in 2018, InferSent is a supervised sentence embedding technique"
      ]
    },
    {
      "cell_type": "code",
      "execution_count": null,
      "metadata": {
        "colab": {
          "base_uri": "https://localhost:8080/"
        },
        "id": "b6jHZ8piTBT7",
        "outputId": "45bf2eaf-a307-4793-ddad-1ad062087e93"
      },
      "outputs": [
        {
          "name": "stdout",
          "output_type": "stream",
          "text": [
            "Cloning into 'InferSent'...\n",
            "remote: Enumerating objects: 259, done.\u001b[K\n",
            "remote: Total 259 (delta 0), reused 0 (delta 0), pack-reused 259\u001b[K\n",
            "Receiving objects: 100% (259/259), 424.15 KiB | 3.63 MiB/s, done.\n",
            "Resolving deltas: 100% (135/135), done.\n"
          ]
        }
      ],
      "source": [
        "!git clone https://github.com/facebookresearch/InferSent.git"
      ]
    },
    {
      "cell_type": "code",
      "execution_count": null,
      "metadata": {
        "colab": {
          "base_uri": "https://localhost:8080/"
        },
        "id": "ARiXTc8fTT8P",
        "outputId": "dc28c465-1b11-481e-889f-904efcbdc2d9"
      },
      "outputs": [
        {
          "name": "stdout",
          "output_type": "stream",
          "text": [
            "/content/InferSent\n"
          ]
        }
      ],
      "source": [
        "%cd InferSent"
      ]
    },
    {
      "cell_type": "code",
      "execution_count": null,
      "metadata": {
        "id": "P4Sn_M-sMprq"
      },
      "outputs": [],
      "source": [
        "!mkdir encoder\n",
        "!curl -Lo encoder/infersent2.pkl https://dl.fbaipublicfiles.com/infersent/infersent2.pkl\n",
        "\n",
        "!mkdir GloVe\n",
        "!curl -Lo GloVe/glove.840B.300d.zip http://nlp.stanford.edu/data/glove.840B.300d.zip\n",
        "!unzip GloVe/glove.840B.300d.zip -d GloVe/"
      ]
    },
    {
      "cell_type": "code",
      "execution_count": null,
      "metadata": {
        "id": "GjRnlMpDMv-p"
      },
      "outputs": [],
      "source": [
        "from models import InferSent\n",
        "import torch\n",
        "\n",
        "V = 2\n",
        "MODEL_PATH = './encoder/infersent%s.pkl' % V\n",
        "params_model = {'bsize': 64, 'word_emb_dim': 300, 'enc_lstm_dim': 2048,\n",
        "                'pool_type': 'max', 'dpout_model': 0.0, 'version': V}\n",
        "model = InferSent(params_model)\n",
        "model.load_state_dict(torch.load(MODEL_PATH))\n",
        "\n",
        "W2V_PATH = './GloVe/glove.840B.300d.txt' #save the trained model and pre-trained GLoVe word vectors\n",
        "model.set_w2v_path(W2V_PATH)"
      ]
    },
    {
      "cell_type": "code",
      "execution_count": null,
      "metadata": {
        "colab": {
          "base_uri": "https://localhost:8080/",
          "height": 287
        },
        "id": "UchZWRqlMzeS",
        "outputId": "919fc28d-4954-4581-ec46-ffab9025473c"
      },
      "outputs": [
        {
          "ename": "FileNotFoundError",
          "evalue": "[Errno 2] No such file or directory: './GloVe/glove.840B.300d.txt'",
          "output_type": "error",
          "traceback": [
            "\u001b[0;31m---------------------------------------------------------------------------\u001b[0m",
            "\u001b[0;31mFileNotFoundError\u001b[0m                         Traceback (most recent call last)",
            "\u001b[0;32m<ipython-input-81-bde58664e025>\u001b[0m in \u001b[0;36m<cell line: 1>\u001b[0;34m()\u001b[0m\n\u001b[0;32m----> 1\u001b[0;31m \u001b[0mmodel\u001b[0m\u001b[0;34m.\u001b[0m\u001b[0mbuild_vocab\u001b[0m\u001b[0;34m(\u001b[0m\u001b[0msentences\u001b[0m\u001b[0;34m,\u001b[0m \u001b[0mtokenize\u001b[0m\u001b[0;34m=\u001b[0m\u001b[0;32mTrue\u001b[0m\u001b[0;34m)\u001b[0m\u001b[0;34m\u001b[0m\u001b[0;34m\u001b[0m\u001b[0m\n\u001b[0m",
            "\u001b[0;32m/content/InferSent/models.py\u001b[0m in \u001b[0;36mbuild_vocab\u001b[0;34m(self, sentences, tokenize)\u001b[0m\n\u001b[1;32m    135\u001b[0m         \u001b[0;32massert\u001b[0m \u001b[0mhasattr\u001b[0m\u001b[0;34m(\u001b[0m\u001b[0mself\u001b[0m\u001b[0;34m,\u001b[0m \u001b[0;34m'w2v_path'\u001b[0m\u001b[0;34m)\u001b[0m\u001b[0;34m,\u001b[0m \u001b[0;34m'w2v path not set'\u001b[0m\u001b[0;34m\u001b[0m\u001b[0;34m\u001b[0m\u001b[0m\n\u001b[1;32m    136\u001b[0m         \u001b[0mword_dict\u001b[0m \u001b[0;34m=\u001b[0m \u001b[0mself\u001b[0m\u001b[0;34m.\u001b[0m\u001b[0mget_word_dict\u001b[0m\u001b[0;34m(\u001b[0m\u001b[0msentences\u001b[0m\u001b[0;34m,\u001b[0m \u001b[0mtokenize\u001b[0m\u001b[0;34m)\u001b[0m\u001b[0;34m\u001b[0m\u001b[0;34m\u001b[0m\u001b[0m\n\u001b[0;32m--> 137\u001b[0;31m         \u001b[0mself\u001b[0m\u001b[0;34m.\u001b[0m\u001b[0mword_vec\u001b[0m \u001b[0;34m=\u001b[0m \u001b[0mself\u001b[0m\u001b[0;34m.\u001b[0m\u001b[0mget_w2v\u001b[0m\u001b[0;34m(\u001b[0m\u001b[0mword_dict\u001b[0m\u001b[0;34m)\u001b[0m\u001b[0;34m\u001b[0m\u001b[0;34m\u001b[0m\u001b[0m\n\u001b[0m\u001b[1;32m    138\u001b[0m         \u001b[0mprint\u001b[0m\u001b[0;34m(\u001b[0m\u001b[0;34m'Vocab size : %s'\u001b[0m \u001b[0;34m%\u001b[0m \u001b[0;34m(\u001b[0m\u001b[0mlen\u001b[0m\u001b[0;34m(\u001b[0m\u001b[0mself\u001b[0m\u001b[0;34m.\u001b[0m\u001b[0mword_vec\u001b[0m\u001b[0;34m)\u001b[0m\u001b[0;34m)\u001b[0m\u001b[0;34m)\u001b[0m\u001b[0;34m\u001b[0m\u001b[0;34m\u001b[0m\u001b[0m\n\u001b[1;32m    139\u001b[0m \u001b[0;34m\u001b[0m\u001b[0m\n",
            "\u001b[0;32m/content/InferSent/models.py\u001b[0m in \u001b[0;36mget_w2v\u001b[0;34m(self, word_dict)\u001b[0m\n\u001b[1;32m    105\u001b[0m         \u001b[0;31m# create word_vec with w2v vectors\u001b[0m\u001b[0;34m\u001b[0m\u001b[0;34m\u001b[0m\u001b[0m\n\u001b[1;32m    106\u001b[0m         \u001b[0mword_vec\u001b[0m \u001b[0;34m=\u001b[0m \u001b[0;34m{\u001b[0m\u001b[0;34m}\u001b[0m\u001b[0;34m\u001b[0m\u001b[0;34m\u001b[0m\u001b[0m\n\u001b[0;32m--> 107\u001b[0;31m         \u001b[0;32mwith\u001b[0m \u001b[0mopen\u001b[0m\u001b[0;34m(\u001b[0m\u001b[0mself\u001b[0m\u001b[0;34m.\u001b[0m\u001b[0mw2v_path\u001b[0m\u001b[0;34m,\u001b[0m \u001b[0mencoding\u001b[0m\u001b[0;34m=\u001b[0m\u001b[0;34m'utf-8'\u001b[0m\u001b[0;34m)\u001b[0m \u001b[0;32mas\u001b[0m \u001b[0mf\u001b[0m\u001b[0;34m:\u001b[0m\u001b[0;34m\u001b[0m\u001b[0;34m\u001b[0m\u001b[0m\n\u001b[0m\u001b[1;32m    108\u001b[0m             \u001b[0;32mfor\u001b[0m \u001b[0mline\u001b[0m \u001b[0;32min\u001b[0m \u001b[0mf\u001b[0m\u001b[0;34m:\u001b[0m\u001b[0;34m\u001b[0m\u001b[0;34m\u001b[0m\u001b[0m\n\u001b[1;32m    109\u001b[0m                 \u001b[0mword\u001b[0m\u001b[0;34m,\u001b[0m \u001b[0mvec\u001b[0m \u001b[0;34m=\u001b[0m \u001b[0mline\u001b[0m\u001b[0;34m.\u001b[0m\u001b[0msplit\u001b[0m\u001b[0;34m(\u001b[0m\u001b[0;34m' '\u001b[0m\u001b[0;34m,\u001b[0m \u001b[0;36m1\u001b[0m\u001b[0;34m)\u001b[0m\u001b[0;34m\u001b[0m\u001b[0;34m\u001b[0m\u001b[0m\n",
            "\u001b[0;31mFileNotFoundError\u001b[0m: [Errno 2] No such file or directory: './GloVe/glove.840B.300d.txt'"
          ]
        }
      ],
      "source": [
        "model.build_vocab(sentences, tokenize=True)\n"
      ]
    },
    {
      "cell_type": "code",
      "execution_count": null,
      "metadata": {
        "id": "c2laeOHyM121"
      },
      "outputs": [],
      "source": [
        "query = \"I had pizza and pasta\"\n",
        "query_vec = model.encode(query)[0]\n",
        "query_vec"
      ]
    },
    {
      "cell_type": "code",
      "execution_count": null,
      "metadata": {
        "id": "PenyHf4OM3i3"
      },
      "outputs": [],
      "source": [
        "similarity = []\n",
        "for sent in sentences:\n",
        "  sim = cosine(query_vec, model.encode([sent])[0])\n",
        "  print(\"Sentence = \", sent, \"; similarity = \", sim)"
      ]
    },
    {
      "cell_type": "markdown",
      "metadata": {
        "id": "cj8kmuAgSsBg"
      },
      "source": [
        "# Task"
      ]
    },
    {
      "cell_type": "markdown",
      "metadata": {
        "id": "jr4YhBRzSvt2"
      },
      "source": [
        "Use a Sentence Embedding model to embedd the dialogues and their speakers to build a classification model.\n",
        "\n",
        "**input:** sentence\n",
        "\n",
        "**output:** the most likely speaker for that input"
      ]
    },
    {
      "cell_type": "code",
      "execution_count": null,
      "metadata": {
        "id": "x8ru4ghsPBoN"
      },
      "outputs": [],
      "source": [
        "import pandas as pd\n",
        "import numpy as np\n",
        "import matplotlib.pyplot as plt\n",
        "import seaborn as sns\n",
        "from sklearn.model_selection import train_test_split\n",
        "import matplotlib.pyplot as plt\n",
        "import seaborn as sns\n",
        "import re\n",
        "import nltk\n",
        "from nltk.corpus import stopwords, wordnet\n",
        "from nltk.stem import WordNetLemmatizer\n",
        "from nltk import pos_tag, word_tokenize\n",
        "from collections import defaultdict\n",
        "\n"
      ]
    },
    {
      "cell_type": "code",
      "execution_count": null,
      "metadata": {
        "colab": {
          "base_uri": "https://localhost:8080/",
          "height": 742
        },
        "id": "6OqcEdgjTEC7",
        "outputId": "5c8971b9-51db-452b-ab76-03fde8006edb"
      },
      "outputs": [
        {
          "data": {
            "application/vnd.google.colaboratory.intrinsic+json": {
              "type": "dataframe",
              "variable_name": "df"
            },
            "text/html": [
              "\n",
              "  <div id=\"df-99992f78-1fa0-47ac-8a40-692ec40c3f00\" class=\"colab-df-container\">\n",
              "    <div>\n",
              "<style scoped>\n",
              "    .dataframe tbody tr th:only-of-type {\n",
              "        vertical-align: middle;\n",
              "    }\n",
              "\n",
              "    .dataframe tbody tr th {\n",
              "        vertical-align: top;\n",
              "    }\n",
              "\n",
              "    .dataframe thead th {\n",
              "        text-align: right;\n",
              "    }\n",
              "</style>\n",
              "<table border=\"1\" class=\"dataframe\">\n",
              "  <thead>\n",
              "    <tr style=\"text-align: right;\">\n",
              "      <th></th>\n",
              "      <th>id</th>\n",
              "      <th>name</th>\n",
              "      <th>number_of_seasons</th>\n",
              "      <th>number_of_episodes</th>\n",
              "      <th>original_language</th>\n",
              "      <th>vote_count</th>\n",
              "      <th>vote_average</th>\n",
              "      <th>overview</th>\n",
              "      <th>adult</th>\n",
              "      <th>backdrop_path</th>\n",
              "      <th>...</th>\n",
              "      <th>tagline</th>\n",
              "      <th>genres</th>\n",
              "      <th>created_by</th>\n",
              "      <th>languages</th>\n",
              "      <th>networks</th>\n",
              "      <th>origin_country</th>\n",
              "      <th>spoken_languages</th>\n",
              "      <th>production_companies</th>\n",
              "      <th>production_countries</th>\n",
              "      <th>episode_run_time</th>\n",
              "    </tr>\n",
              "  </thead>\n",
              "  <tbody>\n",
              "    <tr>\n",
              "      <th>0</th>\n",
              "      <td>1399</td>\n",
              "      <td>Game of Thrones</td>\n",
              "      <td>8</td>\n",
              "      <td>73</td>\n",
              "      <td>en</td>\n",
              "      <td>21857</td>\n",
              "      <td>8.442</td>\n",
              "      <td>Seven noble families fight for control of the ...</td>\n",
              "      <td>False</td>\n",
              "      <td>/2OMB0ynKlyIenMJWI2Dy9IWT4c.jpg</td>\n",
              "      <td>...</td>\n",
              "      <td>Winter Is Coming</td>\n",
              "      <td>Sci-Fi &amp; Fantasy, Drama, Action &amp; Adventure</td>\n",
              "      <td>David Benioff, D.B. Weiss</td>\n",
              "      <td>en</td>\n",
              "      <td>HBO</td>\n",
              "      <td>US</td>\n",
              "      <td>English</td>\n",
              "      <td>Revolution Sun Studios, Television 360, Genera...</td>\n",
              "      <td>United Kingdom, United States of America</td>\n",
              "      <td>0</td>\n",
              "    </tr>\n",
              "    <tr>\n",
              "      <th>1</th>\n",
              "      <td>71446</td>\n",
              "      <td>Money Heist</td>\n",
              "      <td>3</td>\n",
              "      <td>41</td>\n",
              "      <td>es</td>\n",
              "      <td>17836</td>\n",
              "      <td>8.257</td>\n",
              "      <td>To carry out the biggest heist in history, a m...</td>\n",
              "      <td>False</td>\n",
              "      <td>/gFZriCkpJYsApPZEF3jhxL4yLzG.jpg</td>\n",
              "      <td>...</td>\n",
              "      <td>The perfect robbery.</td>\n",
              "      <td>Crime, Drama</td>\n",
              "      <td>Álex Pina</td>\n",
              "      <td>es</td>\n",
              "      <td>Netflix, Antena 3</td>\n",
              "      <td>ES</td>\n",
              "      <td>Español</td>\n",
              "      <td>Vancouver Media</td>\n",
              "      <td>Spain</td>\n",
              "      <td>70</td>\n",
              "    </tr>\n",
              "    <tr>\n",
              "      <th>2</th>\n",
              "      <td>66732</td>\n",
              "      <td>Stranger Things</td>\n",
              "      <td>4</td>\n",
              "      <td>34</td>\n",
              "      <td>en</td>\n",
              "      <td>16161</td>\n",
              "      <td>8.624</td>\n",
              "      <td>When a young boy vanishes, a small town uncove...</td>\n",
              "      <td>False</td>\n",
              "      <td>/2MaumbgBlW1NoPo3ZJO38A6v7OS.jpg</td>\n",
              "      <td>...</td>\n",
              "      <td>Every ending has a beginning.</td>\n",
              "      <td>Drama, Sci-Fi &amp; Fantasy, Mystery</td>\n",
              "      <td>Matt Duffer, Ross Duffer</td>\n",
              "      <td>en</td>\n",
              "      <td>Netflix</td>\n",
              "      <td>US</td>\n",
              "      <td>English</td>\n",
              "      <td>21 Laps Entertainment, Monkey Massacre Product...</td>\n",
              "      <td>United States of America</td>\n",
              "      <td>0</td>\n",
              "    </tr>\n",
              "    <tr>\n",
              "      <th>3</th>\n",
              "      <td>1402</td>\n",
              "      <td>The Walking Dead</td>\n",
              "      <td>11</td>\n",
              "      <td>177</td>\n",
              "      <td>en</td>\n",
              "      <td>15432</td>\n",
              "      <td>8.121</td>\n",
              "      <td>Sheriff's deputy Rick Grimes awakens from a co...</td>\n",
              "      <td>False</td>\n",
              "      <td>/x4salpjB11umlUOltfNvSSrjSXm.jpg</td>\n",
              "      <td>...</td>\n",
              "      <td>Fight the dead. Fear the living.</td>\n",
              "      <td>Action &amp; Adventure, Drama, Sci-Fi &amp; Fantasy</td>\n",
              "      <td>Frank Darabont</td>\n",
              "      <td>en</td>\n",
              "      <td>AMC</td>\n",
              "      <td>US</td>\n",
              "      <td>English</td>\n",
              "      <td>AMC Studios, Circle of Confusion, Valhalla Mot...</td>\n",
              "      <td>United States of America</td>\n",
              "      <td>42</td>\n",
              "    </tr>\n",
              "    <tr>\n",
              "      <th>4</th>\n",
              "      <td>63174</td>\n",
              "      <td>Lucifer</td>\n",
              "      <td>6</td>\n",
              "      <td>93</td>\n",
              "      <td>en</td>\n",
              "      <td>13870</td>\n",
              "      <td>8.486</td>\n",
              "      <td>Bored and unhappy as the Lord of Hell, Lucifer...</td>\n",
              "      <td>False</td>\n",
              "      <td>/aDBRtunw49UF4XmqfyNuD9nlYIu.jpg</td>\n",
              "      <td>...</td>\n",
              "      <td>It's good to be bad.</td>\n",
              "      <td>Crime, Sci-Fi &amp; Fantasy</td>\n",
              "      <td>Tom Kapinos</td>\n",
              "      <td>en</td>\n",
              "      <td>FOX, Netflix</td>\n",
              "      <td>US</td>\n",
              "      <td>English</td>\n",
              "      <td>Warner Bros. Television, DC Entertainment, Jer...</td>\n",
              "      <td>United States of America</td>\n",
              "      <td>45</td>\n",
              "    </tr>\n",
              "  </tbody>\n",
              "</table>\n",
              "<p>5 rows × 29 columns</p>\n",
              "</div>\n",
              "    <div class=\"colab-df-buttons\">\n",
              "\n",
              "  <div class=\"colab-df-container\">\n",
              "    <button class=\"colab-df-convert\" onclick=\"convertToInteractive('df-99992f78-1fa0-47ac-8a40-692ec40c3f00')\"\n",
              "            title=\"Convert this dataframe to an interactive table.\"\n",
              "            style=\"display:none;\">\n",
              "\n",
              "  <svg xmlns=\"http://www.w3.org/2000/svg\" height=\"24px\" viewBox=\"0 -960 960 960\">\n",
              "    <path d=\"M120-120v-720h720v720H120Zm60-500h600v-160H180v160Zm220 220h160v-160H400v160Zm0 220h160v-160H400v160ZM180-400h160v-160H180v160Zm440 0h160v-160H620v160ZM180-180h160v-160H180v160Zm440 0h160v-160H620v160Z\"/>\n",
              "  </svg>\n",
              "    </button>\n",
              "\n",
              "  <style>\n",
              "    .colab-df-container {\n",
              "      display:flex;\n",
              "      gap: 12px;\n",
              "    }\n",
              "\n",
              "    .colab-df-convert {\n",
              "      background-color: #E8F0FE;\n",
              "      border: none;\n",
              "      border-radius: 50%;\n",
              "      cursor: pointer;\n",
              "      display: none;\n",
              "      fill: #1967D2;\n",
              "      height: 32px;\n",
              "      padding: 0 0 0 0;\n",
              "      width: 32px;\n",
              "    }\n",
              "\n",
              "    .colab-df-convert:hover {\n",
              "      background-color: #E2EBFA;\n",
              "      box-shadow: 0px 1px 2px rgba(60, 64, 67, 0.3), 0px 1px 3px 1px rgba(60, 64, 67, 0.15);\n",
              "      fill: #174EA6;\n",
              "    }\n",
              "\n",
              "    .colab-df-buttons div {\n",
              "      margin-bottom: 4px;\n",
              "    }\n",
              "\n",
              "    [theme=dark] .colab-df-convert {\n",
              "      background-color: #3B4455;\n",
              "      fill: #D2E3FC;\n",
              "    }\n",
              "\n",
              "    [theme=dark] .colab-df-convert:hover {\n",
              "      background-color: #434B5C;\n",
              "      box-shadow: 0px 1px 3px 1px rgba(0, 0, 0, 0.15);\n",
              "      filter: drop-shadow(0px 1px 2px rgba(0, 0, 0, 0.3));\n",
              "      fill: #FFFFFF;\n",
              "    }\n",
              "  </style>\n",
              "\n",
              "    <script>\n",
              "      const buttonEl =\n",
              "        document.querySelector('#df-99992f78-1fa0-47ac-8a40-692ec40c3f00 button.colab-df-convert');\n",
              "      buttonEl.style.display =\n",
              "        google.colab.kernel.accessAllowed ? 'block' : 'none';\n",
              "\n",
              "      async function convertToInteractive(key) {\n",
              "        const element = document.querySelector('#df-99992f78-1fa0-47ac-8a40-692ec40c3f00');\n",
              "        const dataTable =\n",
              "          await google.colab.kernel.invokeFunction('convertToInteractive',\n",
              "                                                    [key], {});\n",
              "        if (!dataTable) return;\n",
              "\n",
              "        const docLinkHtml = 'Like what you see? Visit the ' +\n",
              "          '<a target=\"_blank\" href=https://colab.research.google.com/notebooks/data_table.ipynb>data table notebook</a>'\n",
              "          + ' to learn more about interactive tables.';\n",
              "        element.innerHTML = '';\n",
              "        dataTable['output_type'] = 'display_data';\n",
              "        await google.colab.output.renderOutput(dataTable, element);\n",
              "        const docLink = document.createElement('div');\n",
              "        docLink.innerHTML = docLinkHtml;\n",
              "        element.appendChild(docLink);\n",
              "      }\n",
              "    </script>\n",
              "  </div>\n",
              "\n",
              "\n",
              "    <div id=\"df-1ba0d536-fd7f-48e4-a63c-aad67ce84738\">\n",
              "      <button class=\"colab-df-quickchart\" onclick=\"quickchart('df-1ba0d536-fd7f-48e4-a63c-aad67ce84738')\"\n",
              "                title=\"Suggest charts\"\n",
              "                style=\"display:none;\">\n",
              "\n",
              "<svg xmlns=\"http://www.w3.org/2000/svg\" height=\"24px\"viewBox=\"0 0 24 24\"\n",
              "     width=\"24px\">\n",
              "    <g>\n",
              "        <path d=\"M19 3H5c-1.1 0-2 .9-2 2v14c0 1.1.9 2 2 2h14c1.1 0 2-.9 2-2V5c0-1.1-.9-2-2-2zM9 17H7v-7h2v7zm4 0h-2V7h2v10zm4 0h-2v-4h2v4z\"/>\n",
              "    </g>\n",
              "</svg>\n",
              "      </button>\n",
              "\n",
              "<style>\n",
              "  .colab-df-quickchart {\n",
              "      --bg-color: #E8F0FE;\n",
              "      --fill-color: #1967D2;\n",
              "      --hover-bg-color: #E2EBFA;\n",
              "      --hover-fill-color: #174EA6;\n",
              "      --disabled-fill-color: #AAA;\n",
              "      --disabled-bg-color: #DDD;\n",
              "  }\n",
              "\n",
              "  [theme=dark] .colab-df-quickchart {\n",
              "      --bg-color: #3B4455;\n",
              "      --fill-color: #D2E3FC;\n",
              "      --hover-bg-color: #434B5C;\n",
              "      --hover-fill-color: #FFFFFF;\n",
              "      --disabled-bg-color: #3B4455;\n",
              "      --disabled-fill-color: #666;\n",
              "  }\n",
              "\n",
              "  .colab-df-quickchart {\n",
              "    background-color: var(--bg-color);\n",
              "    border: none;\n",
              "    border-radius: 50%;\n",
              "    cursor: pointer;\n",
              "    display: none;\n",
              "    fill: var(--fill-color);\n",
              "    height: 32px;\n",
              "    padding: 0;\n",
              "    width: 32px;\n",
              "  }\n",
              "\n",
              "  .colab-df-quickchart:hover {\n",
              "    background-color: var(--hover-bg-color);\n",
              "    box-shadow: 0 1px 2px rgba(60, 64, 67, 0.3), 0 1px 3px 1px rgba(60, 64, 67, 0.15);\n",
              "    fill: var(--button-hover-fill-color);\n",
              "  }\n",
              "\n",
              "  .colab-df-quickchart-complete:disabled,\n",
              "  .colab-df-quickchart-complete:disabled:hover {\n",
              "    background-color: var(--disabled-bg-color);\n",
              "    fill: var(--disabled-fill-color);\n",
              "    box-shadow: none;\n",
              "  }\n",
              "\n",
              "  .colab-df-spinner {\n",
              "    border: 2px solid var(--fill-color);\n",
              "    border-color: transparent;\n",
              "    border-bottom-color: var(--fill-color);\n",
              "    animation:\n",
              "      spin 1s steps(1) infinite;\n",
              "  }\n",
              "\n",
              "  @keyframes spin {\n",
              "    0% {\n",
              "      border-color: transparent;\n",
              "      border-bottom-color: var(--fill-color);\n",
              "      border-left-color: var(--fill-color);\n",
              "    }\n",
              "    20% {\n",
              "      border-color: transparent;\n",
              "      border-left-color: var(--fill-color);\n",
              "      border-top-color: var(--fill-color);\n",
              "    }\n",
              "    30% {\n",
              "      border-color: transparent;\n",
              "      border-left-color: var(--fill-color);\n",
              "      border-top-color: var(--fill-color);\n",
              "      border-right-color: var(--fill-color);\n",
              "    }\n",
              "    40% {\n",
              "      border-color: transparent;\n",
              "      border-right-color: var(--fill-color);\n",
              "      border-top-color: var(--fill-color);\n",
              "    }\n",
              "    60% {\n",
              "      border-color: transparent;\n",
              "      border-right-color: var(--fill-color);\n",
              "    }\n",
              "    80% {\n",
              "      border-color: transparent;\n",
              "      border-right-color: var(--fill-color);\n",
              "      border-bottom-color: var(--fill-color);\n",
              "    }\n",
              "    90% {\n",
              "      border-color: transparent;\n",
              "      border-bottom-color: var(--fill-color);\n",
              "    }\n",
              "  }\n",
              "</style>\n",
              "\n",
              "      <script>\n",
              "        async function quickchart(key) {\n",
              "          const quickchartButtonEl =\n",
              "            document.querySelector('#' + key + ' button');\n",
              "          quickchartButtonEl.disabled = true;  // To prevent multiple clicks.\n",
              "          quickchartButtonEl.classList.add('colab-df-spinner');\n",
              "          try {\n",
              "            const charts = await google.colab.kernel.invokeFunction(\n",
              "                'suggestCharts', [key], {});\n",
              "          } catch (error) {\n",
              "            console.error('Error during call to suggestCharts:', error);\n",
              "          }\n",
              "          quickchartButtonEl.classList.remove('colab-df-spinner');\n",
              "          quickchartButtonEl.classList.add('colab-df-quickchart-complete');\n",
              "        }\n",
              "        (() => {\n",
              "          let quickchartButtonEl =\n",
              "            document.querySelector('#df-1ba0d536-fd7f-48e4-a63c-aad67ce84738 button');\n",
              "          quickchartButtonEl.style.display =\n",
              "            google.colab.kernel.accessAllowed ? 'block' : 'none';\n",
              "        })();\n",
              "      </script>\n",
              "    </div>\n",
              "\n",
              "    </div>\n",
              "  </div>\n"
            ],
            "text/plain": [
              "      id              name  number_of_seasons  number_of_episodes  \\\n",
              "0   1399   Game of Thrones                  8                  73   \n",
              "1  71446       Money Heist                  3                  41   \n",
              "2  66732   Stranger Things                  4                  34   \n",
              "3   1402  The Walking Dead                 11                 177   \n",
              "4  63174           Lucifer                  6                  93   \n",
              "\n",
              "  original_language  vote_count  vote_average  \\\n",
              "0                en       21857         8.442   \n",
              "1                es       17836         8.257   \n",
              "2                en       16161         8.624   \n",
              "3                en       15432         8.121   \n",
              "4                en       13870         8.486   \n",
              "\n",
              "                                            overview  adult  \\\n",
              "0  Seven noble families fight for control of the ...  False   \n",
              "1  To carry out the biggest heist in history, a m...  False   \n",
              "2  When a young boy vanishes, a small town uncove...  False   \n",
              "3  Sheriff's deputy Rick Grimes awakens from a co...  False   \n",
              "4  Bored and unhappy as the Lord of Hell, Lucifer...  False   \n",
              "\n",
              "                      backdrop_path  ...                           tagline  \\\n",
              "0   /2OMB0ynKlyIenMJWI2Dy9IWT4c.jpg  ...                  Winter Is Coming   \n",
              "1  /gFZriCkpJYsApPZEF3jhxL4yLzG.jpg  ...              The perfect robbery.   \n",
              "2  /2MaumbgBlW1NoPo3ZJO38A6v7OS.jpg  ...     Every ending has a beginning.   \n",
              "3  /x4salpjB11umlUOltfNvSSrjSXm.jpg  ...  Fight the dead. Fear the living.   \n",
              "4  /aDBRtunw49UF4XmqfyNuD9nlYIu.jpg  ...              It's good to be bad.   \n",
              "\n",
              "                                        genres                 created_by  \\\n",
              "0  Sci-Fi & Fantasy, Drama, Action & Adventure  David Benioff, D.B. Weiss   \n",
              "1                                 Crime, Drama                  Álex Pina   \n",
              "2             Drama, Sci-Fi & Fantasy, Mystery   Matt Duffer, Ross Duffer   \n",
              "3  Action & Adventure, Drama, Sci-Fi & Fantasy             Frank Darabont   \n",
              "4                      Crime, Sci-Fi & Fantasy                Tom Kapinos   \n",
              "\n",
              "   languages           networks  origin_country spoken_languages  \\\n",
              "0         en                HBO              US          English   \n",
              "1         es  Netflix, Antena 3              ES          Español   \n",
              "2         en            Netflix              US          English   \n",
              "3         en                AMC              US          English   \n",
              "4         en       FOX, Netflix              US          English   \n",
              "\n",
              "                                production_companies  \\\n",
              "0  Revolution Sun Studios, Television 360, Genera...   \n",
              "1                                    Vancouver Media   \n",
              "2  21 Laps Entertainment, Monkey Massacre Product...   \n",
              "3  AMC Studios, Circle of Confusion, Valhalla Mot...   \n",
              "4  Warner Bros. Television, DC Entertainment, Jer...   \n",
              "\n",
              "                       production_countries episode_run_time  \n",
              "0  United Kingdom, United States of America                0  \n",
              "1                                     Spain               70  \n",
              "2                  United States of America                0  \n",
              "3                  United States of America               42  \n",
              "4                  United States of America               45  \n",
              "\n",
              "[5 rows x 29 columns]"
            ]
          },
          "execution_count": 4,
          "metadata": {},
          "output_type": "execute_result"
        }
      ],
      "source": [
        "df=pd.read_csv(\"TMDB_tv_dataset_v3.csv\")\n",
        "df.head()"
      ]
    },
    {
      "cell_type": "code",
      "execution_count": null,
      "metadata": {
        "colab": {
          "base_uri": "https://localhost:8080/"
        },
        "id": "ikhLTdRCP3EI",
        "outputId": "030688e3-fa49-4cd3-ee62-8951fbc8e7a4"
      },
      "outputs": [
        {
          "name": "stdout",
          "output_type": "stream",
          "text": [
            "<class 'pandas.core.frame.DataFrame'>\n",
            "RangeIndex: 168639 entries, 0 to 168638\n",
            "Data columns (total 29 columns):\n",
            " #   Column                Non-Null Count   Dtype  \n",
            "---  ------                --------------   -----  \n",
            " 0   id                    168639 non-null  int64  \n",
            " 1   name                  168634 non-null  object \n",
            " 2   number_of_seasons     168639 non-null  int64  \n",
            " 3   number_of_episodes    168639 non-null  int64  \n",
            " 4   original_language     168639 non-null  object \n",
            " 5   vote_count            168639 non-null  int64  \n",
            " 6   vote_average          168639 non-null  float64\n",
            " 7   overview              93333 non-null   object \n",
            " 8   adult                 168639 non-null  bool   \n",
            " 9   backdrop_path         77780 non-null   object \n",
            " 10  first_air_date        136903 non-null  object \n",
            " 11  last_air_date         138735 non-null  object \n",
            " 12  homepage              50998 non-null   object \n",
            " 13  in_production         168639 non-null  bool   \n",
            " 14  original_name         168634 non-null  object \n",
            " 15  popularity            168639 non-null  float64\n",
            " 16  poster_path           108737 non-null  object \n",
            " 17  type                  168639 non-null  object \n",
            " 18  status                168639 non-null  object \n",
            " 19  tagline               5330 non-null    object \n",
            " 20  genres                99713 non-null   object \n",
            " 21  created_by            36496 non-null   object \n",
            " 22  languages             110050 non-null  object \n",
            " 23  networks              97589 non-null   object \n",
            " 24  origin_country        137609 non-null  object \n",
            " 25  spoken_languages      109280 non-null  object \n",
            " 26  production_companies  59342 non-null   object \n",
            " 27  production_countries  77511 non-null   object \n",
            " 28  episode_run_time      168639 non-null  int64  \n",
            "dtypes: bool(2), float64(2), int64(5), object(20)\n",
            "memory usage: 35.1+ MB\n"
          ]
        }
      ],
      "source": [
        "df.info()"
      ]
    },
    {
      "cell_type": "code",
      "execution_count": null,
      "metadata": {
        "colab": {
          "base_uri": "https://localhost:8080/",
          "height": 335
        },
        "id": "QCqCDPgARk8G",
        "outputId": "e09bd7d1-7c3f-4165-d400-512ec9500f3f"
      },
      "outputs": [
        {
          "data": {
            "text/html": [
              "<div>\n",
              "<style scoped>\n",
              "    .dataframe tbody tr th:only-of-type {\n",
              "        vertical-align: middle;\n",
              "    }\n",
              "\n",
              "    .dataframe tbody tr th {\n",
              "        vertical-align: top;\n",
              "    }\n",
              "\n",
              "    .dataframe thead th {\n",
              "        text-align: right;\n",
              "    }\n",
              "</style>\n",
              "<table border=\"1\" class=\"dataframe\">\n",
              "  <thead>\n",
              "    <tr style=\"text-align: right;\">\n",
              "      <th></th>\n",
              "      <th>count</th>\n",
              "    </tr>\n",
              "    <tr>\n",
              "      <th>type</th>\n",
              "      <th></th>\n",
              "    </tr>\n",
              "  </thead>\n",
              "  <tbody>\n",
              "    <tr>\n",
              "      <th>Scripted</th>\n",
              "      <td>129301</td>\n",
              "    </tr>\n",
              "    <tr>\n",
              "      <th>Documentary</th>\n",
              "      <td>13864</td>\n",
              "    </tr>\n",
              "    <tr>\n",
              "      <th>Miniseries</th>\n",
              "      <td>10810</td>\n",
              "    </tr>\n",
              "    <tr>\n",
              "      <th>Reality</th>\n",
              "      <td>9682</td>\n",
              "    </tr>\n",
              "    <tr>\n",
              "      <th>Talk Show</th>\n",
              "      <td>2997</td>\n",
              "    </tr>\n",
              "    <tr>\n",
              "      <th>Video</th>\n",
              "      <td>1379</td>\n",
              "    </tr>\n",
              "    <tr>\n",
              "      <th>News</th>\n",
              "      <td>606</td>\n",
              "    </tr>\n",
              "  </tbody>\n",
              "</table>\n",
              "</div><br><label><b>dtype:</b> int64</label>"
            ],
            "text/plain": [
              "type\n",
              "Scripted       129301\n",
              "Documentary     13864\n",
              "Miniseries      10810\n",
              "Reality          9682\n",
              "Talk Show        2997\n",
              "Video            1379\n",
              "News              606\n",
              "Name: count, dtype: int64"
            ]
          },
          "execution_count": 6,
          "metadata": {},
          "output_type": "execute_result"
        }
      ],
      "source": [
        "df['type'].value_counts()"
      ]
    },
    {
      "cell_type": "markdown",
      "metadata": {
        "id": "QDUwHGuLSB1R"
      },
      "source": [
        "Aiming to predict type based on overview"
      ]
    },
    {
      "cell_type": "code",
      "execution_count": null,
      "metadata": {
        "colab": {
          "base_uri": "https://localhost:8080/",
          "height": 206
        },
        "id": "Uw3gYqQhPss5",
        "outputId": "bbb1c1e6-e5e4-4820-93d3-3a9f474b85fe"
      },
      "outputs": [
        {
          "data": {
            "application/vnd.google.colaboratory.intrinsic+json": {
              "type": "dataframe",
              "variable_name": "df"
            },
            "text/html": [
              "\n",
              "  <div id=\"df-df4e6cda-2ec8-4ccc-94b6-df586b5f664d\" class=\"colab-df-container\">\n",
              "    <div>\n",
              "<style scoped>\n",
              "    .dataframe tbody tr th:only-of-type {\n",
              "        vertical-align: middle;\n",
              "    }\n",
              "\n",
              "    .dataframe tbody tr th {\n",
              "        vertical-align: top;\n",
              "    }\n",
              "\n",
              "    .dataframe thead th {\n",
              "        text-align: right;\n",
              "    }\n",
              "</style>\n",
              "<table border=\"1\" class=\"dataframe\">\n",
              "  <thead>\n",
              "    <tr style=\"text-align: right;\">\n",
              "      <th></th>\n",
              "      <th>overview</th>\n",
              "      <th>type</th>\n",
              "    </tr>\n",
              "  </thead>\n",
              "  <tbody>\n",
              "    <tr>\n",
              "      <th>0</th>\n",
              "      <td>Seven noble families fight for control of the ...</td>\n",
              "      <td>Scripted</td>\n",
              "    </tr>\n",
              "    <tr>\n",
              "      <th>1</th>\n",
              "      <td>To carry out the biggest heist in history, a m...</td>\n",
              "      <td>Scripted</td>\n",
              "    </tr>\n",
              "    <tr>\n",
              "      <th>2</th>\n",
              "      <td>When a young boy vanishes, a small town uncove...</td>\n",
              "      <td>Scripted</td>\n",
              "    </tr>\n",
              "    <tr>\n",
              "      <th>3</th>\n",
              "      <td>Sheriff's deputy Rick Grimes awakens from a co...</td>\n",
              "      <td>Scripted</td>\n",
              "    </tr>\n",
              "    <tr>\n",
              "      <th>4</th>\n",
              "      <td>Bored and unhappy as the Lord of Hell, Lucifer...</td>\n",
              "      <td>Scripted</td>\n",
              "    </tr>\n",
              "  </tbody>\n",
              "</table>\n",
              "</div>\n",
              "    <div class=\"colab-df-buttons\">\n",
              "\n",
              "  <div class=\"colab-df-container\">\n",
              "    <button class=\"colab-df-convert\" onclick=\"convertToInteractive('df-df4e6cda-2ec8-4ccc-94b6-df586b5f664d')\"\n",
              "            title=\"Convert this dataframe to an interactive table.\"\n",
              "            style=\"display:none;\">\n",
              "\n",
              "  <svg xmlns=\"http://www.w3.org/2000/svg\" height=\"24px\" viewBox=\"0 -960 960 960\">\n",
              "    <path d=\"M120-120v-720h720v720H120Zm60-500h600v-160H180v160Zm220 220h160v-160H400v160Zm0 220h160v-160H400v160ZM180-400h160v-160H180v160Zm440 0h160v-160H620v160ZM180-180h160v-160H180v160Zm440 0h160v-160H620v160Z\"/>\n",
              "  </svg>\n",
              "    </button>\n",
              "\n",
              "  <style>\n",
              "    .colab-df-container {\n",
              "      display:flex;\n",
              "      gap: 12px;\n",
              "    }\n",
              "\n",
              "    .colab-df-convert {\n",
              "      background-color: #E8F0FE;\n",
              "      border: none;\n",
              "      border-radius: 50%;\n",
              "      cursor: pointer;\n",
              "      display: none;\n",
              "      fill: #1967D2;\n",
              "      height: 32px;\n",
              "      padding: 0 0 0 0;\n",
              "      width: 32px;\n",
              "    }\n",
              "\n",
              "    .colab-df-convert:hover {\n",
              "      background-color: #E2EBFA;\n",
              "      box-shadow: 0px 1px 2px rgba(60, 64, 67, 0.3), 0px 1px 3px 1px rgba(60, 64, 67, 0.15);\n",
              "      fill: #174EA6;\n",
              "    }\n",
              "\n",
              "    .colab-df-buttons div {\n",
              "      margin-bottom: 4px;\n",
              "    }\n",
              "\n",
              "    [theme=dark] .colab-df-convert {\n",
              "      background-color: #3B4455;\n",
              "      fill: #D2E3FC;\n",
              "    }\n",
              "\n",
              "    [theme=dark] .colab-df-convert:hover {\n",
              "      background-color: #434B5C;\n",
              "      box-shadow: 0px 1px 3px 1px rgba(0, 0, 0, 0.15);\n",
              "      filter: drop-shadow(0px 1px 2px rgba(0, 0, 0, 0.3));\n",
              "      fill: #FFFFFF;\n",
              "    }\n",
              "  </style>\n",
              "\n",
              "    <script>\n",
              "      const buttonEl =\n",
              "        document.querySelector('#df-df4e6cda-2ec8-4ccc-94b6-df586b5f664d button.colab-df-convert');\n",
              "      buttonEl.style.display =\n",
              "        google.colab.kernel.accessAllowed ? 'block' : 'none';\n",
              "\n",
              "      async function convertToInteractive(key) {\n",
              "        const element = document.querySelector('#df-df4e6cda-2ec8-4ccc-94b6-df586b5f664d');\n",
              "        const dataTable =\n",
              "          await google.colab.kernel.invokeFunction('convertToInteractive',\n",
              "                                                    [key], {});\n",
              "        if (!dataTable) return;\n",
              "\n",
              "        const docLinkHtml = 'Like what you see? Visit the ' +\n",
              "          '<a target=\"_blank\" href=https://colab.research.google.com/notebooks/data_table.ipynb>data table notebook</a>'\n",
              "          + ' to learn more about interactive tables.';\n",
              "        element.innerHTML = '';\n",
              "        dataTable['output_type'] = 'display_data';\n",
              "        await google.colab.output.renderOutput(dataTable, element);\n",
              "        const docLink = document.createElement('div');\n",
              "        docLink.innerHTML = docLinkHtml;\n",
              "        element.appendChild(docLink);\n",
              "      }\n",
              "    </script>\n",
              "  </div>\n",
              "\n",
              "\n",
              "    <div id=\"df-59b9a29d-c73f-440b-adc4-6a65d317bf4b\">\n",
              "      <button class=\"colab-df-quickchart\" onclick=\"quickchart('df-59b9a29d-c73f-440b-adc4-6a65d317bf4b')\"\n",
              "                title=\"Suggest charts\"\n",
              "                style=\"display:none;\">\n",
              "\n",
              "<svg xmlns=\"http://www.w3.org/2000/svg\" height=\"24px\"viewBox=\"0 0 24 24\"\n",
              "     width=\"24px\">\n",
              "    <g>\n",
              "        <path d=\"M19 3H5c-1.1 0-2 .9-2 2v14c0 1.1.9 2 2 2h14c1.1 0 2-.9 2-2V5c0-1.1-.9-2-2-2zM9 17H7v-7h2v7zm4 0h-2V7h2v10zm4 0h-2v-4h2v4z\"/>\n",
              "    </g>\n",
              "</svg>\n",
              "      </button>\n",
              "\n",
              "<style>\n",
              "  .colab-df-quickchart {\n",
              "      --bg-color: #E8F0FE;\n",
              "      --fill-color: #1967D2;\n",
              "      --hover-bg-color: #E2EBFA;\n",
              "      --hover-fill-color: #174EA6;\n",
              "      --disabled-fill-color: #AAA;\n",
              "      --disabled-bg-color: #DDD;\n",
              "  }\n",
              "\n",
              "  [theme=dark] .colab-df-quickchart {\n",
              "      --bg-color: #3B4455;\n",
              "      --fill-color: #D2E3FC;\n",
              "      --hover-bg-color: #434B5C;\n",
              "      --hover-fill-color: #FFFFFF;\n",
              "      --disabled-bg-color: #3B4455;\n",
              "      --disabled-fill-color: #666;\n",
              "  }\n",
              "\n",
              "  .colab-df-quickchart {\n",
              "    background-color: var(--bg-color);\n",
              "    border: none;\n",
              "    border-radius: 50%;\n",
              "    cursor: pointer;\n",
              "    display: none;\n",
              "    fill: var(--fill-color);\n",
              "    height: 32px;\n",
              "    padding: 0;\n",
              "    width: 32px;\n",
              "  }\n",
              "\n",
              "  .colab-df-quickchart:hover {\n",
              "    background-color: var(--hover-bg-color);\n",
              "    box-shadow: 0 1px 2px rgba(60, 64, 67, 0.3), 0 1px 3px 1px rgba(60, 64, 67, 0.15);\n",
              "    fill: var(--button-hover-fill-color);\n",
              "  }\n",
              "\n",
              "  .colab-df-quickchart-complete:disabled,\n",
              "  .colab-df-quickchart-complete:disabled:hover {\n",
              "    background-color: var(--disabled-bg-color);\n",
              "    fill: var(--disabled-fill-color);\n",
              "    box-shadow: none;\n",
              "  }\n",
              "\n",
              "  .colab-df-spinner {\n",
              "    border: 2px solid var(--fill-color);\n",
              "    border-color: transparent;\n",
              "    border-bottom-color: var(--fill-color);\n",
              "    animation:\n",
              "      spin 1s steps(1) infinite;\n",
              "  }\n",
              "\n",
              "  @keyframes spin {\n",
              "    0% {\n",
              "      border-color: transparent;\n",
              "      border-bottom-color: var(--fill-color);\n",
              "      border-left-color: var(--fill-color);\n",
              "    }\n",
              "    20% {\n",
              "      border-color: transparent;\n",
              "      border-left-color: var(--fill-color);\n",
              "      border-top-color: var(--fill-color);\n",
              "    }\n",
              "    30% {\n",
              "      border-color: transparent;\n",
              "      border-left-color: var(--fill-color);\n",
              "      border-top-color: var(--fill-color);\n",
              "      border-right-color: var(--fill-color);\n",
              "    }\n",
              "    40% {\n",
              "      border-color: transparent;\n",
              "      border-right-color: var(--fill-color);\n",
              "      border-top-color: var(--fill-color);\n",
              "    }\n",
              "    60% {\n",
              "      border-color: transparent;\n",
              "      border-right-color: var(--fill-color);\n",
              "    }\n",
              "    80% {\n",
              "      border-color: transparent;\n",
              "      border-right-color: var(--fill-color);\n",
              "      border-bottom-color: var(--fill-color);\n",
              "    }\n",
              "    90% {\n",
              "      border-color: transparent;\n",
              "      border-bottom-color: var(--fill-color);\n",
              "    }\n",
              "  }\n",
              "</style>\n",
              "\n",
              "      <script>\n",
              "        async function quickchart(key) {\n",
              "          const quickchartButtonEl =\n",
              "            document.querySelector('#' + key + ' button');\n",
              "          quickchartButtonEl.disabled = true;  // To prevent multiple clicks.\n",
              "          quickchartButtonEl.classList.add('colab-df-spinner');\n",
              "          try {\n",
              "            const charts = await google.colab.kernel.invokeFunction(\n",
              "                'suggestCharts', [key], {});\n",
              "          } catch (error) {\n",
              "            console.error('Error during call to suggestCharts:', error);\n",
              "          }\n",
              "          quickchartButtonEl.classList.remove('colab-df-spinner');\n",
              "          quickchartButtonEl.classList.add('colab-df-quickchart-complete');\n",
              "        }\n",
              "        (() => {\n",
              "          let quickchartButtonEl =\n",
              "            document.querySelector('#df-59b9a29d-c73f-440b-adc4-6a65d317bf4b button');\n",
              "          quickchartButtonEl.style.display =\n",
              "            google.colab.kernel.accessAllowed ? 'block' : 'none';\n",
              "        })();\n",
              "      </script>\n",
              "    </div>\n",
              "\n",
              "    </div>\n",
              "  </div>\n"
            ],
            "text/plain": [
              "                                            overview      type\n",
              "0  Seven noble families fight for control of the ...  Scripted\n",
              "1  To carry out the biggest heist in history, a m...  Scripted\n",
              "2  When a young boy vanishes, a small town uncove...  Scripted\n",
              "3  Sheriff's deputy Rick Grimes awakens from a co...  Scripted\n",
              "4  Bored and unhappy as the Lord of Hell, Lucifer...  Scripted"
            ]
          },
          "execution_count": 7,
          "metadata": {},
          "output_type": "execute_result"
        }
      ],
      "source": [
        "df=df[['overview','type']]\n",
        "df.head()"
      ]
    },
    {
      "cell_type": "code",
      "execution_count": null,
      "metadata": {
        "colab": {
          "base_uri": "https://localhost:8080/",
          "height": 424
        },
        "id": "I_9S8Ef8SpAQ",
        "outputId": "4c5cd6ce-2ed2-4cfe-9fa0-ff59fdf010f6"
      },
      "outputs": [
        {
          "data": {
            "application/vnd.google.colaboratory.intrinsic+json": {
              "type": "dataframe"
            },
            "text/html": [
              "\n",
              "  <div id=\"df-f19207f6-8a17-4754-8f86-f93d8bc09fb6\" class=\"colab-df-container\">\n",
              "    <div>\n",
              "<style scoped>\n",
              "    .dataframe tbody tr th:only-of-type {\n",
              "        vertical-align: middle;\n",
              "    }\n",
              "\n",
              "    .dataframe tbody tr th {\n",
              "        vertical-align: top;\n",
              "    }\n",
              "\n",
              "    .dataframe thead th {\n",
              "        text-align: right;\n",
              "    }\n",
              "</style>\n",
              "<table border=\"1\" class=\"dataframe\">\n",
              "  <thead>\n",
              "    <tr style=\"text-align: right;\">\n",
              "      <th></th>\n",
              "      <th>overview</th>\n",
              "      <th>type</th>\n",
              "    </tr>\n",
              "  </thead>\n",
              "  <tbody>\n",
              "    <tr>\n",
              "      <th>0</th>\n",
              "      <td>False</td>\n",
              "      <td>False</td>\n",
              "    </tr>\n",
              "    <tr>\n",
              "      <th>1</th>\n",
              "      <td>False</td>\n",
              "      <td>False</td>\n",
              "    </tr>\n",
              "    <tr>\n",
              "      <th>2</th>\n",
              "      <td>False</td>\n",
              "      <td>False</td>\n",
              "    </tr>\n",
              "    <tr>\n",
              "      <th>3</th>\n",
              "      <td>False</td>\n",
              "      <td>False</td>\n",
              "    </tr>\n",
              "    <tr>\n",
              "      <th>4</th>\n",
              "      <td>False</td>\n",
              "      <td>False</td>\n",
              "    </tr>\n",
              "    <tr>\n",
              "      <th>...</th>\n",
              "      <td>...</td>\n",
              "      <td>...</td>\n",
              "    </tr>\n",
              "    <tr>\n",
              "      <th>168634</th>\n",
              "      <td>True</td>\n",
              "      <td>False</td>\n",
              "    </tr>\n",
              "    <tr>\n",
              "      <th>168635</th>\n",
              "      <td>True</td>\n",
              "      <td>False</td>\n",
              "    </tr>\n",
              "    <tr>\n",
              "      <th>168636</th>\n",
              "      <td>False</td>\n",
              "      <td>False</td>\n",
              "    </tr>\n",
              "    <tr>\n",
              "      <th>168637</th>\n",
              "      <td>False</td>\n",
              "      <td>False</td>\n",
              "    </tr>\n",
              "    <tr>\n",
              "      <th>168638</th>\n",
              "      <td>False</td>\n",
              "      <td>False</td>\n",
              "    </tr>\n",
              "  </tbody>\n",
              "</table>\n",
              "<p>168639 rows × 2 columns</p>\n",
              "</div>\n",
              "    <div class=\"colab-df-buttons\">\n",
              "\n",
              "  <div class=\"colab-df-container\">\n",
              "    <button class=\"colab-df-convert\" onclick=\"convertToInteractive('df-f19207f6-8a17-4754-8f86-f93d8bc09fb6')\"\n",
              "            title=\"Convert this dataframe to an interactive table.\"\n",
              "            style=\"display:none;\">\n",
              "\n",
              "  <svg xmlns=\"http://www.w3.org/2000/svg\" height=\"24px\" viewBox=\"0 -960 960 960\">\n",
              "    <path d=\"M120-120v-720h720v720H120Zm60-500h600v-160H180v160Zm220 220h160v-160H400v160Zm0 220h160v-160H400v160ZM180-400h160v-160H180v160Zm440 0h160v-160H620v160ZM180-180h160v-160H180v160Zm440 0h160v-160H620v160Z\"/>\n",
              "  </svg>\n",
              "    </button>\n",
              "\n",
              "  <style>\n",
              "    .colab-df-container {\n",
              "      display:flex;\n",
              "      gap: 12px;\n",
              "    }\n",
              "\n",
              "    .colab-df-convert {\n",
              "      background-color: #E8F0FE;\n",
              "      border: none;\n",
              "      border-radius: 50%;\n",
              "      cursor: pointer;\n",
              "      display: none;\n",
              "      fill: #1967D2;\n",
              "      height: 32px;\n",
              "      padding: 0 0 0 0;\n",
              "      width: 32px;\n",
              "    }\n",
              "\n",
              "    .colab-df-convert:hover {\n",
              "      background-color: #E2EBFA;\n",
              "      box-shadow: 0px 1px 2px rgba(60, 64, 67, 0.3), 0px 1px 3px 1px rgba(60, 64, 67, 0.15);\n",
              "      fill: #174EA6;\n",
              "    }\n",
              "\n",
              "    .colab-df-buttons div {\n",
              "      margin-bottom: 4px;\n",
              "    }\n",
              "\n",
              "    [theme=dark] .colab-df-convert {\n",
              "      background-color: #3B4455;\n",
              "      fill: #D2E3FC;\n",
              "    }\n",
              "\n",
              "    [theme=dark] .colab-df-convert:hover {\n",
              "      background-color: #434B5C;\n",
              "      box-shadow: 0px 1px 3px 1px rgba(0, 0, 0, 0.15);\n",
              "      filter: drop-shadow(0px 1px 2px rgba(0, 0, 0, 0.3));\n",
              "      fill: #FFFFFF;\n",
              "    }\n",
              "  </style>\n",
              "\n",
              "    <script>\n",
              "      const buttonEl =\n",
              "        document.querySelector('#df-f19207f6-8a17-4754-8f86-f93d8bc09fb6 button.colab-df-convert');\n",
              "      buttonEl.style.display =\n",
              "        google.colab.kernel.accessAllowed ? 'block' : 'none';\n",
              "\n",
              "      async function convertToInteractive(key) {\n",
              "        const element = document.querySelector('#df-f19207f6-8a17-4754-8f86-f93d8bc09fb6');\n",
              "        const dataTable =\n",
              "          await google.colab.kernel.invokeFunction('convertToInteractive',\n",
              "                                                    [key], {});\n",
              "        if (!dataTable) return;\n",
              "\n",
              "        const docLinkHtml = 'Like what you see? Visit the ' +\n",
              "          '<a target=\"_blank\" href=https://colab.research.google.com/notebooks/data_table.ipynb>data table notebook</a>'\n",
              "          + ' to learn more about interactive tables.';\n",
              "        element.innerHTML = '';\n",
              "        dataTable['output_type'] = 'display_data';\n",
              "        await google.colab.output.renderOutput(dataTable, element);\n",
              "        const docLink = document.createElement('div');\n",
              "        docLink.innerHTML = docLinkHtml;\n",
              "        element.appendChild(docLink);\n",
              "      }\n",
              "    </script>\n",
              "  </div>\n",
              "\n",
              "\n",
              "    <div id=\"df-af9bcc72-c0d0-46f4-b50a-91eece615075\">\n",
              "      <button class=\"colab-df-quickchart\" onclick=\"quickchart('df-af9bcc72-c0d0-46f4-b50a-91eece615075')\"\n",
              "                title=\"Suggest charts\"\n",
              "                style=\"display:none;\">\n",
              "\n",
              "<svg xmlns=\"http://www.w3.org/2000/svg\" height=\"24px\"viewBox=\"0 0 24 24\"\n",
              "     width=\"24px\">\n",
              "    <g>\n",
              "        <path d=\"M19 3H5c-1.1 0-2 .9-2 2v14c0 1.1.9 2 2 2h14c1.1 0 2-.9 2-2V5c0-1.1-.9-2-2-2zM9 17H7v-7h2v7zm4 0h-2V7h2v10zm4 0h-2v-4h2v4z\"/>\n",
              "    </g>\n",
              "</svg>\n",
              "      </button>\n",
              "\n",
              "<style>\n",
              "  .colab-df-quickchart {\n",
              "      --bg-color: #E8F0FE;\n",
              "      --fill-color: #1967D2;\n",
              "      --hover-bg-color: #E2EBFA;\n",
              "      --hover-fill-color: #174EA6;\n",
              "      --disabled-fill-color: #AAA;\n",
              "      --disabled-bg-color: #DDD;\n",
              "  }\n",
              "\n",
              "  [theme=dark] .colab-df-quickchart {\n",
              "      --bg-color: #3B4455;\n",
              "      --fill-color: #D2E3FC;\n",
              "      --hover-bg-color: #434B5C;\n",
              "      --hover-fill-color: #FFFFFF;\n",
              "      --disabled-bg-color: #3B4455;\n",
              "      --disabled-fill-color: #666;\n",
              "  }\n",
              "\n",
              "  .colab-df-quickchart {\n",
              "    background-color: var(--bg-color);\n",
              "    border: none;\n",
              "    border-radius: 50%;\n",
              "    cursor: pointer;\n",
              "    display: none;\n",
              "    fill: var(--fill-color);\n",
              "    height: 32px;\n",
              "    padding: 0;\n",
              "    width: 32px;\n",
              "  }\n",
              "\n",
              "  .colab-df-quickchart:hover {\n",
              "    background-color: var(--hover-bg-color);\n",
              "    box-shadow: 0 1px 2px rgba(60, 64, 67, 0.3), 0 1px 3px 1px rgba(60, 64, 67, 0.15);\n",
              "    fill: var(--button-hover-fill-color);\n",
              "  }\n",
              "\n",
              "  .colab-df-quickchart-complete:disabled,\n",
              "  .colab-df-quickchart-complete:disabled:hover {\n",
              "    background-color: var(--disabled-bg-color);\n",
              "    fill: var(--disabled-fill-color);\n",
              "    box-shadow: none;\n",
              "  }\n",
              "\n",
              "  .colab-df-spinner {\n",
              "    border: 2px solid var(--fill-color);\n",
              "    border-color: transparent;\n",
              "    border-bottom-color: var(--fill-color);\n",
              "    animation:\n",
              "      spin 1s steps(1) infinite;\n",
              "  }\n",
              "\n",
              "  @keyframes spin {\n",
              "    0% {\n",
              "      border-color: transparent;\n",
              "      border-bottom-color: var(--fill-color);\n",
              "      border-left-color: var(--fill-color);\n",
              "    }\n",
              "    20% {\n",
              "      border-color: transparent;\n",
              "      border-left-color: var(--fill-color);\n",
              "      border-top-color: var(--fill-color);\n",
              "    }\n",
              "    30% {\n",
              "      border-color: transparent;\n",
              "      border-left-color: var(--fill-color);\n",
              "      border-top-color: var(--fill-color);\n",
              "      border-right-color: var(--fill-color);\n",
              "    }\n",
              "    40% {\n",
              "      border-color: transparent;\n",
              "      border-right-color: var(--fill-color);\n",
              "      border-top-color: var(--fill-color);\n",
              "    }\n",
              "    60% {\n",
              "      border-color: transparent;\n",
              "      border-right-color: var(--fill-color);\n",
              "    }\n",
              "    80% {\n",
              "      border-color: transparent;\n",
              "      border-right-color: var(--fill-color);\n",
              "      border-bottom-color: var(--fill-color);\n",
              "    }\n",
              "    90% {\n",
              "      border-color: transparent;\n",
              "      border-bottom-color: var(--fill-color);\n",
              "    }\n",
              "  }\n",
              "</style>\n",
              "\n",
              "      <script>\n",
              "        async function quickchart(key) {\n",
              "          const quickchartButtonEl =\n",
              "            document.querySelector('#' + key + ' button');\n",
              "          quickchartButtonEl.disabled = true;  // To prevent multiple clicks.\n",
              "          quickchartButtonEl.classList.add('colab-df-spinner');\n",
              "          try {\n",
              "            const charts = await google.colab.kernel.invokeFunction(\n",
              "                'suggestCharts', [key], {});\n",
              "          } catch (error) {\n",
              "            console.error('Error during call to suggestCharts:', error);\n",
              "          }\n",
              "          quickchartButtonEl.classList.remove('colab-df-spinner');\n",
              "          quickchartButtonEl.classList.add('colab-df-quickchart-complete');\n",
              "        }\n",
              "        (() => {\n",
              "          let quickchartButtonEl =\n",
              "            document.querySelector('#df-af9bcc72-c0d0-46f4-b50a-91eece615075 button');\n",
              "          quickchartButtonEl.style.display =\n",
              "            google.colab.kernel.accessAllowed ? 'block' : 'none';\n",
              "        })();\n",
              "      </script>\n",
              "    </div>\n",
              "\n",
              "    </div>\n",
              "  </div>\n"
            ],
            "text/plain": [
              "        overview   type\n",
              "0          False  False\n",
              "1          False  False\n",
              "2          False  False\n",
              "3          False  False\n",
              "4          False  False\n",
              "...          ...    ...\n",
              "168634      True  False\n",
              "168635      True  False\n",
              "168636     False  False\n",
              "168637     False  False\n",
              "168638     False  False\n",
              "\n",
              "[168639 rows x 2 columns]"
            ]
          },
          "execution_count": 8,
          "metadata": {},
          "output_type": "execute_result"
        }
      ],
      "source": [
        "df.isnull().dropna()"
      ]
    },
    {
      "cell_type": "code",
      "execution_count": null,
      "metadata": {
        "colab": {
          "base_uri": "https://localhost:8080/",
          "height": 607
        },
        "id": "Kc2DiE4HSy4T",
        "outputId": "61494284-496a-4be0-948e-7647656ae2b1"
      },
      "outputs": [
        {
          "data": {
            "image/png": "[encoded data removed]",
            "text/plain": [
              "<Figure size 1000x600 with 1 Axes>"
            ]
          },
          "metadata": {},
          "output_type": "display_data"
        }
      ],
      "source": [
        "\n",
        "# Count the occurrences of each 'type'\n",
        "type_counts = df['type'].value_counts().reset_index()\n",
        "type_counts.columns = ['type', 'count']\n",
        "\n",
        "# Create the bar chart\n",
        "plt.figure(figsize=(10, 6))\n",
        "sns.barplot(x='type', y='count', data=type_counts)\n",
        "plt.title('Count of Each Type')\n",
        "plt.xlabel('Type')\n",
        "plt.ylabel('Count')\n",
        "plt.xticks(rotation=45, ha='right')\n",
        "plt.tight_layout()\n",
        "plt.show()"
      ]
    },
    {
      "cell_type": "code",
      "execution_count": null,
      "metadata": {
        "colab": {
          "base_uri": "https://localhost:8080/"
        },
        "id": "Bd2JCPMLWEqD",
        "outputId": "0dec6a03-57e7-4b3c-9e02-01c26d0e179b"
      },
      "outputs": [
        {
          "name": "stderr",
          "output_type": "stream",
          "text": [
            "[nltk_data] Downloading package stopwords to /root/nltk_data...\n",
            "[nltk_data]   Package stopwords is already up-to-date!\n",
            "[nltk_data] Downloading package punkt to /root/nltk_data...\n",
            "[nltk_data]   Package punkt is already up-to-date!\n",
            "[nltk_data] Downloading package punkt_tab to /root/nltk_data...\n",
            "[nltk_data]   Package punkt_tab is already up-to-date!\n",
            "[nltk_data] Downloading package wordnet to /root/nltk_data...\n",
            "[nltk_data]   Package wordnet is already up-to-date!\n",
            "[nltk_data] Downloading package averaged_perceptron_tagger_eng to\n",
            "[nltk_data]     /root/nltk_data...\n",
            "[nltk_data]   Package averaged_perceptron_tagger_eng is already up-to-\n",
            "[nltk_data]       date!\n",
            "[nltk_data] Downloading package omw-1.4 to /root/nltk_data...\n",
            "[nltk_data]   Package omw-1.4 is already up-to-date!\n"
          ]
        }
      ],
      "source": [
        "import pandas as pd\n",
        "import re\n",
        "import nltk\n",
        "from nltk.corpus import stopwords, wordnet\n",
        "from nltk.stem import WordNetLemmatizer\n",
        "from nltk import pos_tag, word_tokenize\n",
        "\n",
        "# Download necessary NLTK data\n",
        "nltk.download('stopwords')\n",
        "nltk.download('punkt')\n",
        "nltk.download('punkt_tab')\n",
        "nltk.download('wordnet')\n",
        "nltk.download('averaged_perceptron_tagger_eng') # ✅ Download the specific English tagger\n",
        "nltk.download('omw-1.4')\n",
        "\n",
        "stop_words = set(stopwords.words('english'))\n",
        "lemmatizer = WordNetLemmatizer()\n",
        "\n",
        "def get_wordnet_pos(tag):\n",
        "    if tag.startswith('J'):\n",
        "        return wordnet.ADJ\n",
        "    elif tag.startswith('V'):\n",
        "        return wordnet.VERB\n",
        "    elif tag.startswith('N'):\n",
        "        return wordnet.NOUN\n",
        "    elif tag.startswith('R'):\n",
        "        return wordnet.ADV\n",
        "    else:\n",
        "        return wordnet.NOUN\n",
        "\n",
        "def clean_text(text):\n",
        "    if pd.isnull(text):\n",
        "        return []\n",
        "    text = text.lower()\n",
        "    text = re.sub(r'<.*?>', '', text)\n",
        "    phrases = [\"new york\", \"star wars\", \"game of thrones\"]\n",
        "    for phrase in phrases:\n",
        "        text = text.replace(phrase, phrase.replace(\" \", \"_\"))\n",
        "    text = re.sub(r'[^a-z_\\s]', '', text)\n",
        "    tokens = word_tokenize(text)\n",
        "    tokens = [word for word in tokens if word not in stop_words]\n",
        "    tagged_tokens = pos_tag(tokens)\n",
        "    lemmatized = [\n",
        "        lemmatizer.lemmatize(word, get_wordnet_pos(pos_tag))\n",
        "        for word, pos_tag in tagged_tokens\n",
        "    ]\n",
        "    return lemmatized\n",
        "\n",
        "df['clean_tokens'] = df['overview'].apply(clean_text)\n",
        "df = df[df['clean_tokens'].map(len) > 0].reset_index(drop=True)\n"
      ]
    },
    {
      "cell_type": "code",
      "execution_count": null,
      "metadata": {
        "colab": {
          "base_uri": "https://localhost:8080/",
          "height": 651
        },
        "id": "66D9ZELzXq40",
        "outputId": "dff05084-8f8e-445a-e33d-8b6d723c4b6c"
      },
      "outputs": [
        {
          "name": "stderr",
          "output_type": "stream",
          "text": [
            "<ipython-input-11-4e0c0bc77901>:13: FutureWarning: \n",
            "\n",
            "Passing `palette` without assigning `hue` is deprecated and will be removed in v0.14.0. Assign the `y` variable to `hue` and set `legend=False` for the same effect.\n",
            "\n",
            "  sns.barplot(x=list(counts), y=list(tokens), palette='viridis')\n"
          ]
        },
        {
          "data": {
            "image/png": "[encoded data removed]",
            "text/plain": [
              "<Figure size 1200x600 with 1 Axes>"
            ]
          },
          "metadata": {},
          "output_type": "display_data"
        }
      ],
      "source": [
        "from collections import Counter\n",
        "import matplotlib.pyplot as plt\n",
        "import seaborn as sns\n",
        "\n",
        "# Flatten token lists and count\n",
        "all_tokens = [token for tokens in df['clean_tokens'] for token in tokens]\n",
        "token_counts = Counter(all_tokens)\n",
        "common_tokens = token_counts.most_common(20)\n",
        "\n",
        "# Plot\n",
        "tokens, counts = zip(*common_tokens)\n",
        "plt.figure(figsize=(12, 6))\n",
        "sns.barplot(x=list(counts), y=list(tokens), palette='viridis')\n",
        "plt.title(\"Top 20 Most Frequent Words in Overviews\")\n",
        "plt.xlabel(\"Frequency\")\n",
        "plt.ylabel(\"Word\")\n",
        "plt.show()\n"
      ]
    },
    {
      "cell_type": "code",
      "execution_count": null,
      "metadata": {
        "colab": {
          "base_uri": "https://localhost:8080/"
        },
        "id": "Dteow5D8Z-De",
        "outputId": "47c5260c-0304-4eda-c205-c45f6a9ab2bb"
      },
      "outputs": [
        {
          "name": "stdout",
          "output_type": "stream",
          "text": [
            "<class 'pandas.core.frame.DataFrame'>\n",
            "RangeIndex: 93253 entries, 0 to 93252\n",
            "Data columns (total 2 columns):\n",
            " #   Column        Non-Null Count  Dtype \n",
            "---  ------        --------------  ----- \n",
            " 0   type          93253 non-null  object\n",
            " 1   clean_tokens  93253 non-null  object\n",
            "dtypes: object(2)\n",
            "memory usage: 1.4+ MB\n"
          ]
        }
      ],
      "source": [
        "df.drop('overview', axis=1, inplace=True)\n",
        "df.info()"
      ]
    },
    {
      "cell_type": "code",
      "execution_count": null,
      "metadata": {
        "id": "_d99vccyrjIB"
      },
      "outputs": [],
      "source": [
        "from sklearn.model_selection import train_test_split\n",
        "\n",
        "# Drop rows with missing text or labels\n",
        "df = df.dropna(subset=['clean_tokens', 'type'])\n",
        "\n",
        "# Step 1: Split into 80% train, 20% temp (for val/test)\n",
        "train_df, temp_df = train_test_split(\n",
        "    df,\n",
        "    test_size=0.2,\n",
        "    random_state=42,\n",
        "    stratify=df['type']\n",
        ")\n",
        "\n",
        "# Step 2: Split temp into 10% val and 10% test (half of temp each)\n",
        "val_df, test_df = train_test_split(\n",
        "    temp_df,\n",
        "    test_size=0.5,\n",
        "    random_state=42,\n",
        "    stratify=temp_df['type']\n",
        ")\n"
      ]
    },
    {
      "cell_type": "code",
      "execution_count": null,
      "metadata": {
        "colab": {
          "base_uri": "https://localhost:8080/"
        },
        "id": "NbpYkETepp-B",
        "outputId": "43edaf7c-c2d5-48f9-a514-4fa538009687"
      },
      "outputs": [
        {
          "name": "stdout",
          "output_type": "stream",
          "text": [
            "Requirement already satisfied: numpy in /usr/local/lib/python3.11/dist-packages (1.26.4)\n",
            "Collecting numpy\n",
            "  Using cached numpy-2.2.6-cp311-cp311-manylinux_2_17_x86_64.manylinux2014_x86_64.whl.metadata (62 kB)\n",
            "Using cached numpy-2.2.6-cp311-cp311-manylinux_2_17_x86_64.manylinux2014_x86_64.whl (16.8 MB)\n",
            "Installing collected packages: numpy\n",
            "  Attempting uninstall: numpy\n",
            "    Found existing installation: numpy 1.26.4\n",
            "    Uninstalling numpy-1.26.4:\n",
            "      Successfully uninstalled numpy-1.26.4\n",
            "\u001b[31mERROR: pip's dependency resolver does not currently take into account all the packages that are installed. This behaviour is the source of the following dependency conflicts.\n",
            "gensim 4.3.3 requires numpy<2.0,>=1.18.5, but you have numpy 2.2.6 which is incompatible.\n",
            "tensorflow 2.18.0 requires numpy<2.1.0,>=1.26.0, but you have numpy 2.2.6 which is incompatible.\n",
            "numba 0.60.0 requires numpy<2.1,>=1.22, but you have numpy 2.2.6 which is incompatible.\n",
            "tsfresh 0.21.0 requires scipy>=1.14.0; python_version >= \"3.10\", but you have scipy 1.13.1 which is incompatible.\u001b[0m\u001b[31m\n",
            "\u001b[0mSuccessfully installed numpy-2.2.6\n",
            "Collecting gensim\n",
            "  Using cached gensim-4.3.3-cp311-cp311-manylinux_2_17_x86_64.manylinux2014_x86_64.whl.metadata (8.1 kB)\n",
            "Collecting numpy<2.0,>=1.18.5 (from gensim)\n",
            "  Using cached numpy-1.26.4-cp311-cp311-manylinux_2_17_x86_64.manylinux2014_x86_64.whl.metadata (61 kB)\n",
            "Collecting scipy<1.14.0,>=1.7.0 (from gensim)\n",
            "  Using cached scipy-1.13.1-cp311-cp311-manylinux_2_17_x86_64.manylinux2014_x86_64.whl.metadata (60 kB)\n",
            "Collecting smart-open>=1.8.1 (from gensim)\n",
            "  Using cached smart_open-7.1.0-py3-none-any.whl.metadata (24 kB)\n",
            "Collecting wrapt (from smart-open>=1.8.1->gensim)\n",
            "  Using cached wrapt-1.17.2-cp311-cp311-manylinux_2_5_x86_64.manylinux1_x86_64.manylinux_2_17_x86_64.manylinux2014_x86_64.whl.metadata (6.4 kB)\n",
            "Using cached gensim-4.3.3-cp311-cp311-manylinux_2_17_x86_64.manylinux2014_x86_64.whl (26.7 MB)\n",
            "Using cached numpy-1.26.4-cp311-cp311-manylinux_2_17_x86_64.manylinux2014_x86_64.whl (18.3 MB)\n",
            "Using cached scipy-1.13.1-cp311-cp311-manylinux_2_17_x86_64.manylinux2014_x86_64.whl (38.6 MB)\n",
            "Using cached smart_open-7.1.0-py3-none-any.whl (61 kB)\n",
            "Using cached wrapt-1.17.2-cp311-cp311-manylinux_2_5_x86_64.manylinux1_x86_64.manylinux_2_17_x86_64.manylinux2014_x86_64.whl (83 kB)\n",
            "Installing collected packages: wrapt, numpy, smart-open, scipy, gensim\n",
            "  Attempting uninstall: wrapt\n",
            "    Found existing installation: wrapt 1.17.2\n",
            "    Uninstalling wrapt-1.17.2:\n",
            "      Successfully uninstalled wrapt-1.17.2\n",
            "  Attempting uninstall: numpy\n",
            "    Found existing installation: numpy 2.2.6\n",
            "    Uninstalling numpy-2.2.6:\n",
            "      Successfully uninstalled numpy-2.2.6\n",
            "  Attempting uninstall: smart-open\n",
            "    Found existing installation: smart-open 7.1.0\n",
            "    Uninstalling smart-open-7.1.0:\n",
            "      Successfully uninstalled smart-open-7.1.0\n",
            "  Attempting uninstall: scipy\n",
            "    Found existing installation: scipy 1.13.1\n",
            "    Uninstalling scipy-1.13.1:\n",
            "      Successfully uninstalled scipy-1.13.1\n",
            "  Attempting uninstall: gensim\n",
            "    Found existing installation: gensim 4.3.3\n",
            "    Uninstalling gensim-4.3.3:\n",
            "      Successfully uninstalled gensim-4.3.3\n",
            "\u001b[31mERROR: pip's dependency resolver does not currently take into account all the packages that are installed. This behaviour is the source of the following dependency conflicts.\n",
            "thinc 8.3.6 requires numpy<3.0.0,>=2.0.0, but you have numpy 1.26.4 which is incompatible.\n",
            "tsfresh 0.21.0 requires scipy>=1.14.0; python_version >= \"3.10\", but you have scipy 1.13.1 which is incompatible.\u001b[0m\u001b[31m\n",
            "\u001b[0mSuccessfully installed gensim-4.3.3 numpy-1.26.4 scipy-1.13.1 smart-open-7.1.0 wrapt-1.17.2\n"
          ]
        }
      ],
      "source": [
        "!pip install --upgrade numpy\n",
        "!pip install --upgrade --force-reinstall gensim"
      ]
    },
    {
      "cell_type": "code",
      "execution_count": null,
      "metadata": {
        "colab": {
          "base_uri": "https://localhost:8080/"
        },
        "id": "hUYiqACyTuPf",
        "outputId": "871b70d2-4ed0-4e34-8379-c0c3176acf95"
      },
      "outputs": [
        {
          "name": "stdout",
          "output_type": "stream",
          "text": [
            "Requirement already satisfied: gensim in /usr/local/lib/python3.11/dist-packages (4.3.3)\n",
            "Requirement already satisfied: numpy<2.0,>=1.18.5 in /usr/local/lib/python3.11/dist-packages (from gensim) (1.26.4)\n",
            "Requirement already satisfied: scipy<1.14.0,>=1.7.0 in /usr/local/lib/python3.11/dist-packages (from gensim) (1.13.1)\n",
            "Requirement already satisfied: smart-open>=1.8.1 in /usr/local/lib/python3.11/dist-packages (from gensim) (7.1.0)\n",
            "Requirement already satisfied: wrapt in /usr/local/lib/python3.11/dist-packages (from smart-open>=1.8.1->gensim) (1.17.2)\n"
          ]
        }
      ],
      "source": [
        "!pip install gensim\n",
        "from gensim.models import Word2Vec"
      ]
    },
    {
      "cell_type": "code",
      "execution_count": null,
      "metadata": {
        "id": "Lld_QmLAqJg_"
      },
      "outputs": [],
      "source": [
        "import multiprocessing\n",
        "cores = multiprocessing.cpu_count() # Count the number of cores in a computer\n",
        "\n",
        "w2v_model = Word2Vec(min_count=20,\n",
        "                     window=2,\n",
        "                     vector_size=300,\n",
        "                     sample=6e-5,\n",
        "                     alpha=0.03,\n",
        "                     min_alpha=0.0007,\n",
        "                     negative=20,\n",
        "                     workers=cores-1)"
      ]
    },
    {
      "cell_type": "code",
      "execution_count": null,
      "metadata": {
        "colab": {
          "background_save": true,
          "base_uri": "https://localhost:8080/"
        },
        "id": "XeOz-Tr8eAmF",
        "outputId": "3e67e1ea-c7a7-482a-f1c1-654b2d1bb7cf"
      },
      "outputs": [
        {
          "name": "stdout",
          "output_type": "stream",
          "text": [
            "Vocab build time: 1.56 seconds\n",
            "Training time: 395.78 seconds\n",
            "Example vector shape: (300,)\n"
          ]
        }
      ],
      "source": [
        "from gensim.models import Word2Vec\n",
        "import numpy as np\n",
        "import time\n",
        "\n",
        "# Assuming train_df, val_df, test_df are ready and each has 'clean_tokens' as list of tokens\n",
        "\n",
        "# Prepare training sentences for Word2Vec\n",
        "train_sentences = train_df['clean_tokens'].tolist()  # list of token lists\n",
        "\n",
        "# Initialize Word2Vec model with desired params\n",
        "w2v_model = Word2Vec(\n",
        "    vector_size=300,  # embedding size\n",
        "    window=5,\n",
        "    min_count=5,      # ignore rare words\n",
        "    workers=4,        # number of CPU cores\n",
        "    sample=6e-5,\n",
        "    alpha=0.03,\n",
        "    min_alpha=0.0007,\n",
        "    negative=20\n",
        ")\n",
        "\n",
        "# Build vocabulary from training data\n",
        "t0 = time.time()\n",
        "w2v_model.build_vocab(train_sentences)\n",
        "print(f\"Vocab build time: {time.time() - t0:.2f} seconds\")\n",
        "\n",
        "# Train the Word2Vec model\n",
        "t1 = time.time()\n",
        "w2v_model.train(train_sentences, total_examples=w2v_model.corpus_count, epochs=30)\n",
        "print(f\"Training time: {time.time() - t1:.2f} seconds\")\n",
        "\n",
        "# Function to get averaged document vector\n",
        "def document_vector(tokens, model):\n",
        "    # filter tokens in vocab\n",
        "    tokens = [t for t in tokens if t in model.wv.key_to_index]\n",
        "    if len(tokens) == 0:\n",
        "        return np.zeros(model.vector_size)\n",
        "    return np.mean(model.wv[tokens], axis=0)\n",
        "\n",
        "# Create document vectors for each set\n",
        "train_df['w2v_vector'] = train_df['clean_tokens'].apply(lambda x: document_vector(x, w2v_model))\n",
        "val_df['w2v_vector'] = val_df['clean_tokens'].apply(lambda x: document_vector(x, w2v_model))\n",
        "test_df['w2v_vector'] = test_df['clean_tokens'].apply(lambda x: document_vector(x, w2v_model))\n",
        "\n",
        "# Example: check the shape of one vector\n",
        "print(\"Example vector shape:\", train_df['w2v_vector'].iloc[0].shape)\n"
      ]
    },
    {
      "cell_type": "code",
      "execution_count": null,
      "metadata": {
        "colab": {
          "background_save": true
        },
        "id": "KCht9p19A95R"
      },
      "outputs": [],
      "source": [
        "from sklearn.svm import SVC\n",
        "from sklearn.metrics import classification_report, accuracy_score\n",
        "from sklearn.preprocessing import LabelEncoder\n",
        "\n",
        "# Prepare data for SVM\n",
        "X_train = np.array(train_df['w2v_vector'].tolist())\n",
        "X_val = np.array(val_df['w2v_vector'].tolist())\n",
        "X_test = np.array(test_df['w2v_vector'].tolist())\n",
        "\n",
        "# Encode the labels\n",
        "label_encoder = LabelEncoder()\n",
        "y_train_encoded = label_encoder.fit_transform(train_df['type'])\n",
        "y_val_encoded = label_encoder.transform(val_df['type'])\n",
        "y_test_encoded = label_encoder.transform(test_df['type'])"
      ]
    },
    {
      "cell_type": "code",
      "execution_count": null,
      "metadata": {
        "id": "DO42Qr6Ts1MP"
      },
      "outputs": [],
      "source": [
        "svm_model = SVC(kernel='linear', probability=True, random_state=42)\n",
        "svm_model.fit(X_train, y_train_encoded)\n",
        "\n",
        "# Predict on validation set\n",
        "y_val_pred_encoded = svm_model.predict(X_val)\n",
        "y_val_pred_proba = svm_model.predict_proba(X_val)\n",
        "\n",
        "# Evaluate on validation set\n",
        "print(\"Validation Set Performance:\")\n",
        "print(f\"Accuracy: {accuracy_score(y_val_encoded, y_val_pred_encoded):.4f}\")\n",
        "print(\"Classification Report:\")\n",
        "print(classification_report(y_val_encoded, y_val_pred_encoded, target_names=label_encoder.classes_))\n",
        "\n",
        "# Predict on test set\n",
        "y_test_pred_encoded = svm_model.predict(X_test)\n",
        "y_test_pred_proba = svm_model.predict_proba(X_test)\n",
        "\n",
        "# Evaluate on test set\n",
        "print(\"\\nTest Set Performance:\")\n",
        "print(f\"Accuracy: {accuracy_score(y_test_encoded, y_test_pred_encoded):.4f}\")\n",
        "print(\"Classification Report:\")\n",
        "print(classification_report(y_test_encoded, y_test_pred_encoded, target_names=label_encoder.classes_))\n"
      ]
    },
    {
      "cell_type": "markdown",
      "metadata": {
        "id": "v-TxdU4NUX68"
      },
      "source": [
        "used straified splitting to mitigate target bias as shown in scripted type"
      ]
    },
    {
      "cell_type": "markdown",
      "metadata": {
        "id": "a-NYQ7NRdlHZ"
      },
      "source": [
        "# Additional Resources"
      ]
    },
    {
      "cell_type": "markdown",
      "metadata": {
        "id": "P_Kn8A4mJnJq"
      },
      "source": [
        "\n",
        "[Text Encoding](https://towardsdatascience.com/a-guide-to-encoding-text-in-python-ef783e50f09e)\n",
        "\n",
        "[Text Encoding 2](https://medium.com/geekculture/encoding-text-for-nlp-tasks-84696bce83e6)\n",
        "\n",
        "[Word Embeddings101](https://www.geeksforgeeks.org/word-embeddings-in-nlp/)\n",
        "\n",
        "[Data Representation](https://www.kdnuggets.com/2018/11/data-representation-natural-language-processing.html)\n",
        "\n",
        "\n",
        "[Gensim Models](https://tedboy.github.io/nlps/generated/gensim.models.html)\n",
        "\n",
        "[Machine Learning Techniques for Text Representation in NLP](https://www.analyticsvidhya.com/blog/2022/02/machine-learning-techniques-for-text-representation-in-nlp/)\n",
        "\n",
        "\n",
        "[Extracting Medical Information From Clinical Text With NLP](https://www.analyticsvidhya.com/blog/2023/02/extracting-medical-information-from-clinical-text-with-nlp/)\n",
        "\n",
        "[Supervised Learning of Universal Sentence Representations from Natural Language Inference Data](https://arxiv.org/abs/1705.02364)\n",
        "\n",
        "[word2vec tutorial](https://www.kaggle.com/code/pierremegret/gensim-word2vec-tutorial/notebook)\n",
        "\n",
        "[Building a Recommendation System using Word2vec](https://www.analyticsvidhya.com/blog/2019/07/how-to-build-recommendation-system-word2vec-python/?utm_source=reading_list&utm_medium=https://www.analyticsvidhya.com/blog/2020/08/top-4-sentence-embedding-techniques-using-python/)\n"
      ]
    }
  ],
  "metadata": {
    "colab": {
      "collapsed_sections": [
        "4e0229fc",
        "7339f59c",
        "IKYerfxBL8ep",
        "0SE62TbY6-35",
        "8sRb4rjtWUrX",
        "dnKChH5oMUcv",
        "6_JuNnx8Mmy-",
        "ed7xChW_M6Pu",
        "PkrAvuJUMo_t",
        "cj8kmuAgSsBg"
      ],
      "provenance": []
    },
    "kernelspec": {
      "display_name": "Python 3",
      "name": "python3"
    },
    "language_info": {
      "name": "python"
    }
  },
  "nbformat": 4,
  "nbformat_minor": 0
}